{
 "cells": [
  {
   "cell_type": "markdown",
   "metadata": {},
   "source": [
    "# Projet Machine Learning: Dis-moi qui tu es, je te dirais ce que tu écoutes.\n",
    "\n",
    "Dans un premier temps, nous allons préparer nos données ensuite nous essaierons de mettre en place plusieurs méthode de Machine Learning adaptées à la problématique du multi-label.\n",
    "\n",
    "## Predicting multi-target\n",
    "\n",
    "\n",
    "### Différence entre Multi-label classification et multi-class classification\n",
    "\n",
    "#### Classification multi-task\n",
    "inclue Multi-label classification et Multi-Class classification.\n",
    "Cherche a améliorer les performance en effectuant les tâches multiples simultanément.\n",
    "\n",
    "#### Multi-class classification\n",
    "La classification multiclass ou multinomial est un problème de classification des instances en 3 classes ou plus.\n",
    "Tandis que certains algorithmes de classification permettent naturellement d'utiliser d'avantage que deux classes, d'autres sont par nature des algorithms binaires. Ces derniers peuvent cependant être utilisé comme des classifieurs multinomiaux selon certaines méthodes.\n",
    "La classification multiclass ne doit pas être confondu avec la classification multi-label où plusieurs labels sont prédit pour chaque objet.\n",
    "\n",
    "#### Classification binaire\n",
    "Classificiation binaire ou binomiale est une tâche de classification des élément d'un ensemble donné en deux groupes (prédisant dans quel groupe un objet appartient) sur la base d'une règle de classification. \n",
    "\n",
    "#### Multi-label learning:\n",
    "La classificaition multi-label et son problème associé de classification à sortie multiple sont des variantes des problèmes de classification où plusieurs labels peuvent être assignés à chaque instance.\n",
    "la classification Multi-label est une généralisation de la classification multi-class qui est un probleme avec un seul label de catégoriser les instances entre plus de deux ensembles.\n",
    "\n",
    "En multi-label, il n'y a pas de containtes sur la quantité de classes auxuquels l'instance peut être assignée.\n",
    "\n",
    "La classification multi-label est un problème de trouver un modèle qui va relier l'entrée x à un vecteur binaire y (assigné une valeur 0 ou 1 pour chaque élément (label) dans y)\n",
    "\n",
    "\n",
    "le multi-label learning peut être divisé en trois catégories:\n",
    " * algorithm adaptation : Les méthodes multi-label qui adaptent, étendent et personnalisent des algorithmes de machine learning déjà existant afin qu'ils puissent gérer les problèmes de multi-label sans avoir recours aux méthodes de problem transformation.\n",
    " * problem transformation : Les méthodes de problem transformation sont des méthodes d'apprentissages multi-label qui tranforment le problème de multi-label en un ou plusieurs problèmes de classification ou de régression à un seul label.\n",
    " * ensemble classification : Les méthodes ensemblistes pour l'apprentissage multi-label sont développées en s'appuyant les méthodes d'alogrithm adapatation et les problem transformations.\n",
    "\n",
    "\n",
    "## Reference\n",
    "\n",
    "https://en.wikipedia.org/wiki/Multi-label_classification\n",
    "\n",
    "Package pour le multi-label:  \n",
    "http://scikit.ml/api/classify.html\n",
    "\n",
    "https://www.slideshare.net/cscpconf/comparative-evaluation-of-four-multilabel-classification-algorithms-in-classifying-learning-objects\n",
    "\n",
    "https://stackoverflow.com/questions/37858697/scikit-learn-multi-label-classification\n",
    "\n",
    "http://kt.ijs.si/DragiKocev/wikipage/lib/exe/fetch.php?media=2012pr_ml_comparison.pdf\n",
    "\n",
    "https://stackoverflow.com/questions/44107236/example-of-multi-label-multi-classmulti-output-randomforest-nearest-neighbo\n",
    "\n",
    "https://stackoverflow.com/questions/37858697/scikit-learn-multi-label-classification\n",
    "\n",
    "Une proposition d'implémentation de BP-MLL:  \n",
    "https://github.com/vanHavel/bp-mll-tensorflow"
   ]
  },
  {
   "cell_type": "code",
   "execution_count": 1,
   "metadata": {
    "collapsed": true
   },
   "outputs": [],
   "source": [
    "import pandas as pd\n",
    "import numpy as np\n",
    "import skmultilearn\n",
    "\n",
    "from skmultilearn.problem_transform import LabelPowerset\n",
    "from skmultilearn.problem_transform import BinaryRelevance\n",
    "\n",
    "from sklearn.svm import SVC\n",
    "from sklearn.naive_bayes import GaussianNB\n",
    "from sklearn.ensemble import RandomForestClassifier\n",
    "from sklearn.neighbors import KNeighborsClassifier\n",
    "from sklearn.ensemble import AdaBoostClassifier\n",
    "from sklearn.metrics import f1_score\n",
    "from sklearn.decomposition import PCA\n",
    "from sklearn.model_selection import train_test_split\n",
    "\n",
    "import matplotlib.pyplot as plt\n",
    "import matplotlib"
   ]
  },
  {
   "cell_type": "markdown",
   "metadata": {},
   "source": [
    "## Préparer les données\n",
    "\n",
    "On charge les données en séparant nos target (les musiques) et les différentes colonnes par type.\n",
    "Nous retirons si la personne aime ou non la musique de manière général car ses résultats faussait le résultat général.\n",
    "Nous retirons également toutes les données non renseignées."
   ]
  },
  {
   "cell_type": "code",
   "execution_count": 2,
   "metadata": {
    "collapsed": true
   },
   "outputs": [],
   "source": [
    "# load datas\n",
    "donnees = pd.read_csv(\"../Source/responses.csv\", \",\")\n",
    "\n",
    "cols_target = ['Slow songs or fast songs','Dance','Folk','Country','Classical music','Musical','Pop','Rock', 'Metal or Hardrock', 'Punk', 'Hiphop, Rap', 'Reggae, Ska', 'Swing, Jazz', 'Rock n roll', 'Alternative', 'Latino', 'Techno, Trance', 'Opera']\n",
    "cols_movies = ['Movies', 'Horror','Thriller','Comedy','Romantic', 'Sci-fi','War','Fantasy/Fairy tales','Animated','Documentary','Western','Action']\n",
    "cols_hobbies = ['Cars','Art exhibitions','Religion','Countryside, outdoors','Dancing','Musical instruments','Writing','Passive sport','Active sport','Gardening','Celebrities','Shopping','Science and technology','Theatre','Fun with friends', 'Adrenaline sports','Pets'\n",
    "]\n",
    "cols_interest = ['History','Psychology','Politics','Mathematics','Physics','Internet','PC','Economy Management', 'Biology', 'Chemistry','Reading','Geography','Foreign languages','Medicine','Law'\n",
    "]\n",
    "cols_phobias = ['Flying','Storm','Darkness','Heights','Spiders','Snakes','Rats','Ageing','Dangerous dogs','Fear of public speaking'\n",
    "]\n",
    "cols_personnality = ['Daily events','Prioritising workload','Writing notes','Workaholism','Thinking ahead','Final judgement','Reliability','Keeping promises','Loss of interest','Friends versus money','Funniness','Fake','Criminal damage','Decision making','Elections','Self-criticism','Judgment calls','Hypochondria','Empathy','Eating to survive','Giving','Compassion to animals','Borrowed stuff','Loneliness','Cheating in school','Health','Changing the past','God','Dreams','Charity',\"Number of friends\",\"Waiting\",\"New environment\",\"Mood swings\",\"Appearence and gestures\",\"Socializing\",\"Achievements\",\"Responding to a serious letter\",\"Children\",\"Assertiveness\",\"Getting angry\",\"Knowing the right people\",\"Public speaking\",\"Unpopularity\",\"Life struggles\",\"Happiness in life\",\"Energy levels\",\"Small - big dogs\",\"Personality\",\"Finding lost valuables\",\"Getting up\",\"Interests or hobbies\",\"Parents' advice\",\"Questionnaires or polls\"\n",
    "]\n",
    "cols_spending = [\"Finances\",\"Shopping centres\",\"Branded clothing\",\"Entertainment spending\",\"Spending on looks\",\"Spending on gadgets\",\"Spending on healthy eating\"]\n",
    "\n",
    "donnees = donnees.dropna(axis=0, how='any')\n",
    "\n",
    "target = donnees[cols_target]\n",
    "\n",
    "carac = donnees.drop(axis =1,labels=cols_target)\n"
   ]
  },
  {
   "cell_type": "markdown",
   "metadata": {},
   "source": [
    "On manipule les données afin de nous assurer d'avoir le format désiré: retirer les données catégorielles pour ne travailler que sur des données entières.\n",
    "De plus, nous retirons les 4 colonnes qui ne seront pas binarisables aisément (Age, Height, Weight et Number of siblings).\n"
   ]
  },
  {
   "cell_type": "code",
   "execution_count": 3,
   "metadata": {
    "collapsed": true
   },
   "outputs": [],
   "source": [
    "\n",
    "# On sépare les différents type de données (int, float et object(catégorical))\n",
    "carac_int = carac.select_dtypes(include=['int'])\n",
    "carac_object = carac.select_dtypes(include=['object'])\n",
    "carac_float = carac.select_dtypes(include=['float'])\n",
    "\n",
    "\n",
    "# En observant le dataset, on peut modifier tous les float en int.\n",
    "carac_int = carac.select_dtypes(exclude=[object])\n",
    "carac_int = carac_int.astype('int')\n",
    "target = target.astype('int')\n",
    "\n",
    "\n",
    "# On sépare Age, Taille, Poids et nombre de frères et soeurs qui ne sont pas sur l'échelle 1-5 de préférence.\n",
    "cols = ['Age', 'Height', 'Weight', 'Number of siblings']\n",
    "test= ['Age']\n",
    "carac_int1 = carac_int.drop(axis=1, labels=cols)\n",
    "carac_int2 = carac_int[cols]\n",
    "\n",
    "\n",
    "# On sépare chaque caractéristiques en plusieurs sous-groupe pour permettre une étude plus pertinente.\n",
    "carac_movies= carac_int[cols_movies]\n",
    "carac_hobbies = carac_int[cols_hobbies]\n",
    "carac_interests = carac_int[cols_interest]\n",
    "carac_phobias = carac_int[cols_phobias]\n",
    "carac_personnality = carac_int[cols_personnality]\n",
    "carac_spending = carac_int[cols_spending]\n"
   ]
  },
  {
   "cell_type": "markdown",
   "metadata": {},
   "source": [
    "On calcule les PCAs des différents jeux de données sur lesquels nous essaierons de faire nos prédictions et ont rajoutes le nombre de PCAs qui permettent d'avoir > 0,75 "
   ]
  },
  {
   "cell_type": "code",
   "execution_count": 4,
   "metadata": {},
   "outputs": [
    {
     "name": "stdout",
     "output_type": "stream",
     "text": [
      "[ 0.07702285  0.1346205   0.18346144  0.21577729  0.24603135  0.27536953\n",
      "  0.29918212  0.32139112  0.34197777  0.361225    0.37959072  0.39651953\n",
      "  0.41234958  0.42788469  0.44266961  0.45667121  0.4701976   0.48342323\n",
      "  0.49604902  0.50834175  0.52022228  0.53165958  0.54280251  0.55360183\n",
      "  0.56408227  0.57433981  0.58451705  0.59439434  0.60412048  0.61362655\n",
      "  0.62301956  0.63223381  0.64115605  0.64983524  0.65828541  0.66664794\n",
      "  0.67468926  0.68259121  0.69037374  0.69793665  0.70535872  0.71263615\n",
      "  0.71982797  0.72686911  0.73381304  0.74058165  0.74725717  0.7538495\n",
      "  0.76028377  0.76661633  0.77287871  0.779074    0.78522928  0.79128329\n",
      "  0.79713454  0.80277737  0.80839151  0.81396379  0.81940915  0.8247564\n",
      "  0.83000016  0.83514413  0.84017281  0.84511296  0.84997709  0.85478995\n",
      "  0.85953213  0.86406418  0.86851794  0.87281086  0.87707357  0.88126694\n",
      "  0.88539806  0.88948051  0.8934925   0.89741682  0.90131172  0.90512102\n",
      "  0.90883313  0.91246603  0.91597759  0.91938658  0.92272298  0.92602712\n",
      "  0.92925041  0.93243434  0.93553317  0.93859267  0.94162026  0.94455915\n",
      "  0.94742282  0.95019871  0.95290894  0.9555707   0.95817675  0.96073963\n",
      "  0.96324275  0.96566381  0.96803671  0.97040084  0.97269989  0.97487647\n",
      "  0.97702774  0.97912042  0.98115266  0.98311227  0.98499917  0.9868398\n",
      "  0.98865495  0.9904012   0.99205409  0.99363697  0.9950735   0.99640386\n",
      "  0.99767333  0.99887486  1.        ]\n",
      "[ 0.86100236  0.97244532  0.99664354  1.        ]\n",
      "\n",
      "Movies:\n",
      "[ 0.238988    0.41026746  0.5464128   0.63492895  0.71087376  0.77471684\n",
      "  0.8331736   0.88394211  0.92621226  0.95365201  0.97831061  1.        ]\n",
      "\n",
      "Hobbies:\n",
      "[ 0.17229462  0.30647849  0.41322409  0.48571748  0.54898373  0.60567685\n",
      "  0.66030146  0.71208941  0.75859964  0.80049103  0.84061757  0.87691561\n",
      "  0.9091327   0.9374497   0.96318304  0.98584176  1.        ]\n",
      "\n",
      "Interests:\n",
      "[ 0.19726895  0.36189028  0.5065965   0.58429546  0.65413011  0.71484101\n",
      "  0.76905696  0.81583226  0.85193518  0.88350417  0.91414547  0.93859118\n",
      "  0.96162754  0.9817785   1.        ]\n",
      "\n",
      "Phobias:\n",
      "[ 0.33492904  0.44807284  0.55249569  0.64093645  0.72007381  0.79059368\n",
      "  0.85838293  0.91778971  0.96606496  1.        ]\n",
      "\n",
      "Personnality:\n",
      "[ 0.08590127  0.16152821  0.21317885  0.26089714  0.30109273  0.33951022\n",
      "  0.36892088  0.39700696  0.42403727  0.4499687   0.47423084  0.49721682\n",
      "  0.51874282  0.5394826   0.56002549  0.57904998  0.597553    0.61542461\n",
      "  0.63264854  0.64969782  0.66625609  0.68233773  0.69815667  0.71346901\n",
      "  0.72849968  0.74262157  0.75639716  0.76990002  0.78298273  0.79558756\n",
      "  0.80798979  0.82013473  0.83167948  0.84307746  0.85381844  0.86429698\n",
      "  0.87466703  0.88477339  0.89457942  0.90421994  0.91355204  0.92254905\n",
      "  0.93152614  0.93981955  0.94758487  0.95515415  0.96238406  0.96908806\n",
      "  0.97565105  0.98165982  0.98744093  0.99237071  0.99650007  1.        ]\n",
      "\n",
      " Spending:\n",
      "[ 0.36248369  0.52751628  0.66205518  0.76467893  0.85614525  0.93740359\n",
      "  1.        ]\n"
     ]
    }
   ],
   "source": [
    "\n",
    "# Calcule des PCAs\n",
    "pca = PCA()\n",
    "\n",
    "pca = pca.fit(carac_int1)\n",
    "print(pca.explained_variance_ratio_.cumsum())\n",
    "\n",
    "\n",
    "pca = PCA(n_components = 72)\n",
    "carac_int_PCA = pca.fit_transform(carac_int1)\n",
    "\n",
    "carac_int_concat = np.hstack([carac_int1, carac_int_PCA])\n",
    "carac_int_concat = pd.DataFrame(carac_int_concat)\n",
    "\n",
    "pca = PCA()\n",
    "pca = pca.fit(carac_int2)\n",
    "print(pca.explained_variance_ratio_.cumsum())\n",
    "\n",
    "# On constate qe ce sont les variables que l'on ne peut pas binarisées qui offrent le plus d'informations.\n",
    "# En effet, l'age serait un élément déterminant de ce que montre le PCA.\n",
    "\n",
    "# Movies\n",
    "pca = PCA()\n",
    "print(\"\\nMovies:\")\n",
    "pca = pca.fit(carac_movies)\n",
    "print(pca.explained_variance_ratio_.cumsum())\n",
    "\n",
    "pca = PCA(n_components = 6)\n",
    "carac_movies_PCA = pca.fit_transform(carac_movies)\n",
    "\n",
    "carac_movies_concat = np.hstack([carac_movies, carac_movies_PCA])\n",
    "carac_movies_concat = pd.DataFrame(carac_movies_concat)\n",
    "\n",
    "# Hobbies\n",
    "pca = PCA()\n",
    "print(\"\\nHobbies:\")\n",
    "pca = pca.fit(carac_hobbies)\n",
    "print(pca.explained_variance_ratio_.cumsum())\n",
    "\n",
    "pca = PCA(n_components = 4)\n",
    "carac_hobbies_PCA = pca.fit_transform(carac_hobbies)\n",
    "\n",
    "carac_hobbies_concat = np.hstack([carac_hobbies, carac_hobbies_PCA])\n",
    "carac_hobbies_concat = pd.DataFrame(carac_hobbies_concat)\n",
    "\n",
    "# Interests\n",
    "pca = PCA()\n",
    "print(\"\\nInterests:\")\n",
    "pca = pca.fit(carac_interests)\n",
    "print(pca.explained_variance_ratio_.cumsum())\n",
    "\n",
    "pca = PCA(n_components = 7)\n",
    "carac_interests_PCA = pca.fit_transform(carac_interests)\n",
    "\n",
    "carac_interests_concat = np.hstack([carac_interests, carac_interests_PCA])\n",
    "carac_interests_concat = pd.DataFrame(carac_interests_concat)\n",
    "\n",
    "# Phobias\n",
    "pca = PCA()\n",
    "print(\"\\nPhobias:\")\n",
    "pca = pca.fit(carac_phobias)\n",
    "print(pca.explained_variance_ratio_.cumsum())\n",
    "\n",
    "pca = PCA(n_components = 6)\n",
    "carac_phobias_PCA = pca.fit_transform(carac_phobias)\n",
    "\n",
    "carac_phobias_concat = np.hstack([carac_phobias, carac_phobias_PCA])\n",
    "carac_phobias_concat = pd.DataFrame(carac_phobias_concat)\n",
    "\n",
    "# Personnality\n",
    "pca = PCA()\n",
    "print(\"\\nPersonnality:\")\n",
    "pca = pca.fit(carac_personnality)\n",
    "print(pca.explained_variance_ratio_.cumsum())\n",
    "\n",
    "pca = PCA(n_components = 27)\n",
    "carac_personnality_PCA = pca.fit_transform(carac_personnality)\n",
    "\n",
    "carac_personnality_concat = np.hstack([carac_personnality, carac_personnality_PCA])\n",
    "carac_personnality_concat = pd.DataFrame(carac_personnality_concat)\n",
    "\n",
    "# Spending\n",
    "pca = PCA()\n",
    "print(\"\\n Spending:\")\n",
    "pca = pca.fit(carac_spending)\n",
    "print(pca.explained_variance_ratio_.cumsum())\n",
    "\n",
    "pca = PCA(n_components = 4)\n",
    "carac_spending_PCA = pca.fit_transform(carac_spending)\n",
    "\n",
    "carac_spending_concat = np.hstack([carac_spending, carac_spending_PCA])\n",
    "carac_spending_concat = pd.DataFrame(carac_spending_concat)"
   ]
  },
  {
   "cell_type": "markdown",
   "metadata": {},
   "source": [
    "### binariser les données\n",
    "\n",
    "On binarise afin de pouvoir utiliser plus aisément les différents algorithmes de multi-label."
   ]
  },
  {
   "cell_type": "code",
   "execution_count": 77,
   "metadata": {},
   "outputs": [
    {
     "name": "stdout",
     "output_type": "stream",
     "text": [
      "Repartition:\n",
      " Slow songs or fast songs : \n"
     ]
    },
    {
     "data": {
      "image/png": "[encoded data removed]",
      "text/plain": [
       "<matplotlib.figure.Figure at 0x7fde817a0780>"
      ]
     },
     "metadata": {},
     "output_type": "display_data"
    },
    {
     "name": "stdout",
     "output_type": "stream",
     "text": [
      " Dance : \n"
     ]
    },
    {
     "data": {
      "image/png": "[encoded data removed]",
      "text/plain": [
       "<matplotlib.figure.Figure at 0x7fde817047b8>"
      ]
     },
     "metadata": {},
     "output_type": "display_data"
    },
    {
     "name": "stdout",
     "output_type": "stream",
     "text": [
      " Folk : \n"
     ]
    },
    {
     "data": {
      "image/png": "[encoded data removed]",
      "text/plain": [
       "<matplotlib.figure.Figure at 0x7fde81be1550>"
      ]
     },
     "metadata": {},
     "output_type": "display_data"
    },
    {
     "name": "stdout",
     "output_type": "stream",
     "text": [
      " Country : \n"
     ]
    },
    {
     "data": {
      "image/png": "[encoded data removed]",
      "text/plain": [
       "<matplotlib.figure.Figure at 0x7fde81b53a90>"
      ]
     },
     "metadata": {},
     "output_type": "display_data"
    },
    {
     "name": "stdout",
     "output_type": "stream",
     "text": [
      " Classical music : \n"
     ]
    },
    {
     "data": {
      "image/png": "[encoded data removed]",
      "text/plain": [
       "<matplotlib.figure.Figure at 0x7fde81bb28d0>"
      ]
     },
     "metadata": {},
     "output_type": "display_data"
    },
    {
     "name": "stdout",
     "output_type": "stream",
     "text": [
      " Musical : \n"
     ]
    },
    {
     "data": {
      "image/png": "[encoded data removed]",
      "text/plain": [
       "<matplotlib.figure.Figure at 0x7fde81c1f588>"
      ]
     },
     "metadata": {},
     "output_type": "display_data"
    },
    {
     "name": "stdout",
     "output_type": "stream",
     "text": [
      " Pop : \n"
     ]
    },
    {
     "data": {
      "image/png": "[encoded data removed]",
      "text/plain": [
       "<matplotlib.figure.Figure at 0x7fde81d80860>"
      ]
     },
     "metadata": {},
     "output_type": "display_data"
    },
    {
     "name": "stdout",
     "output_type": "stream",
     "text": [
      " Rock : \n"
     ]
    },
    {
     "data": {
      "image/png": "[encoded data removed]",
      "text/plain": [
       "<matplotlib.figure.Figure at 0x7fde816eada0>"
      ]
     },
     "metadata": {},
     "output_type": "display_data"
    },
    {
     "name": "stdout",
     "output_type": "stream",
     "text": [
      " Metal or Hardrock : \n"
     ]
    },
    {
     "data": {
      "image/png": "[encoded data removed]",
      "text/plain": [
       "<matplotlib.figure.Figure at 0x7fde815d76d8>"
      ]
     },
     "metadata": {},
     "output_type": "display_data"
    },
    {
     "name": "stdout",
     "output_type": "stream",
     "text": [
      " Punk : \n"
     ]
    },
    {
     "data": {
      "image/png": "[encoded data removed]",
      "text/plain": [
       "<matplotlib.figure.Figure at 0x7fde816ec4a8>"
      ]
     },
     "metadata": {},
     "output_type": "display_data"
    },
    {
     "name": "stdout",
     "output_type": "stream",
     "text": [
      " Hiphop, Rap : \n"
     ]
    },
    {
     "data": {
      "image/png": "[encoded data removed]",
      "text/plain": [
       "<matplotlib.figure.Figure at 0x7fde81bb27b8>"
      ]
     },
     "metadata": {},
     "output_type": "display_data"
    },
    {
     "name": "stdout",
     "output_type": "stream",
     "text": [
      " Reggae, Ska : \n"
     ]
    },
    {
     "data": {
      "image/png": "[encoded data removed]",
      "text/plain": [
       "<matplotlib.figure.Figure at 0x7fde817bbe80>"
      ]
     },
     "metadata": {},
     "output_type": "display_data"
    },
    {
     "name": "stdout",
     "output_type": "stream",
     "text": [
      " Swing, Jazz : \n"
     ]
    },
    {
     "data": {
      "image/png": "[encoded data removed]",
      "text/plain": [
       "<matplotlib.figure.Figure at 0x7fde817c5c18>"
      ]
     },
     "metadata": {},
     "output_type": "display_data"
    },
    {
     "name": "stdout",
     "output_type": "stream",
     "text": [
      " Rock n roll : \n"
     ]
    },
    {
     "data": {
      "image/png": "[encoded data removed]",
      "text/plain": [
       "<matplotlib.figure.Figure at 0x7fde81cdeb38>"
      ]
     },
     "metadata": {},
     "output_type": "display_data"
    },
    {
     "name": "stdout",
     "output_type": "stream",
     "text": [
      " Alternative : \n"
     ]
    },
    {
     "data": {
      "image/png": "[encoded data removed]",
      "text/plain": [
       "<matplotlib.figure.Figure at 0x7fde81715dd8>"
      ]
     },
     "metadata": {},
     "output_type": "display_data"
    },
    {
     "name": "stdout",
     "output_type": "stream",
     "text": [
      " Latino : \n"
     ]
    },
    {
     "data": {
      "image/png": "[encoded data removed]",
      "text/plain": [
       "<matplotlib.figure.Figure at 0x7fde81ca0cc0>"
      ]
     },
     "metadata": {},
     "output_type": "display_data"
    },
    {
     "name": "stdout",
     "output_type": "stream",
     "text": [
      " Techno, Trance : \n"
     ]
    },
    {
     "data": {
      "image/png": "[encoded data removed]",
      "text/plain": [
       "<matplotlib.figure.Figure at 0x7fde81b8f128>"
      ]
     },
     "metadata": {},
     "output_type": "display_data"
    },
    {
     "name": "stdout",
     "output_type": "stream",
     "text": [
      " Opera : \n"
     ]
    },
    {
     "data": {
      "image/png": "[encoded data removed]",
      "text/plain": [
       "<matplotlib.figure.Figure at 0x7fde81da2828>"
      ]
     },
     "metadata": {},
     "output_type": "display_data"
    }
   ],
   "source": [
    "# Dans un premier temps, nous n'allons travailler que sur les données ayant une échelle de 1 à 5.\n",
    "#Nous laissons de côtés les données catégorical ou avec trop de variance comme le poid ou le nombre de frères et soeurs.\n",
    "\n",
    "target_bin = target.replace([3,2,1], 0)\n",
    "target_bin = target_bin.replace([4,5], 1)\n",
    "\n",
    "carac_int_bin = carac_int_concat.replace([3,2,1], 0)\n",
    "carac_int_bin = carac_int_bin.replace([4,5], 1)\n",
    "\n",
    "carac_movies_bin = carac_movies_concat.replace([3,2,1], 0)\n",
    "carac_movies_bin = carac_movies_bin.replace([4,5], 1)\n",
    "\n",
    "carac_hobbies_bin = carac_hobbies_concat.replace([3,2,1], 0)\n",
    "carac_hobbies_bin = carac_hobbies_bin.replace([4,5], 1)\n",
    "\n",
    "carac_interests_bin = carac_interests_concat.replace([3,2,1], 0)\n",
    "carac_interests_bin = carac_interests_bin.replace([4,5], 1)\n",
    "\n",
    "carac_phobias_bin = carac_phobias_concat.replace([3,2,1], 0)\n",
    "carac_phobias_bin = carac_phobias_bin.replace([4,5], 1)\n",
    "\n",
    "carac_personnality_bin = carac_personnality_concat.replace([3,2,1], 0)\n",
    "carac_personnality_bin = carac_personnality_bin.replace([4,5], 1)\n",
    "\n",
    "carac_spending_bin = carac_spending_concat.replace([3,2,1], 0)\n",
    "carac_spending_bin = carac_spending_bin.replace([4,5], 1)\n",
    "\n",
    "def afficheHist(nom):\n",
    "    print(\" {} : \".format(nom))\n",
    "    plt.hist(target_bin[nom].T)\n",
    "    plt.show()\n",
    "\n",
    "\n",
    "print(\"Repartition:\")\n",
    "\n",
    "for music in target_bin:\n",
    "    afficheHist(music)\n"
   ]
  },
  {
   "cell_type": "markdown",
   "metadata": {},
   "source": [
    "# Transformation Method"
   ]
  },
  {
   "cell_type": "markdown",
   "metadata": {},
   "source": [
    "## LabelPowerset"
   ]
  },
  {
   "cell_type": "code",
   "execution_count": 58,
   "metadata": {
    "collapsed": true
   },
   "outputs": [],
   "source": [
    "\n",
    "def testLabelPowerset(carac, classifier):\n",
    "    x_train , x_test, y_train, y_test = train_test_split(carac, target_bin ,test_size=0.3, random_state = 42)\n",
    "\n",
    "    # initialize Label Powerset multi-label classifier\n",
    "    # with a gaussian naive bayes base classifier\n",
    "    classifier = LabelPowerset(classifier)\n",
    "\n",
    "    # train\n",
    "    classifier.fit(x_train, y_train)\n",
    "\n",
    "    # predict\n",
    "    predictions = classifier.predict(x_test)\n",
    "\n",
    "    print(f1_score(y_test, predictions, average='macro'))\n",
    "    print(f1_score(y_test, predictions, average='micro')) \n",
    "    print(f1_score(y_test, predictions, average='weighted'))\n",
    "    print(f1_score(y_test, predictions, average=None))"
   ]
  },
  {
   "cell_type": "code",
   "execution_count": 59,
   "metadata": {},
   "outputs": [
    {
     "name": "stdout",
     "output_type": "stream",
     "text": [
      "\n",
      " Ensemble des donnees - RandomForest :\n",
      "0.298241859669\n",
      "0.354156881165\n",
      "0.347422993486\n",
      "[ 0.26356589  0.45        0.12765957  0.1025641   0.34710744  0.21359223\n",
      "  0.51612903  0.63492063  0.23913043  0.26190476  0.43421053  0.25688073\n",
      "  0.28828829  0.36024845  0.24137931  0.30769231  0.2247191   0.09836066]\n",
      "\n",
      " Ensemble des donnees - GaussianNB :\n"
     ]
    },
    {
     "name": "stderr",
     "output_type": "stream",
     "text": [
      "/home/kylaste/anaconda3/lib/python3.6/site-packages/sklearn/metrics/classification.py:1135: UndefinedMetricWarning: F-score is ill-defined and being set to 0.0 in labels with no predicted samples.\n",
      "  'precision', 'predicted', average, warn_for)\n"
     ]
    },
    {
     "name": "stdout",
     "output_type": "stream",
     "text": [
      "0.0356099794795\n",
      "0.0588730025231\n",
      "0.0514579917611\n",
      "[ 0.          0.07228916  0.          0.          0.          0.\n",
      "  0.07619048  0.23684211  0.          0.          0.02631579  0.          0.\n",
      "  0.          0.14893617  0.03278689  0.04761905  0.        ]\n",
      "\n",
      " Ensemble des donnees - KNeighbors :\n",
      "0.345731508359\n",
      "0.397595931577\n",
      "0.390643351149\n",
      "[ 0.31034483  0.45283019  0.19047619  0.          0.26923077  0.43809524\n",
      "  0.54187192  0.651341    0.36363636  0.33628319  0.26771654  0.27659574\n",
      "  0.26923077  0.42424242  0.47058824  0.42735043  0.21333333  0.32      ]\n",
      "\n",
      " Ensemble des donnees - AdaBoost :\n",
      "0.0251066246332\n",
      "0.0262697022767\n",
      "0.0261082147394\n",
      "[ 0.03448276  0.05063291  0.06666667  0.          0.05633803  0.          0.\n",
      "  0.0483871   0.03921569  0.04347826  0.          0.          0.03448276\n",
      "  0.04597701  0.          0.03225806  0.          0.        ]\n"
     ]
    },
    {
     "name": "stderr",
     "output_type": "stream",
     "text": [
      "/home/kylaste/anaconda3/lib/python3.6/site-packages/sklearn/metrics/classification.py:1135: UndefinedMetricWarning: F-score is ill-defined and being set to 0.0 in labels with no predicted samples.\n",
      "  'precision', 'predicted', average, warn_for)\n"
     ]
    }
   ],
   "source": [
    "\n",
    "print(\"\\n Ensemble des donnees - RandomForest :\")\n",
    "testLabelPowerset(carac_int_bin, RandomForestClassifier())\n",
    "\n",
    "print(\"\\n Ensemble des donnees - GaussianNB :\")\n",
    "testLabelPowerset(carac_int_bin, GaussianNB())\n",
    "\n",
    "print(\"\\n Ensemble des donnees - KNeighbors :\")\n",
    "testLabelPowerset(carac_int_bin, KNeighborsClassifier())\n",
    "\n",
    "print(\"\\n Ensemble des donnees - AdaBoost :\")\n",
    "testLabelPowerset(carac_int_bin, AdaBoostClassifier())"
   ]
  },
  {
   "cell_type": "code",
   "execution_count": 60,
   "metadata": {},
   "outputs": [
    {
     "name": "stdout",
     "output_type": "stream",
     "text": [
      "\n",
      " Movies - RandomForest:\n",
      "0.327081507587\n",
      "0.374437443744\n",
      "0.370648049701\n",
      "[ 0.28828829  0.39751553  0.10714286  0.22727273  0.3125      0.35087719\n",
      "  0.51886792  0.640625    0.34951456  0.28        0.30656934  0.26315789\n",
      "  0.21666667  0.52631579  0.34375     0.30252101  0.25        0.20588235]\n",
      "\n",
      " Hobbies - RandomForest:\n",
      "0.334540708679\n",
      "0.386013986014\n",
      "0.379824389633\n",
      "[ 0.31343284  0.42384106  0.28070175  0.09302326  0.38333333  0.28571429\n",
      "  0.56435644  0.65338645  0.32075472  0.3030303   0.46575342  0.25490196\n",
      "  0.28865979  0.33557047  0.42962963  0.26923077  0.19512195  0.16129032]\n",
      "\n",
      " Interests - RandomForest:\n",
      "0.339682831795\n",
      "0.383244206774\n",
      "0.380970624277\n",
      "[ 0.34482759  0.39506173  0.15873016  0.11764706  0.40944882  0.36507937\n",
      "  0.48        0.64122137  0.33333333  0.29126214  0.27941176  0.26548673\n",
      "  0.36363636  0.44186047  0.3875969   0.35483871  0.27272727  0.21212121]\n",
      "\n",
      " Phobias - RandomForest:\n",
      "0.299145380817\n",
      "0.352206865805\n",
      "0.348491641676\n",
      "[ 0.25862069  0.37837838  0.03076923  0.23728814  0.26470588  0.28571429\n",
      "  0.43617021  0.70992366  0.3047619   0.24528302  0.26771654  0.17699115\n",
      "  0.36507937  0.50549451  0.32835821  0.33613445  0.16091954  0.09230769]\n",
      "\n",
      " Personnality - RandomForest:\n",
      "0.284482931601\n",
      "0.347083926031\n",
      "0.333776669273\n",
      "[ 0.29752066  0.46625767  0.07843137  0.13043478  0.27642276  0.08510638\n",
      "  0.52777778  0.63453815  0.21978022  0.17977528  0.32835821  0.24347826\n",
      "  0.41935484  0.36        0.33962264  0.1980198   0.25581395  0.08      ]\n",
      "\n",
      " Spending - RandomForest:\n",
      "0.294825910106\n",
      "0.343546889508\n",
      "0.339937164718\n",
      "[ 0.23622047  0.34013605  0.14814815  0.14634146  0.3         0.3125\n",
      "  0.51256281  0.56790123  0.17391304  0.21052632  0.37333333  0.31666667\n",
      "  0.34862385  0.39215686  0.32478632  0.36220472  0.14084507  0.1       ]\n"
     ]
    }
   ],
   "source": [
    "# Movies\n",
    "print(\"\\n Movies - RandomForest:\")\n",
    "testLabelPowerset(carac_movies_bin, RandomForestClassifier())\n",
    "\n",
    "# Hobbies\n",
    "print(\"\\n Hobbies - RandomForest:\")\n",
    "testLabelPowerset(carac_hobbies_bin, RandomForestClassifier())\n",
    "\n",
    "# Interests\n",
    "print(\"\\n Interests - RandomForest:\")\n",
    "testLabelPowerset(carac_interests_bin, RandomForestClassifier())\n",
    "\n",
    "# Phobias\n",
    "print(\"\\n Phobias - RandomForest:\")\n",
    "testLabelPowerset(carac_phobias_bin, RandomForestClassifier())\n",
    "\n",
    "# Personnality\n",
    "print(\"\\n Personnality - RandomForest:\")\n",
    "testLabelPowerset(carac_personnality_bin, RandomForestClassifier())\n",
    "\n",
    "# Spending\n",
    "print(\"\\n Spending - RandomForest:\")\n",
    "testLabelPowerset(carac_spending_bin, RandomForestClassifier())\n",
    "\n"
   ]
  },
  {
   "cell_type": "markdown",
   "metadata": {},
   "source": [
    "## Binary Relevance"
   ]
  },
  {
   "cell_type": "code",
   "execution_count": 40,
   "metadata": {
    "collapsed": true
   },
   "outputs": [],
   "source": [
    "def testBinaryRelevance(carac, classifier):\n",
    "    x_train , x_test, y_train, y_test = train_test_split(carac, target_bin ,test_size=0.3, random_state = 42)\n",
    "    \n",
    "    # initialize Binary Relevance multi-label classifier\n",
    "    # with an SVM classifier\n",
    "    # SVM in scikit only supports the X matrix in sparse representation\n",
    "\n",
    "    classifier = BinaryRelevance(classifier = classifier, require_dense = [False, True])\n",
    "\n",
    "    # train\n",
    "    classifier.fit(x_train, y_train)\n",
    "\n",
    "    # predict\n",
    "    predictions = classifier.predict(x_test)\n",
    "\n",
    "    print(f1_score(y_test, predictions, average='macro'))\n",
    "    print(f1_score(y_test, predictions, average='micro')) \n",
    "    print(f1_score(y_test, predictions, average='weighted'))\n",
    "    print(f1_score(y_test, predictions, average=None))"
   ]
  },
  {
   "cell_type": "code",
   "execution_count": 61,
   "metadata": {},
   "outputs": [
    {
     "name": "stdout",
     "output_type": "stream",
     "text": [
      "\n",
      " Ensemble de donnees - SVC :\n"
     ]
    },
    {
     "name": "stderr",
     "output_type": "stream",
     "text": [
      "/home/kylaste/anaconda3/lib/python3.6/site-packages/sklearn/metrics/classification.py:1135: UndefinedMetricWarning: F-score is ill-defined and being set to 0.0 in labels with no predicted samples.\n",
      "  'precision', 'predicted', average, warn_for)\n"
     ]
    },
    {
     "name": "stdout",
     "output_type": "stream",
     "text": [
      "0.253905171855\n",
      "0.405797101449\n",
      "0.333208918389\n",
      "[ 0.21538462  0.39285714  0.          0.          0.48648649  0.08571429\n",
      "  0.63681592  0.74918567  0.21428571  0.          0.43243243  0.\n",
      "  0.24691358  0.42748092  0.40425532  0.27848101  0.          0.        ]\n",
      "\n",
      " Ensemble de donnees - RandomForest :\n"
     ]
    },
    {
     "name": "stderr",
     "output_type": "stream",
     "text": [
      "/home/kylaste/anaconda3/lib/python3.6/site-packages/sklearn/metrics/classification.py:1135: UndefinedMetricWarning: F-score is ill-defined and being set to 0.0 in labels with no predicted samples.\n",
      "  'precision', 'predicted', average, warn_for)\n"
     ]
    },
    {
     "name": "stdout",
     "output_type": "stream",
     "text": [
      "0.203806950888\n",
      "0.320400500626\n",
      "0.269110155357\n",
      "[ 0.23684211  0.27586207  0.          0.          0.22222222  0.10958904\n",
      "  0.54736842  0.68656716  0.0754717   0.12        0.32727273  0.02857143\n",
      "  0.14492754  0.32520325  0.23529412  0.28571429  0.04761905  0.        ]\n",
      "\n",
      " Ensemble de donnees - KNeighbors :\n",
      "0.294740843952\n",
      "0.392564242756\n",
      "0.35533727071\n",
      "[ 0.29333333  0.35384615  0.21621622  0.          0.23404255  0.28571429\n",
      "  0.61032864  0.72        0.17142857  0.22857143  0.37209302  0.18181818\n",
      "  0.31111111  0.4028777   0.46956522  0.28846154  0.04347826  0.12244898]\n",
      "\n",
      " Ensemble de donnees - AdaBoost :\n",
      "0.362618126495\n",
      "0.433606953163\n",
      "0.417936926731\n",
      "[ 0.40384615  0.51948052  0.22222222  0.          0.44615385  0.36842105\n",
      "  0.57281553  0.67657993  0.27848101  0.2195122   0.49295775  0.28571429\n",
      "  0.33962264  0.4516129   0.47933884  0.33027523  0.22580645  0.21428571]\n"
     ]
    }
   ],
   "source": [
    "# Test SVC\n",
    "\n",
    "print(\"\\n Ensemble de donnees - SVC :\")\n",
    "testBinaryRelevance(carac_int_bin, SVC())\n",
    "\n",
    "# Test RandomForest\n",
    "print(\"\\n Ensemble de donnees - RandomForest :\")\n",
    "testBinaryRelevance(carac_int_bin, RandomForestClassifier())\n",
    "\n",
    "# Test KNeighbors\n",
    "print(\"\\n Ensemble de donnees - KNeighbors :\")\n",
    "testBinaryRelevance(carac_int_bin,KNeighborsClassifier())\n",
    "\n",
    "# Test AdaBoost\n",
    "print(\"\\n Ensemble de donnees - AdaBoost :\")\n",
    "testBinaryRelevance(carac_int_bin,AdaBoostClassifier())\n"
   ]
  },
  {
   "cell_type": "code",
   "execution_count": 62,
   "metadata": {},
   "outputs": [
    {
     "name": "stdout",
     "output_type": "stream",
     "text": [
      "\n",
      " Movies - KNeighbors:\n",
      "0.287347837931\n",
      "0.372967479675\n",
      "0.346744075406\n",
      "[ 0.25882353  0.32653061  0.11764706  0.          0.352       0.34343434\n",
      "  0.5470852   0.68382353  0.21333333  0.23880597  0.4         0.19148936\n",
      "  0.11764706  0.44578313  0.34862385  0.32692308  0.10344828  0.15686275]\n",
      "\n",
      " Hobbies - KNeighbors:\n",
      "0.35796197119\n",
      "0.439664218258\n",
      "0.41501716716\n",
      "[ 0.26262626  0.42647059  0.22222222  0.          0.46017699  0.34482759\n",
      "  0.58031088  0.70036101  0.35294118  0.31428571  0.47058824  0.24175824\n",
      "  0.36734694  0.49673203  0.48780488  0.38834951  0.19607843  0.13043478]\n",
      "\n",
      " Interests - KNeighbors:\n",
      "0.282070563891\n",
      "0.377812663527\n",
      "0.345406916579\n",
      "[ 0.2020202   0.33082707  0.0625      0.06896552  0.41269841  0.24489796\n",
      "  0.54187192  0.72401434  0.09230769  0.13333333  0.25396825  0.32608696\n",
      "  0.32323232  0.4         0.44247788  0.34862385  0.125       0.04444444]\n",
      "\n",
      " Phobias - KNeighbors:\n"
     ]
    },
    {
     "name": "stderr",
     "output_type": "stream",
     "text": [
      "/home/kylaste/anaconda3/lib/python3.6/site-packages/sklearn/metrics/classification.py:1135: UndefinedMetricWarning: F-score is ill-defined and being set to 0.0 in labels with no predicted samples.\n",
      "  'precision', 'predicted', average, warn_for)\n"
     ]
    },
    {
     "name": "stdout",
     "output_type": "stream",
     "text": [
      "0.221636217246\n",
      "0.325581395349\n",
      "0.285850677466\n",
      "[ 0.25263158  0.22222222  0.          0.          0.20689655  0.12658228\n",
      "  0.51741294  0.70545455  0.16        0.13793103  0.19298246  0.14634146\n",
      "  0.22727273  0.41958042  0.39655172  0.23913043  0.03846154  0.        ]\n",
      "\n",
      " Personnality - KNeighbors:\n",
      "0.256273563354\n",
      "0.353733857383\n",
      "0.316381536492\n",
      "[ 0.25714286  0.4         0.15789474  0.          0.22680412  0.20689655\n",
      "  0.57276995  0.66415094  0.15873016  0.13559322  0.3442623   0.14814815\n",
      "  0.20454545  0.39130435  0.3047619   0.29357798  0.          0.14634146]\n",
      "\n",
      " Spending - KNeighbors:\n",
      "0.25932117939\n",
      "0.359002169197\n",
      "0.324734595474\n",
      "[ 0.24074074  0.36065574  0.          0.          0.31775701  0.18181818\n",
      "  0.54368932  0.67391304  0.22222222  0.13559322  0.4         0.15730337\n",
      "  0.27272727  0.42553191  0.34951456  0.25742574  0.04        0.08888889]\n",
      "\n",
      " Movies - AdaBoost:\n",
      "0.305709973167\n",
      "0.388860237236\n",
      "0.363569912078\n",
      "[ 0.31460674  0.44897959  0.06060606  0.          0.31496063  0.31372549\n",
      "  0.57281553  0.66903915  0.36781609  0.10714286  0.328125    0.28571429\n",
      "  0.19417476  0.3862069   0.39175258  0.36893204  0.21818182  0.16      ]\n",
      "\n",
      " Hobbies - AdaBoost:\n",
      "0.374974974394\n",
      "0.443519000521\n",
      "0.423283049398\n",
      "[ 0.34782609  0.41481481  0.24390244  0.0625      0.47368421  0.35051546\n",
      "  0.59375     0.70588235  0.325       0.37837838  0.40650407  0.22727273\n",
      "  0.43298969  0.42105263  0.56451613  0.32        0.22641509  0.25454545]\n",
      "\n",
      " Interests - AdaBoost:\n",
      "0.31119434441\n",
      "0.390041493776\n",
      "0.364695345985\n",
      "[ 0.20689655  0.33333333  0.20512821  0.06896552  0.42372881  0.28571429\n",
      "  0.59223301  0.69039146  0.22222222  0.06557377  0.41176471  0.24489796\n",
      "  0.24444444  0.38297872  0.36363636  0.39175258  0.24561404  0.22222222]\n",
      "\n",
      " Phobias - AdaBoost:\n",
      "0.249875623666\n",
      "0.35255354201\n",
      "0.31320290816\n",
      "[ 0.23157895  0.34920635  0.06451613  0.          0.28282828  0.16666667\n",
      "  0.54716981  0.70877193  0.11111111  0.10526316  0.42276423  0.16091954\n",
      "  0.19047619  0.296875    0.28571429  0.38834951  0.13793103  0.04761905]\n",
      "\n",
      " Personnality - AdaBoost:\n",
      "0.314926409055\n",
      "0.392698569314\n",
      "0.371909007054\n",
      "[ 0.36036036  0.42105263  0.12765957  0.05263158  0.39344262  0.26086957\n",
      "  0.56730769  0.68070175  0.24        0.26829268  0.35820896  0.25\n",
      "  0.21505376  0.45283019  0.416       0.32432432  0.12307692  0.15686275]\n",
      "\n",
      " Spending - AdaBoost:\n",
      "0.263315420176\n",
      "0.378436657682\n",
      "0.335120665957\n",
      "[ 0.29166667  0.368       0.          0.          0.23529412  0.13636364\n",
      "  0.625       0.73972603  0.35135135  0.17647059  0.45255474  0.16666667\n",
      "  0.17721519  0.45517241  0.30188679  0.18823529  0.07407407  0.        ]\n"
     ]
    }
   ],
   "source": [
    "# Movies\n",
    "print(\"\\n Movies - KNeighbors:\")\n",
    "testBinaryRelevance(carac_movies_bin, KNeighborsClassifier())\n",
    "\n",
    "# Hobbies\n",
    "print(\"\\n Hobbies - KNeighbors:\")\n",
    "testBinaryRelevance(carac_hobbies_bin, KNeighborsClassifier())\n",
    "\n",
    "# Interests\n",
    "print(\"\\n Interests - KNeighbors:\")\n",
    "testBinaryRelevance(carac_interests_bin, KNeighborsClassifier())\n",
    "\n",
    "# Phobias\n",
    "print(\"\\n Phobias - KNeighbors:\")\n",
    "testBinaryRelevance(carac_phobias_bin, KNeighborsClassifier())\n",
    "\n",
    "# Personnality\n",
    "print(\"\\n Personnality - KNeighbors:\")\n",
    "testBinaryRelevance(carac_personnality_bin, KNeighborsClassifier())\n",
    "\n",
    "# Spending\n",
    "print(\"\\n Spending - KNeighbors:\")\n",
    "testBinaryRelevance(carac_spending_bin, KNeighborsClassifier())\n",
    "\n",
    "# Movies\n",
    "print(\"\\n Movies - AdaBoost:\")\n",
    "testBinaryRelevance(carac_movies_bin, AdaBoostClassifier())\n",
    "\n",
    "# Hobbies\n",
    "print(\"\\n Hobbies - AdaBoost:\")\n",
    "testBinaryRelevance(carac_hobbies_bin, AdaBoostClassifier())\n",
    "\n",
    "# Interests\n",
    "print(\"\\n Interests - AdaBoost:\")\n",
    "testBinaryRelevance(carac_interests_bin, AdaBoostClassifier())\n",
    "\n",
    "# Phobias\n",
    "print(\"\\n Phobias - AdaBoost:\")\n",
    "testBinaryRelevance(carac_phobias_bin, AdaBoostClassifier())\n",
    "\n",
    "# Personnality\n",
    "print(\"\\n Personnality - AdaBoost:\")\n",
    "testBinaryRelevance(carac_personnality_bin, AdaBoostClassifier())\n",
    "\n",
    "# Spending\n",
    "print(\"\\n Spending - AdaBoost:\")\n",
    "testBinaryRelevance(carac_spending_bin, AdaBoostClassifier())"
   ]
  },
  {
   "cell_type": "markdown",
   "metadata": {},
   "source": [
    "## Chain Classifier"
   ]
  },
  {
   "cell_type": "code",
   "execution_count": 63,
   "metadata": {
    "collapsed": true
   },
   "outputs": [],
   "source": [
    "from skmultilearn.problem_transform import ClassifierChain\n",
    "\n",
    "def testChainClassifier(carac, classifier):\n",
    "    \n",
    "    x_train , x_test, y_train, y_test = train_test_split(carac, target_bin ,test_size=0.3, random_state=42)\n",
    "    classifier = ClassifierChain(classifier = classifier, require_dense = [False, True])\n",
    "\n",
    "    # train\n",
    "    classifier.fit(x_train, y_train)\n",
    "\n",
    "    # predict\n",
    "    predictions = classifier.predict(x_test)\n",
    "\n",
    "    print(f1_score(y_test, predictions, average='macro'))\n",
    "    print(f1_score(y_test, predictions, average='micro')) \n",
    "    print(f1_score(y_test, predictions, average='weighted'))\n",
    "    print(f1_score(y_test, predictions, average=None))"
   ]
  },
  {
   "cell_type": "code",
   "execution_count": 64,
   "metadata": {},
   "outputs": [
    {
     "name": "stdout",
     "output_type": "stream",
     "text": [
      "\n",
      " Ensemble de donnees - RandomForest:\n"
     ]
    },
    {
     "name": "stderr",
     "output_type": "stream",
     "text": [
      "/home/kylaste/anaconda3/lib/python3.6/site-packages/sklearn/metrics/classification.py:1135: UndefinedMetricWarning: F-score is ill-defined and being set to 0.0 in labels with no predicted samples.\n",
      "  'precision', 'predicted', average, warn_for)\n"
     ]
    },
    {
     "name": "stdout",
     "output_type": "stream",
     "text": [
      "0.199125561644\n",
      "0.310567010309\n",
      "0.26086587523\n",
      "[ 0.17910448  0.24299065  0.06666667  0.          0.32183908  0.02631579\n",
      "  0.60301508  0.62015504  0.07407407  0.          0.33333333  0.05882353\n",
      "  0.18181818  0.25        0.30232558  0.23684211  0.08695652  0.        ]\n",
      "\n",
      " Ensemble de donnees - KNeighbors:\n",
      "0.305165947484\n",
      "0.400660429279\n",
      "0.364382050289\n",
      "[ 0.29333333  0.35384615  0.22222222  0.          0.23655914  0.20689655\n",
      "  0.61971831  0.72527473  0.17391304  0.23188406  0.3875969   0.275\n",
      "  0.33333333  0.4         0.47272727  0.31372549  0.08695652  0.16      ]\n",
      "\n",
      " Ensemble de donnees - AdaBoost:\n",
      "0.380390309457\n",
      "0.445959104187\n",
      "0.431059395873\n",
      "[ 0.40384615  0.51948052  0.22222222  0.05714286  0.44628099  0.32142857\n",
      "  0.54726368  0.71641791  0.35714286  0.35714286  0.52        0.31481481\n",
      "  0.33684211  0.4084507   0.47154472  0.4         0.16129032  0.28571429]\n"
     ]
    }
   ],
   "source": [
    "\n",
    "print(\"\\n Ensemble de donnees - RandomForest:\")\n",
    "testChainClassifier(carac_int_bin, RandomForestClassifier())\n",
    "\n",
    "print(\"\\n Ensemble de donnees - KNeighbors:\")\n",
    "testChainClassifier(carac_int_bin, KNeighborsClassifier())\n",
    "\n",
    "print(\"\\n Ensemble de donnees - AdaBoost:\")\n",
    "testChainClassifier(carac_int_bin, AdaBoostClassifier())"
   ]
  },
  {
   "cell_type": "code",
   "execution_count": 65,
   "metadata": {},
   "outputs": [
    {
     "name": "stdout",
     "output_type": "stream",
     "text": [
      "\n",
      " Movies - KNeighbors:\n",
      "0.279142618545\n",
      "0.368772470467\n",
      "0.33973957179\n",
      "[ 0.25882353  0.27142857  0.125       0.          0.32786885  0.27956989\n",
      "  0.52093023  0.71126761  0.27848101  0.17391304  0.37878788  0.20930233\n",
      "  0.1682243   0.46753247  0.3539823   0.31067961  0.10714286  0.08163265]\n",
      "\n",
      " Hobbies - KNeighbors:\n",
      "0.353661125635\n",
      "0.433646812957\n",
      "0.408645050046\n",
      "[ 0.26262626  0.4         0.18181818  0.          0.46956522  0.3255814\n",
      "  0.56122449  0.69565217  0.42553191  0.39473684  0.47692308  0.26966292\n",
      "  0.34782609  0.48        0.45901639  0.28865979  0.15686275  0.17021277]\n",
      "\n",
      " Interests - KNeighbors:\n",
      "0.278792015291\n",
      "0.367498672331\n",
      "0.338560203196\n",
      "[ 0.2020202   0.32061069  0.0625      0.06896552  0.38655462  0.23655914\n",
      "  0.5257732   0.71684588  0.16901408  0.16129032  0.27906977  0.29213483\n",
      "  0.28888889  0.40789474  0.4173913   0.23529412  0.12244898  0.125     ]\n",
      "\n",
      " Phobias - KNeighbors:\n",
      "0.22551829278\n",
      "0.316628701595\n",
      "0.282426587889\n",
      "[ 0.25263158  0.21487603  0.          0.07692308  0.25        0.1038961\n",
      "  0.5388601   0.67669173  0.23809524  0.17910448  0.23728814  0.14814815\n",
      "  0.17283951  0.34920635  0.34285714  0.14457831  0.08333333  0.05      ]\n",
      "\n",
      " Personnality - KNeighbors:\n",
      "0.256993719828\n",
      "0.355855855856\n",
      "0.317761629899\n",
      "[ 0.25714286  0.38235294  0.15        0.          0.24489796  0.18181818\n",
      "  0.58490566  0.67169811  0.16393443  0.13793103  0.35772358  0.15189873\n",
      "  0.21176471  0.37956204  0.3030303   0.30088496  0.          0.14634146]\n",
      "\n",
      " Spending - KNeighbors:\n",
      "0.252251075686\n",
      "0.347731000547\n",
      "0.315823337064\n",
      "[ 0.24074074  0.39097744  0.          0.          0.24        0.12195122\n",
      "  0.58415842  0.67181467  0.27906977  0.19047619  0.35460993  0.14117647\n",
      "  0.325       0.37593985  0.32727273  0.17582418  0.07272727  0.04878049]\n",
      "\n",
      " Movies - AdaBoost:\n",
      "0.293770547524\n",
      "0.374934725849\n",
      "0.347900523651\n",
      "[ 0.31460674  0.44295302  0.06060606  0.06896552  0.27777778  0.20454545\n",
      "  0.58373206  0.66666667  0.36363636  0.21621622  0.37142857  0.25806452\n",
      "  0.16470588  0.31818182  0.34862385  0.30612245  0.20338983  0.11764706]\n",
      "\n",
      " Hobbies - AdaBoost:\n",
      "0.368305736183\n",
      "0.44363256785\n",
      "0.419078282278\n",
      "[ 0.34782609  0.41481481  0.24390244  0.05882353  0.5045045   0.16666667\n",
      "  0.64285714  0.68725869  0.46315789  0.3908046   0.52857143  0.17283951\n",
      "  0.34408602  0.44137931  0.51968504  0.30232558  0.14545455  0.25454545]\n",
      "\n",
      " Interests - AdaBoost:\n",
      "0.297802716887\n",
      "0.372020725389\n",
      "0.350384311853\n",
      "[ 0.20689655  0.33333333  0.20512821  0.0625      0.38655462  0.20408163\n",
      "  0.53608247  0.71323529  0.31914894  0.24        0.34782609  0.18\n",
      "  0.25882353  0.43055556  0.4         0.21978022  0.13793103  0.17857143]\n",
      "\n",
      " Phobias - AdaBoost:\n",
      "0.226236872737\n",
      "0.321029082774\n",
      "0.284688939109\n",
      "[ 0.23157895  0.34920635  0.06451613  0.          0.17391304  0.07594937\n",
      "  0.51308901  0.68100358  0.26262626  0.15625     0.38016529  0.12658228\n",
      "  0.13333333  0.32307692  0.26168224  0.18390805  0.03773585  0.11764706]\n",
      "\n",
      " Personnality - AdaBoost:\n",
      "0.323903375662\n",
      "0.393376818866\n",
      "0.375480814216\n",
      "[ 0.36036036  0.42105263  0.12765957  0.125       0.39669421  0.26666667\n",
      "  0.52884615  0.70676692  0.27272727  0.25974026  0.42424242  0.14\n",
      "  0.34615385  0.43421053  0.35087719  0.28037383  0.22222222  0.16666667]\n",
      "\n",
      " Spending - AdaBoost:\n",
      "0.235520802531\n",
      "0.335742078933\n",
      "0.30211587791\n",
      "[ 0.29166667  0.368       0.          0.          0.21276596  0.125\n",
      "  0.60204082  0.67164179  0.25806452  0.13333333  0.3255814   0.21176471\n",
      "  0.17948718  0.38235294  0.24        0.19512195  0.          0.04255319]\n"
     ]
    }
   ],
   "source": [
    "# Movies\n",
    "print(\"\\n Movies - KNeighbors:\")\n",
    "testChainClassifier(carac_movies_bin, KNeighborsClassifier())\n",
    "\n",
    "# Hobbies\n",
    "print(\"\\n Hobbies - KNeighbors:\")\n",
    "testChainClassifier(carac_hobbies_bin, KNeighborsClassifier())\n",
    "\n",
    "# Interests\n",
    "print(\"\\n Interests - KNeighbors:\")\n",
    "testChainClassifier(carac_interests_bin, KNeighborsClassifier())\n",
    "\n",
    "# Phobias\n",
    "print(\"\\n Phobias - KNeighbors:\")\n",
    "testChainClassifier(carac_phobias_bin, KNeighborsClassifier())\n",
    "\n",
    "# Personnality\n",
    "print(\"\\n Personnality - KNeighbors:\")\n",
    "testChainClassifier(carac_personnality_bin, KNeighborsClassifier())\n",
    "\n",
    "# Spending\n",
    "print(\"\\n Spending - KNeighbors:\")\n",
    "testChainClassifier(carac_spending_bin, KNeighborsClassifier())\n",
    "# Movies\n",
    "print(\"\\n Movies - AdaBoost:\")\n",
    "testChainClassifier(carac_movies_bin, AdaBoostClassifier())\n",
    "\n",
    "# Hobbies\n",
    "print(\"\\n Hobbies - AdaBoost:\")\n",
    "testChainClassifier(carac_hobbies_bin, AdaBoostClassifier())\n",
    "\n",
    "# Interests\n",
    "print(\"\\n Interests - AdaBoost:\")\n",
    "testChainClassifier(carac_interests_bin, AdaBoostClassifier())\n",
    "\n",
    "# Phobias\n",
    "print(\"\\n Phobias - AdaBoost:\")\n",
    "testChainClassifier(carac_phobias_bin, AdaBoostClassifier())\n",
    "\n",
    "# Personnality\n",
    "print(\"\\n Personnality - AdaBoost:\")\n",
    "testChainClassifier(carac_personnality_bin, AdaBoostClassifier())\n",
    "\n",
    "# Spending\n",
    "print(\"\\n Spending - AdaBoost:\")\n",
    "testChainClassifier(carac_spending_bin, AdaBoostClassifier())"
   ]
  },
  {
   "cell_type": "markdown",
   "metadata": {},
   "source": [
    "# Algorithm Adaptation\n",
    "## MLKnn"
   ]
  },
  {
   "cell_type": "code",
   "execution_count": 66,
   "metadata": {
    "collapsed": true
   },
   "outputs": [],
   "source": [
    "from skmultilearn.adapt import MLkNN\n",
    "from sklearn.model_selection import GridSearchCV\n",
    "def testAdaptKNN(carac, classifier):\n",
    "    x_train , x_test, y_train, y_test = train_test_split(carac, target_bin ,test_size=0.3, random_state = 42)\n",
    "    x_train = x_train.values\n",
    "    y_train = y_train.values\n",
    "\n",
    "    classifier = classifier\n",
    "\n",
    "    # train\n",
    "    classifier.fit(x_train, y_train)\n",
    "\n",
    "    # predict\n",
    "    predictions = classifier.predict(x_test)\n",
    "\n",
    "    print(f1_score(y_test, predictions, average='macro'))\n",
    "    print(f1_score(y_test, predictions, average='micro')) \n",
    "    print(f1_score(y_test, predictions, average='weighted'))\n",
    "    print(f1_score(y_test, predictions, average=None))"
   ]
  },
  {
   "cell_type": "code",
   "execution_count": 67,
   "metadata": {},
   "outputs": [
    {
     "name": "stdout",
     "output_type": "stream",
     "text": [
      "\n",
      "  Ensemble de données - MLKNeighbors:\n",
      "0.354307087306\n",
      "0.457965629354\n",
      "0.42169663073\n",
      "[ 0.4         0.47852761  0.11764706  0.          0.36521739  0.43333333\n",
      "  0.65560166  0.74666667  0.3655914   0.1754386   0.47852761  0.35514019\n",
      "  0.39316239  0.44318182  0.49315068  0.20253165  0.19047619  0.08333333]\n",
      "\n",
      " Movies - MLKNeighbors:\n"
     ]
    },
    {
     "name": "stderr",
     "output_type": "stream",
     "text": [
      "/home/kylaste/anaconda3/lib/python3.6/site-packages/sklearn/metrics/classification.py:1135: UndefinedMetricWarning: F-score is ill-defined and being set to 0.0 in labels with no predicted samples.\n",
      "  'precision', 'predicted', average, warn_for)\n"
     ]
    },
    {
     "name": "stdout",
     "output_type": "stream",
     "text": [
      "0.316548162876\n",
      "0.40442192538\n",
      "0.37620939788\n",
      "[ 0.3875969   0.46994536  0.          0.          0.42767296  0.41860465\n",
      "  0.4673913   0.60251046  0.35051546  0.18518519  0.44186047  0.34645669\n",
      "  0.09756098  0.53266332  0.29885057  0.42105263  0.25        0.        ]\n",
      "\n",
      " Interests - MLKNeighbors:\n",
      "0.246058027446\n",
      "0.354255319149\n",
      "0.306226684492\n",
      "[ 0.10526316  0.20560748  0.          0.          0.26530612  0.33333333\n",
      "  0.60330579  0.65306122  0.22727273  0.14545455  0.10416667  0.19512195\n",
      "  0.22222222  0.49246231  0.45070423  0.09756098  0.28169014  0.04651163]\n",
      "\n",
      " Hobbies - MLKNeighbors:\n",
      "0.34435525746\n",
      "0.415075376884\n",
      "0.395339818108\n",
      "[ 0.35820896  0.27826087  0.06451613  0.          0.47482014  0.41818182\n",
      "  0.48809524  0.59482759  0.25714286  0.2         0.58278146  0.21428571\n",
      "  0.368       0.52173913  0.44230769  0.42748092  0.23188406  0.27586207]\n",
      "\n",
      " Personnality - MLKNeighbors:\n",
      "0.364379662713\n",
      "0.454348766768\n",
      "0.429233126745\n",
      "[ 0.41121495  0.48618785  0.06060606  0.07407407  0.32258065  0.37398374\n",
      "  0.64        0.71428571  0.33333333  0.24390244  0.5125      0.33898305\n",
      "  0.35772358  0.54347826  0.46258503  0.3943662   0.09230769  0.19672131]\n",
      "\n",
      " Phobias - MLKNeighbors:\n",
      "0.237674285103\n",
      "0.357723577236\n",
      "0.299064592194\n",
      "[ 0.20512821  0.4         0.          0.          0.04255319  0.05633803\n",
      "  0.58921162  0.71333333  0.2020202   0.11538462  0.3974359   0.08219178\n",
      "  0.44094488  0.23423423  0.25531915  0.33070866  0.21333333  0.        ]\n",
      "\n",
      " Spending - MLKNeighbors:\n",
      "0.303182320568\n",
      "0.404332129964\n",
      "0.367499607294\n",
      "[ 0.32876712  0.43678161  0.          0.05714286  0.3943662   0.32478632\n",
      "  0.61666667  0.72789116  0.35643564  0.27906977  0.44186047  0.25210084\n",
      "  0.14285714  0.23214286  0.40559441  0.35555556  0.          0.10526316]\n"
     ]
    }
   ],
   "source": [
    "print(\"\\n  Ensemble de données - MLKNeighbors:\")\n",
    "testAdaptKNN(carac_int_bin, MLkNN(k=4))\n",
    "\n",
    "print(\"\\n Movies - MLKNeighbors:\")\n",
    "testAdaptKNN(carac_movies_bin, MLkNN(k=4))\n",
    "\n",
    "print(\"\\n Interests - MLKNeighbors:\")\n",
    "testAdaptKNN(carac_interests_bin, MLkNN(k=4))\n",
    "\n",
    "print(\"\\n Hobbies - MLKNeighbors:\")\n",
    "testAdaptKNN(carac_hobbies_bin, MLkNN(k=4))\n",
    "\n",
    "print(\"\\n Personnality - MLKNeighbors:\")\n",
    "testAdaptKNN(carac_personnality_bin, MLkNN(k=4))\n",
    "\n",
    "print(\"\\n Phobias - MLKNeighbors:\")\n",
    "testAdaptKNN(carac_phobias_bin, MLkNN(k=4))\n",
    "\n",
    "print(\"\\n Spending - MLKNeighbors:\")\n",
    "testAdaptKNN(carac_spending_bin, MLkNN(k=4))"
   ]
  },
  {
   "cell_type": "markdown",
   "metadata": {},
   "source": [
    "# Conclusion\n",
    "\n",
    "Il reste encore de nombreuses approches à tester pour le multi-learning, en particuliers les réseaux de neurones adapté (comme le BP-MLL ou Haram) mais nous avons rencontré des difficultés leur de leur mises en place.\n",
    "\n",
    "Les méthodes ensemblistes comme RAkEL sont aussi une approche qu'il reste à tester.\n",
    "\n",
    "Les résultats sont peu probant. Les deux méthodes qui semblent donner le plus de résultat sont le KNN adapté au multi-label et la méthode AdaBoost utilisée avec la méthode de transformation du ChainClassifier."
   ]
  },
  {
   "cell_type": "code",
   "execution_count": null,
   "metadata": {
    "collapsed": true
   },
   "outputs": [],
   "source": []
  }
 ],
 "metadata": {
  "kernelspec": {
   "display_name": "Python 3",
   "language": "python",
   "name": "python3"
  },
  "language_info": {
   "codemirror_mode": {
    "name": "ipython",
    "version": 3
   },
   "file_extension": ".py",
   "mimetype": "text/x-python",
   "name": "python",
   "nbconvert_exporter": "python",
   "pygments_lexer": "ipython3",
   "version": "3.6.3"
  }
 },
 "nbformat": 4,
 "nbformat_minor": 2
}

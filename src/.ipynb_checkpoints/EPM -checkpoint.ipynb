{
 "cells": [
  {
   "cell_type": "markdown",
   "metadata": {},
   "source": [
    "# Etude des motifs de préférence musicale Lalala "
   ]
  },
  {
   "cell_type": "code",
   "execution_count": 77,
   "metadata": {},
   "outputs": [
    {
     "name": "stdout",
     "output_type": "stream",
     "text": [
      "(1010, 150)\n",
      "Index(['Music', 'Slow songs or fast songs', 'Dance', 'Folk', 'Country',\n",
      "       'Classical music', 'Musical', 'Pop', 'Rock', 'Metal or Hardrock',\n",
      "       ...\n",
      "       'Age', 'Height', 'Weight', 'Number of siblings', 'Gender',\n",
      "       'Left - right handed', 'Education', 'Only child', 'Village - town',\n",
      "       'House - block of flats'],\n",
      "      dtype='object', length=150)\n"
     ]
    }
   ],
   "source": [
    "import pandas as pd \n",
    "import numpy as np \n",
    "\n",
    "# import des données \n",
    "data = pd.read_csv('../Source/responses.csv')\n",
    "\n",
    "# on remplit les données manquantes avec NaN \n",
    "data = data.replace(r'\\s+', np.nan)\n",
    "\n",
    "# remplacer les variables catégorielles et normaliser les valeurs \n",
    "for column in data.columns : \n",
    "    data[column] = data[column].astype('category')\n",
    "    data[column] = data[column].cat.codes\n",
    "\n",
    "print(data.shape)\n",
    "print(data.columns)"
   ]
  },
  {
   "cell_type": "markdown",
   "metadata": {},
   "source": [
    "A ce stade, on a des données propres à utiliser. En effet, on a remplacé les variables catégorielles par des variables numériques. On a également remplacé les champs non renseignés par -1, qui est une valeur jamais prise par les variables.\n",
    "\n",
    "On calcule la matrice de préférence pour l'ensemble du jeu de données. Pour cela, on sépare d'abord les données pour extraire d'une part les champs à comparer (les goûts musicaux) des caractéristiques (données démographiques).\n",
    "\n",
    "* Music preferences (19 items)\n",
    "* Movie preferences (12 items)\n",
    "* Hobbies & interests (32 items)\n",
    "* Phobias (10 items)\n",
    "* Health habits (3 items)\n",
    "* Personality traits, views on life, & opinions (57 items)\n",
    "* Spending habits (7 items)\n",
    "* Demographics (10 items)"
   ]
  },
  {
   "cell_type": "code",
   "execution_count": 78,
   "metadata": {},
   "outputs": [
    {
     "name": "stdout",
     "output_type": "stream",
     "text": [
      "(1010, 17)\n",
      "Index(['Dance', 'Folk', 'Country', 'Classical music', 'Musical', 'Pop', 'Rock',\n",
      "       'Metal or Hardrock', 'Punk', 'Hiphop, Rap', 'Reggae, Ska',\n",
      "       'Swing, Jazz', 'Rock n roll', 'Alternative', 'Latino', 'Techno, Trance',\n",
      "       'Opera'],\n",
      "      dtype='object')\n"
     ]
    }
   ],
   "source": [
    "# premiere colonne : aime la musique ou non\n",
    "music_ranking = data.iloc[:,0:1]\n",
    "\n",
    "# note pour chaque type de musique \n",
    "data_music = data.iloc[:,2:19]\n",
    "print(data_music.shape)\n",
    "print(data_music.columns)"
   ]
  },
  {
   "cell_type": "markdown",
   "metadata": {},
   "source": [
    "## Matrice de préférence sur l'ensemble des données\n",
    "\n",
    "On construit la matrice de préférence. Pour cela, on classe sur chaque ligne les styles musicaux du mieux noté au moins bon. Ensuite on calcule les coefficients w(l1,l2) selon si l1 est préféré à l2 ou l'inverse. \n",
    "On calcule un coefficient final en moyennant w(l1,l2) sur l'ensemble des observations. Cela donnera la matrice de préférence sur l'ensemble des données. \n"
   ]
  },
  {
   "cell_type": "code",
   "execution_count": 79,
   "metadata": {},
   "outputs": [],
   "source": [
    "# fonction auxiliaire pour le calcul des préférences\n",
    "def compute_avg(x):\n",
    "    return (x/len(data_music))*100\n",
    "\n",
    "# fonction pour créer la matrice de préférence\n",
    "# matrix : doit être une matrice 2 dimensions, colonnes : critères, lignes : individus\n",
    "def do_matrix_pref(matrix):\n",
    "    # on crée la matrice pour stocker les scores de préférences, initialisée à 0 \n",
    "    omega = pd.DataFrame(0,index=matrix.columns, columns=matrix.columns)\n",
    "\n",
    "    # pour chaque ligne\n",
    "    for i in range(len(matrix)): \n",
    "        # pour chaque couple de musique\n",
    "        for column_i in matrix.columns : \n",
    "            for column_j in matrix.columns:\n",
    "                if matrix[column_i][i] < matrix[column_j][i] :\n",
    "                    omega[column_j][column_i] = omega[column_j][column_i]-1\n",
    "                if matrix[column_i][i] > matrix[column_j][i] : \n",
    "                    omega[column_j][column_i] = omega[column_j][column_i]+1 \n",
    "                if matrix[column_i][i] == matrix[column_j][i] : \n",
    "                    omega[column_j][column_i] = omega[column_j][column_i] \n",
    "                    \n",
    "    omega = omega.apply(compute_avg)\n",
    "    print(omega.head(4))\n",
    "    return omega"
   ]
  },
  {
   "cell_type": "code",
   "execution_count": 80,
   "metadata": {},
   "outputs": [
    {
     "name": "stdout",
     "output_type": "stream",
     "text": [
      "                     Dance       Folk    Country  Classical music    Musical  \\\n",
      "Dance             0.000000  42.871287  47.524752        10.099010  16.633663   \n",
      "Folk            -42.871287   0.000000   8.910891       -36.732673 -25.247525   \n",
      "Country         -47.524752  -8.910891   0.000000       -41.188119 -31.980198   \n",
      "Classical music -10.099010  36.732673  41.188119         0.000000   9.306931   \n",
      "\n",
      "                       Pop       Rock  Metal or Hardrock       Punk  \\\n",
      "Dance           -22.970297 -25.742574          32.079208  27.722772   \n",
      "Folk            -52.475248 -63.168317           1.188119  -5.544554   \n",
      "Country         -59.603960 -68.514851          -3.564356 -10.495050   \n",
      "Classical music -24.554455 -40.792079          28.613861  23.465347   \n",
      "\n",
      "                 Hiphop, Rap  Reggae, Ska  Swing, Jazz  Rock n roll  \\\n",
      "Dance              13.564356    16.039604    14.158416    -1.188119   \n",
      "Folk              -25.643564   -25.841584   -25.742574   -41.089109   \n",
      "Country           -32.772277   -31.584158   -31.386139   -51.782178   \n",
      "Classical music     0.495050     6.930693     8.811881   -10.000000   \n",
      "\n",
      "                 Alternative     Latino  Techno, Trance      Opera  \n",
      "Dance              15.247525  10.198020       44.059406  45.742574  \n",
      "Folk              -22.970297 -25.940594        0.297030   9.207921  \n",
      "Country           -29.900990 -32.475248       -6.336634   1.485149  \n",
      "Classical music     7.029703   4.851485       26.534653  49.504950  \n"
     ]
    }
   ],
   "source": [
    "omega = do_matrix_pref(data_music)"
   ]
  },
  {
   "cell_type": "markdown",
   "metadata": {},
   "source": [
    "On a obtenu la matrice de préférence, sur l'ensemble du jeu de données. \n",
    "On sait donc quels genres sont généralement préférés à d'autres. Pour faciliter la visualisation des préférences, on utilise un graphique. L'intensité des couleurs définit la grandeur de la valeur."
   ]
  },
  {
   "cell_type": "code",
   "execution_count": 82,
   "metadata": {},
   "outputs": [
    {
     "data": {
      "text/plain": [
       "<matplotlib.image.AxesImage at 0x7ff22ee596a0>"
      ]
     },
     "execution_count": 82,
     "metadata": {},
     "output_type": "execute_result"
    },
    {
     "data": {
      "image/png": "[encoded data removed]",
      "text/plain": [
       "<matplotlib.figure.Figure at 0x7ff22eda9390>"
      ]
     },
     "metadata": {},
     "output_type": "display_data"
    }
   ],
   "source": [
    "import matplotlib.pyplot as plt\n",
    "\n",
    "plt.matshow(omega, cmap='seismic')"
   ]
  },
  {
   "cell_type": "markdown",
   "metadata": {},
   "source": [
    "### interprétation générale \n",
    "\n",
    "On observe une diagonale blanche, puisqu'un style musical comparé à lui-même donne bien une préférence de zéro. Une case bleue signifie que le style en abscisse est moins apprécié que celui en ordonnée, et inversement pour une case rouge. \n",
    "\n",
    "On notera également une symétrie dans la matrice. Il suffit de prendre la matrice triangulaire inférieure ou supérieure à la diagonale blanche. En effet, soit m1 et m2 deux styles musicaux. On a dans la matrice omega deux cases comparant m1 et m2 : omega[m1][m2] et omega[m2][m1]. On a donc omega[m1][m2] = -omega[m2][m1], donc ces deux cases auront des couleurs opposées de même intensité. "
   ]
  },
  {
   "cell_type": "code",
   "execution_count": 83,
   "metadata": {},
   "outputs": [
    {
     "name": "stdout",
     "output_type": "stream",
     "text": [
      "Rock  compared to  Country  is  -68.51485148514853\n",
      "Opera  compared to  Rock  is  67.02970297029704\n"
     ]
    }
   ],
   "source": [
    "print(omega.columns[6], \" compared to \", omega.columns[2], \" is \", omega[omega.columns[6]][omega.columns[2]])\n",
    "\n",
    "print(omega.columns[16], \" compared to \", omega.columns[6], \" is \", omega[omega.columns[16]][omega.columns[6]])"
   ]
  },
  {
   "cell_type": "markdown",
   "metadata": {},
   "source": [
    "La case omega[6][2] (resp. omega[2][6]) compare le Rock et la Country. On remarque que les individus préfèrent largement le Rock par exemple. Ils préfèrent aussi largement le Rock à l'Opéra. \n",
    "\n",
    "## Matrice de préférences sur différents groupes d'individus\n",
    "\n",
    "On répète le même processus en ne prenant cette fois qu'une partie des individus du jeu de données. On pourra ensuite calculer la distance entre les matrices obtenues d'une part, la distance des matrices par rapport à celle de l'ensemble de la population. On pourra ainsi mettre en évidence des préférences exceptionnelles, c'est-à-dire en marge par rapport aux préférences majoritaires sur l'ensemble des individus de notre jeu de données. "
   ]
  },
  {
   "cell_type": "code",
   "execution_count": 84,
   "metadata": {},
   "outputs": [
    {
     "name": "stdout",
     "output_type": "stream",
     "text": [
      "Données pour les femmes :  (593, 150)\n",
      "Données musicales des femmes :  (1010, 17)\n",
      "Données pour les hommes :  (411, 150)\n",
      "Données musicales des hommes :  (1010, 17)\n"
     ]
    }
   ],
   "source": [
    "# on récupère seulement les données musicales des femmes \n",
    "# female -> 0\n",
    "data_f = data.loc[data['Gender']== 0]\n",
    "print(\"Données pour les femmes : \", data_f.shape)\n",
    "data_f_music = data.iloc[:,2:19]\n",
    "print(\"Données musicales des femmes : \", data_f_music.shape)\n",
    "                     \n",
    "# on récupère les données musicales des hommes\n",
    "# male -> 1\n",
    "data_m = data.loc[data['Gender']== 1]\n",
    "print(\"Données pour les hommes : \", data_m.shape)\n",
    "data_m_music = data.iloc[:,2:19]\n",
    "print(\"Données musicales des hommes : \", data_m_music.shape)"
   ]
  },
  {
   "cell_type": "markdown",
   "metadata": {},
   "source": [
    "On fait les deux matrices de préférences pour ces sous-groupes."
   ]
  },
  {
   "cell_type": "code",
   "execution_count": 85,
   "metadata": {},
   "outputs": [
    {
     "name": "stdout",
     "output_type": "stream",
     "text": [
      "                     Dance       Folk    Country  Classical music    Musical  \\\n",
      "Dance             0.000000  42.871287  47.524752        10.099010  16.633663   \n",
      "Folk            -42.871287   0.000000   8.910891       -36.732673 -25.247525   \n",
      "Country         -47.524752  -8.910891   0.000000       -41.188119 -31.980198   \n",
      "Classical music -10.099010  36.732673  41.188119         0.000000   9.306931   \n",
      "\n",
      "                       Pop       Rock  Metal or Hardrock       Punk  \\\n",
      "Dance           -22.970297 -25.742574          32.079208  27.722772   \n",
      "Folk            -52.475248 -63.168317           1.188119  -5.544554   \n",
      "Country         -59.603960 -68.514851          -3.564356 -10.495050   \n",
      "Classical music -24.554455 -40.792079          28.613861  23.465347   \n",
      "\n",
      "                 Hiphop, Rap  Reggae, Ska  Swing, Jazz  Rock n roll  \\\n",
      "Dance              13.564356    16.039604    14.158416    -1.188119   \n",
      "Folk              -25.643564   -25.841584   -25.742574   -41.089109   \n",
      "Country           -32.772277   -31.584158   -31.386139   -51.782178   \n",
      "Classical music     0.495050     6.930693     8.811881   -10.000000   \n",
      "\n",
      "                 Alternative     Latino  Techno, Trance      Opera  \n",
      "Dance              15.247525  10.198020       44.059406  45.742574  \n",
      "Folk              -22.970297 -25.940594        0.297030   9.207921  \n",
      "Country           -29.900990 -32.475248       -6.336634   1.485149  \n",
      "Classical music     7.029703   4.851485       26.534653  49.504950  \n",
      "(17, 17)\n",
      "       Dance       Folk    Country  Classical music    Musical        Pop  \\\n",
      "Dance    0.0  42.871287  47.524752         10.09901  16.633663 -22.970297   \n",
      "\n",
      "            Rock  Metal or Hardrock       Punk  Hiphop, Rap  Reggae, Ska  \\\n",
      "Dance -25.742574          32.079208  27.722772    13.564356    16.039604   \n",
      "\n",
      "       Swing, Jazz  Rock n roll  Alternative    Latino  Techno, Trance  \\\n",
      "Dance    14.158416    -1.188119    15.247525  10.19802       44.059406   \n",
      "\n",
      "           Opera  \n",
      "Dance  45.742574  \n",
      "                     Dance       Folk    Country  Classical music    Musical  \\\n",
      "Dance             0.000000  42.871287  47.524752        10.099010  16.633663   \n",
      "Folk            -42.871287   0.000000   8.910891       -36.732673 -25.247525   \n",
      "Country         -47.524752  -8.910891   0.000000       -41.188119 -31.980198   \n",
      "Classical music -10.099010  36.732673  41.188119         0.000000   9.306931   \n",
      "\n",
      "                       Pop       Rock  Metal or Hardrock       Punk  \\\n",
      "Dance           -22.970297 -25.742574          32.079208  27.722772   \n",
      "Folk            -52.475248 -63.168317           1.188119  -5.544554   \n",
      "Country         -59.603960 -68.514851          -3.564356 -10.495050   \n",
      "Classical music -24.554455 -40.792079          28.613861  23.465347   \n",
      "\n",
      "                 Hiphop, Rap  Reggae, Ska  Swing, Jazz  Rock n roll  \\\n",
      "Dance              13.564356    16.039604    14.158416    -1.188119   \n",
      "Folk              -25.643564   -25.841584   -25.742574   -41.089109   \n",
      "Country           -32.772277   -31.584158   -31.386139   -51.782178   \n",
      "Classical music     0.495050     6.930693     8.811881   -10.000000   \n",
      "\n",
      "                 Alternative     Latino  Techno, Trance      Opera  \n",
      "Dance              15.247525  10.198020       44.059406  45.742574  \n",
      "Folk              -22.970297 -25.940594        0.297030   9.207921  \n",
      "Country           -29.900990 -32.475248       -6.336634   1.485149  \n",
      "Classical music     7.029703   4.851485       26.534653  49.504950  \n",
      "(17, 17)\n",
      "       Dance       Folk    Country  Classical music    Musical        Pop  \\\n",
      "Dance    0.0  42.871287  47.524752         10.09901  16.633663 -22.970297   \n",
      "\n",
      "            Rock  Metal or Hardrock       Punk  Hiphop, Rap  Reggae, Ska  \\\n",
      "Dance -25.742574          32.079208  27.722772    13.564356    16.039604   \n",
      "\n",
      "       Swing, Jazz  Rock n roll  Alternative    Latino  Techno, Trance  \\\n",
      "Dance    14.158416    -1.188119    15.247525  10.19802       44.059406   \n",
      "\n",
      "           Opera  \n",
      "Dance  45.742574  \n"
     ]
    }
   ],
   "source": [
    "omega_f = do_matrix_pref(data_f_music)\n",
    "\n",
    "omega_m = do_matrix_pref(data_m_music)"
   ]
  },
  {
   "cell_type": "code",
   "execution_count": 87,
   "metadata": {},
   "outputs": [
    {
     "data": {
      "text/plain": [
       "<matplotlib.image.AxesImage at 0x7ff22ed996d8>"
      ]
     },
     "execution_count": 87,
     "metadata": {},
     "output_type": "execute_result"
    },
    {
     "data": {
      "image/png": "[encoded data removed]",
      "text/plain": [
       "<matplotlib.figure.Figure at 0x7ff2306ea2e8>"
      ]
     },
     "metadata": {},
     "output_type": "display_data"
    },
    {
     "data": {
      "image/png": "[encoded data removed]",
      "text/plain": [
       "<matplotlib.figure.Figure at 0x7ff2306ead30>"
      ]
     },
     "metadata": {},
     "output_type": "display_data"
    }
   ],
   "source": [
    "plt.matshow(omega_f, cmap='seismic')\n",
    "plt.matshow(omega_m, cmap='seismic')"
   ]
  },
  {
   "cell_type": "markdown",
   "metadata": {},
   "source": [
    "# TODO changer de méthode pyplot parce que c'est 3 fois la même chose, c'est pas pertinent..."
   ]
  },
  {
   "cell_type": "code",
   "execution_count": null,
   "metadata": {},
   "outputs": [],
   "source": []
  }
 ],
 "metadata": {
  "kernelspec": {
   "display_name": "Python 3",
   "language": "python",
   "name": "python3"
  },
  "language_info": {
   "codemirror_mode": {
    "name": "ipython",
    "version": 3
   },
   "file_extension": ".py",
   "mimetype": "text/x-python",
   "name": "python",
   "nbconvert_exporter": "python",
   "pygments_lexer": "ipython3",
   "version": "3.5.2"
  }
 },
 "nbformat": 4,
 "nbformat_minor": 2
}

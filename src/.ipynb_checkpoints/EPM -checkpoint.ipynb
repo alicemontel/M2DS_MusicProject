{
 "cells": [
  {
   "cell_type": "markdown",
   "metadata": {},
   "source": [
    "# Etude des motifs de préférence musicale Lalala "
   ]
  },
  {
   "cell_type": "code",
   "execution_count": 29,
   "metadata": {},
   "outputs": [
    {
     "name": "stdout",
     "output_type": "stream",
     "text": [
      "(1010, 150)\n"
     ]
    }
   ],
   "source": [
    "import pandas as pd \n",
    "import numpy as np \n",
    "\n",
    "# import des données \n",
    "data = pd.read_csv('../Source/responses.csv')\n",
    "\n",
    "# on remplit les données manquantes avec NaN \n",
    "data = data.replace(r'\\s+', np.nan)\n",
    "\n",
    "# remplacer les variables catégorielles \n",
    "for column in data.columns : \n",
    "    data[column] = data[column].astype('category')\n",
    "    data[column] = data[column].cat.codes\n",
    "\n",
    "print(data.shape)"
   ]
  },
  {
   "cell_type": "markdown",
   "metadata": {},
   "source": [
    "A ce stade, on a des données propres à utiliser. En effet, on a remplacé les variables catégorielles par des variables numériques. On a également remplacé les champs non renseignés par -1, qui est une valeur jamais prise par les variables.\n",
    "\n",
    "On calcule la matrice de préférence pour l'ensemble du jeu de données. Pour cela, on sépare d'abord les données pour extraire d'une part les champs à comparer (les goûts musicaux) des caractéristiques (données démographiques).\n",
    "\n",
    "* Music preferences (19 items)\n",
    "* Movie preferences (12 items)\n",
    "* Hobbies & interests (32 items)\n",
    "* Phobias (10 items)\n",
    "* Health habits (3 items)\n",
    "* Personality traits, views on life, & opinions (57 items)\n",
    "* Spending habits (7 items)\n",
    "* Demographics (10 items)"
   ]
  },
  {
   "cell_type": "code",
   "execution_count": 43,
   "metadata": {},
   "outputs": [
    {
     "name": "stdout",
     "output_type": "stream",
     "text": [
      "(1010, 17)\n",
      "Index(['Dance', 'Folk', 'Country', 'Classical music', 'Musical', 'Pop', 'Rock',\n",
      "       'Metal or Hardrock', 'Punk', 'Hiphop, Rap', 'Reggae, Ska',\n",
      "       'Swing, Jazz', 'Rock n roll', 'Alternative', 'Latino', 'Techno, Trance',\n",
      "       'Opera'],\n",
      "      dtype='object')\n"
     ]
    }
   ],
   "source": [
    "# premiere colonne : aime la musique ou non\n",
    "music_ranking = data.iloc[:,0:1]\n",
    "\n",
    "# note pour chaque type de musique \n",
    "data_music = data.iloc[:,2:19]\n",
    "print(data_music.shape)\n",
    "print(data_music.columns)"
   ]
  },
  {
   "cell_type": "markdown",
   "metadata": {},
   "source": [
    "On construit la matrice de préférence. Pour cela, on classe sur chaque ligne les styles musicaux du mieux noté au moins bon. Ensuite on calcule les coefficients w(l1,l2) selon si l1 est préféré à l2 ou l'inverse. \n",
    "On calcule un coefficient final en moyennant w(l1,l2) sur l'ensemble des observations. Cela donnera la matrice de préférence sur l'ensemble des données \n"
   ]
  },
  {
   "cell_type": "code",
   "execution_count": 44,
   "metadata": {},
   "outputs": [
    {
     "name": "stdout",
     "output_type": "stream",
     "text": [
      "                 Dance  Folk  Country  Classical music  Musical  Pop  Rock  \\\n",
      "Dance                0   433      480              102      168 -232  -260   \n",
      "Folk              -433     0       90             -371     -255 -530  -638   \n",
      "Country           -480   -90        0             -416     -323 -602  -692   \n",
      "Classical music   -102   371      416                0       94 -248  -412   \n",
      "\n",
      "                 Metal or Hardrock  Punk  Hiphop, Rap  Reggae, Ska  \\\n",
      "Dance                          324   280          137          162   \n",
      "Folk                            12   -56         -259         -261   \n",
      "Country                        -36  -106         -331         -319   \n",
      "Classical music                289   237            5           70   \n",
      "\n",
      "                 Swing, Jazz  Rock n roll  Alternative  Latino  \\\n",
      "Dance                    143          -12          154     103   \n",
      "Folk                    -260         -415         -232    -262   \n",
      "Country                 -317         -523         -302    -328   \n",
      "Classical music           89         -101           71      49   \n",
      "\n",
      "                 Techno, Trance  Opera  \n",
      "Dance                       445    462  \n",
      "Folk                          3     93  \n",
      "Country                     -64     15  \n",
      "Classical music             268    500  \n"
     ]
    }
   ],
   "source": [
    "# on crée la matrice pour stocker les scores de préférences, initialisée à 0 \n",
    "omega = pd.DataFrame(0,index=data_music.columns, columns=data_music.columns)\n",
    "\n",
    "# pour chaque ligne\n",
    "for i in range(len(data_music)): \n",
    "    # pour chaque couple de musique\n",
    "    for column_i in data_music.columns : \n",
    "        for column_j in data_music.columns:\n",
    "            if data_music[column_i][i] < data_music[column_j][i] :\n",
    "                omega[column_j][column_i] = omega[column_j][column_i]-1\n",
    "            if data_music[column_i][i] > data_music[column_j][i] : \n",
    "                omega[column_j][column_i] = omega[column_j][column_i]+1 \n",
    "            if data_music[column_i][i] == data_music[column_j][i] : \n",
    "                omega[column_j][column_i] = omega[column_j][column_i] \n",
    "                \n",
    "print(omega.head(4))"
   ]
  },
  {
   "cell_type": "code",
   "execution_count": 46,
   "metadata": {},
   "outputs": [
    {
     "name": "stdout",
     "output_type": "stream",
     "text": [
      "                    Dance      Folk   Country  Classical music   Musical  \\\n",
      "Dance            0.000000  0.000424  0.000471         0.000100  0.000165   \n",
      "Folk            -0.000424  0.000000  0.000088        -0.000364 -0.000250   \n",
      "Country         -0.000471 -0.000088  0.000000        -0.000408 -0.000317   \n",
      "Classical music -0.000100  0.000364  0.000408         0.000000  0.000092   \n",
      "\n",
      "                      Pop      Rock  Metal or Hardrock      Punk  Hiphop, Rap  \\\n",
      "Dance           -0.000227 -0.000255           0.000318  0.000274     0.000134   \n",
      "Folk            -0.000520 -0.000625           0.000012 -0.000055    -0.000254   \n",
      "Country         -0.000590 -0.000678          -0.000035 -0.000104    -0.000324   \n",
      "Classical music -0.000243 -0.000404           0.000283  0.000232     0.000005   \n",
      "\n",
      "                 Reggae, Ska  Swing, Jazz  Rock n roll  Alternative    Latino  \\\n",
      "Dance               0.000159     0.000140    -0.000012     0.000151  0.000101   \n",
      "Folk               -0.000256    -0.000255    -0.000407    -0.000227 -0.000257   \n",
      "Country            -0.000313    -0.000311    -0.000513    -0.000296 -0.000322   \n",
      "Classical music     0.000069     0.000087    -0.000099     0.000070  0.000048   \n",
      "\n",
      "                 Techno, Trance     Opera  \n",
      "Dance                  0.000436  0.000453  \n",
      "Folk                   0.000003  0.000091  \n",
      "Country               -0.000063  0.000015  \n",
      "Classical music        0.000263  0.000490  \n"
     ]
    }
   ],
   "source": [
    "def compute_avg(x):\n",
    "    return x/len(data_music)\n",
    "\n",
    "omega = omega.apply(compute_avg)\n",
    "print(omega.head(4))"
   ]
  },
  {
   "cell_type": "markdown",
   "metadata": {},
   "source": [
    "On a obtenu la matrice de préférence, sur l'ensemble du jeu de données. \n",
    "On sait donc quels genres sont généralement préférés à d'autres. Pour faciliter la visualisation des préférences, on utilise un graphique. L'intensité des couleurs définit la grandeur de la valeur."
   ]
  },
  {
   "cell_type": "code",
   "execution_count": 47,
   "metadata": {},
   "outputs": [
    {
     "data": {
      "text/plain": [
       "<matplotlib.image.AxesImage at 0x7ff22ebcb198>"
      ]
     },
     "execution_count": 47,
     "metadata": {},
     "output_type": "execute_result"
    },
    {
     "data": {
      "image/png": "[encoded data removed]",
      "text/plain": [
       "<matplotlib.figure.Figure at 0x7ff22ecbaf28>"
      ]
     },
     "metadata": {},
     "output_type": "display_data"
    }
   ],
   "source": [
    "import matplotlib.pyplot as plt\n",
    "\n",
    "plt.matshow(omega, cmap='seismic')"
   ]
  },
  {
   "cell_type": "markdown",
   "metadata": {},
   "source": [
    "### interprétation générale \n",
    "\n",
    "On observe une diagonale blanche, puisqu'un style musical comparé à lui-même donne bien une préférence de zéro. Une case bleue signifie que le style en abscisse est moins apprécié que celui en ordonnée, et inversement pour une case rouge. \n",
    "\n",
    "On notera également une symétrie dans la matrice. Il suffit de prendre la matrice triangulaire inférieure ou supérieure à la diagonale blanche. En effet, soit m1 et m2 deux styles musicaux. On a dans la matrice omega deux cases comparant m1 et m2 : omega[m1][m2] et omega[m2][m1]. On a donc omega[m1][m2] = -omega[m2][m1], donc ces deux cases auront des couleurs opposées de même intensité. "
   ]
  },
  {
   "cell_type": "code",
   "execution_count": 50,
   "metadata": {},
   "outputs": [
    {
     "name": "stdout",
     "output_type": "stream",
     "text": [
      "Rock  compared to  Country\n",
      "Opera  compared to  Rock\n"
     ]
    }
   ],
   "source": [
    "print(omega.columns[6], \" compared to \", omega.columns[2])\n",
    "\n",
    "print(omega.columns[16], \" compared to \", omega.columns[6])"
   ]
  },
  {
   "cell_type": "markdown",
   "metadata": {},
   "source": [
    "La case omega[6][2] (resp. omega[2][6]) compare le Rock et la Country. On remarque que les individus préfèrent largement le Rock par exemple. Ils préfèrent aussi largement le Rock à l'Opéra. "
   ]
  },
  {
   "cell_type": "code",
   "execution_count": null,
   "metadata": {},
   "outputs": [],
   "source": []
  }
 ],
 "metadata": {
  "kernelspec": {
   "display_name": "Python 3",
   "language": "python",
   "name": "python3"
  },
  "language_info": {
   "codemirror_mode": {
    "name": "ipython",
    "version": 3
   },
   "file_extension": ".py",
   "mimetype": "text/x-python",
   "name": "python",
   "nbconvert_exporter": "python",
   "pygments_lexer": "ipython3",
   "version": "3.5.2"
  }
 },
 "nbformat": 4,
 "nbformat_minor": 2
}

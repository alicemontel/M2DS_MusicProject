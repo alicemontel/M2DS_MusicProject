{
 "cells": [
  {
   "cell_type": "markdown",
   "metadata": {},
   "source": [
    "# Machine Learning - dis-moi qui tu es, je te dirai ce que tu écoutes ! \n",
    "\n",
    "> Groupe : Mathilde Boltenhagen, Isabelle Flores, Alice Montel, \n",
    "\n",
    "> Date : Jan. 2018\n",
    "\n",
    "L'objectif ici est de prédire correctement l'évaluation des différents genres musicaux en fonction des caractéristiques de la personne. On prendra pour caractéristiques de la personne différentes catégories de variables parmi toutes celles disponibles. Pour cela, on rappelle la constitution du jeu de données : \n",
    "\n",
    "* Préférences musicales (19 items)\n",
    "* Préférences cinématographiqes (12 items)\n",
    "* Hobbies & intérêts (32 items)\n",
    "* Phobies (10 items)\n",
    "* Santé (3 items)\n",
    "* Personnalité & opinions (57 items)\n",
    "* Dépenses (7 items)\n",
    "* Démographie (10 items)\n",
    "\n",
    "On commence par importer les données. Pour faciliter le traitement et l'apprentissage, on décide de simplement supprimer les lignes pour lesquelles il y a au moins une valeur manquante. On passe donc de 1010 à 674 lignes, pour 150 colonnes.\n",
    "\n",
    "On décide également de transformer les variables catégorielles en valeurs numériques. A chaque valeur textuelle on fait correspondre une valeur numérique. \n"
   ]
  },
  {
   "cell_type": "code",
   "execution_count": 3,
   "metadata": {},
   "outputs": [
    {
     "name": "stdout",
     "output_type": "stream",
     "text": [
      "(1010, 150)\n",
      "(674, 150)\n",
      "Index(['Music', 'Slow songs or fast songs', 'Dance', 'Folk', 'Country',\n",
      "       'Classical music', 'Musical', 'Pop', 'Rock', 'Metal or Hardrock',\n",
      "       ...\n",
      "       'Age', 'Height', 'Weight', 'Number of siblings', 'Gender',\n",
      "       'Left - right handed', 'Education', 'Only child', 'Village - town',\n",
      "       'House - block of flats'],\n",
      "      dtype='object', length=150)\n"
     ]
    }
   ],
   "source": [
    "import pandas as pd \n",
    "import numpy as np \n",
    "from sklearn.preprocessing import MinMaxScaler\n",
    "from sklearn.preprocessing import OneHotEncoder\n",
    "\n",
    "\n",
    "# import des données \n",
    "data = pd.read_csv('../Source/responses.csv')\n",
    "print(data.shape)\n",
    "\n",
    "data = data.dropna()\n",
    "\n",
    "# remplacer les variables catégorielles et normaliser les valeurs \n",
    "for column in data.columns : \n",
    "    data[column] = data[column].astype('category')\n",
    "    data[column] = data[column].cat.codes\n",
    "\n",
    "print(data.shape)\n",
    "print(data.columns)"
   ]
  },
  {
   "cell_type": "markdown",
   "metadata": {},
   "source": [
    "Ensuite, on normalise les données entre 0 et 1. Le retour est de type array, on le transforme donc en DataFrame pour simplifier les traitements ultérieurs."
   ]
  },
  {
   "cell_type": "code",
   "execution_count": 5,
   "metadata": {},
   "outputs": [],
   "source": [
    "scaler = MinMaxScaler()\n",
    "scaler.fit(data)\n",
    "\n",
    "data_std = scaler.transform(data)\n",
    "data_pd_std = pd.DataFrame(data_std, columns=data.columns)"
   ]
  },
  {
   "cell_type": "markdown",
   "metadata": {},
   "source": [
    "On sépare ensuite le jeu de données. On récupère séparément les variables explicatives, et les données qu'on va chercher à prédire, à savoir les genres musicaux. "
   ]
  },
  {
   "cell_type": "code",
   "execution_count": 6,
   "metadata": {},
   "outputs": [
    {
     "name": "stdout",
     "output_type": "stream",
     "text": [
      "(674, 57)\n",
      "(674, 17)\n",
      "(674, 74)\n"
     ]
    }
   ],
   "source": [
    "data_select = data_pd_std.iloc[:,75:132]\n",
    "print(data_select.shape)\n",
    "\n",
    "data_music = data_pd_std.iloc[:,2:19]\n",
    "print(data_music.shape)\n",
    "\n",
    "data_work = pd.concat([data_music, data_select], axis = 1)\n",
    "print(data_work.shape)\n"
   ]
  },
  {
   "cell_type": "markdown",
   "metadata": {},
   "source": [
    "On peut ensuite diviser les données en jeu d'entraînement et de test, pour l'apprentissage et le test.\n",
    "On choisit d'apprendre sur 80% des données et de tester sur les 20% restant. "
   ]
  },
  {
   "cell_type": "code",
   "execution_count": 7,
   "metadata": {},
   "outputs": [
    {
     "ename": "NameError",
     "evalue": "name 'data_one_music' is not defined",
     "output_type": "error",
     "traceback": [
      "\u001b[0;31m---------------------------------------------------------------------------\u001b[0m",
      "\u001b[0;31mNameError\u001b[0m                                 Traceback (most recent call last)",
      "\u001b[0;32m<ipython-input-7-55d0ee69d56f>\u001b[0m in \u001b[0;36m<module>\u001b[0;34m()\u001b[0m\n\u001b[1;32m      1\u001b[0m \u001b[0;32mfrom\u001b[0m \u001b[0msklearn\u001b[0m\u001b[0;34m.\u001b[0m\u001b[0mmodel_selection\u001b[0m \u001b[0;32mimport\u001b[0m \u001b[0mtrain_test_split\u001b[0m\u001b[0;34m\u001b[0m\u001b[0m\n\u001b[1;32m      2\u001b[0m \u001b[0;34m\u001b[0m\u001b[0m\n\u001b[0;32m----> 3\u001b[0;31m \u001b[0mX_train\u001b[0m\u001b[0;34m,\u001b[0m \u001b[0mX_test\u001b[0m\u001b[0;34m,\u001b[0m \u001b[0my_train\u001b[0m\u001b[0;34m,\u001b[0m \u001b[0my_test\u001b[0m \u001b[0;34m=\u001b[0m \u001b[0mtrain_test_split\u001b[0m\u001b[0;34m(\u001b[0m\u001b[0mdata_select\u001b[0m\u001b[0;34m,\u001b[0m \u001b[0mdata_one_music\u001b[0m\u001b[0;34m,\u001b[0m \u001b[0mtest_size\u001b[0m\u001b[0;34m=\u001b[0m\u001b[0;36m0.20\u001b[0m\u001b[0;34m,\u001b[0m \u001b[0mrandom_state\u001b[0m\u001b[0;34m=\u001b[0m\u001b[0;36m42\u001b[0m\u001b[0;34m)\u001b[0m\u001b[0;34m\u001b[0m\u001b[0m\n\u001b[0m\u001b[1;32m      4\u001b[0m \u001b[0mprint\u001b[0m\u001b[0;34m(\u001b[0m\u001b[0;34m\"X_train shape : \"\u001b[0m\u001b[0;34m,\u001b[0m\u001b[0mX_train\u001b[0m\u001b[0;34m.\u001b[0m\u001b[0mshape\u001b[0m\u001b[0;34m)\u001b[0m\u001b[0;34m\u001b[0m\u001b[0m\n\u001b[1;32m      5\u001b[0m \u001b[0mprint\u001b[0m\u001b[0;34m(\u001b[0m\u001b[0;34m\"X_test shape : \"\u001b[0m\u001b[0;34m,\u001b[0m\u001b[0mX_test\u001b[0m\u001b[0;34m.\u001b[0m\u001b[0mshape\u001b[0m\u001b[0;34m)\u001b[0m\u001b[0;34m\u001b[0m\u001b[0m\n",
      "\u001b[0;31mNameError\u001b[0m: name 'data_one_music' is not defined"
     ]
    }
   ],
   "source": [
    "from sklearn.model_selection import train_test_split\n",
    "\n",
    "X_train, X_test, y_train, y_test = train_test_split(data_select, data_one_music, test_size=0.20, random_state=42)\n",
    "print(\"X_train shape : \",X_train.shape)\n",
    "print(\"X_test shape : \",X_test.shape)    \n",
    "print(\"y_train shape : \",y_train.shape)\n",
    "print(\"y_test shape : \",y_test.shape)   "
   ]
  },
  {
   "cell_type": "markdown",
   "metadata": {},
   "source": [
    "On lance ensuite l'apprentissage. Pour cela, on fait une fonction __predictForAll__ qui permet de tester différents algorithmes, avec différentes données en tant que variables explicatives, qui sont passés en paramètres de la fonction. \n",
    "Cette fonction divise le jeu en base d'entrainement et de test, fit le modèle puis affiche l'accuracy. \n",
    "\n",
    "Cette fonction crée un classifieur pour chaque colonne qu'on cherche à prédire, l'une après l'autre. "
   ]
  },
  {
   "cell_type": "code",
   "execution_count": 8,
   "metadata": {},
   "outputs": [],
   "source": [
    "from sklearn.neighbors import KNeighborsClassifier\n",
    "from sklearn.tree import DecisionTreeClassifier\n",
    "from sklearn.ensemble import RandomForestClassifier\n",
    "from sklearn import preprocessing\n",
    "from sklearn.model_selection import cross_val_score, KFold\n",
    "\n",
    "kf = KFold(n_splits=2, shuffle=True, random_state=0)\n",
    "\n",
    "def predictForAll(data_expl, data_target, algo):\n",
    "    for column in data_target.columns :\n",
    "        target = data_target[column]\n",
    "        X_train, X_test, y_train, y_test = train_test_split(data_expl, target, test_size=0.20, random_state=42)\n",
    "        lab_enc_train = preprocessing.LabelEncoder()\n",
    "        encoded_train = lab_enc_train.fit_transform(y_train)\n",
    "\n",
    "        lab_enc_test = preprocessing.LabelEncoder()\n",
    "        encoded_test = lab_enc_test.fit_transform(y_test)\n",
    "\n",
    "        test1 = algo.fit(X_train, encoded_train)\n",
    "\n",
    "        cv_acc = cross_val_score(test1, X_test, encoded_test, cv=kf) #pour le calcul de l’accuracy\n",
    "        print(\"{0} : Accuracy is {1:.3f} +/-{2:.3f}\".format(str(column), np.mean(cv_acc), np.std(cv_acc)))"
   ]
  },
  {
   "cell_type": "code",
   "execution_count": 9,
   "metadata": {},
   "outputs": [
    {
     "name": "stdout",
     "output_type": "stream",
     "text": [
      "Dance : Accuracy is 0.222 +/-0.028\n",
      "Folk : Accuracy is 0.348 +/-0.020\n",
      "Country : Accuracy is 0.274 +/-0.005\n",
      "Classical music : Accuracy is 0.289 +/-0.010\n",
      "Musical : Accuracy is 0.222 +/-0.058\n",
      "Pop : Accuracy is 0.311 +/-0.017\n",
      "Rock : Accuracy is 0.252 +/-0.031\n",
      "Metal or Hardrock : Accuracy is 0.319 +/-0.039\n",
      "Punk : Accuracy is 0.230 +/-0.006\n",
      "Hiphop, Rap : Accuracy is 0.230 +/-0.039\n",
      "Reggae, Ska : Accuracy is 0.237 +/-0.046\n",
      "Swing, Jazz : Accuracy is 0.259 +/-0.024\n",
      "Rock n roll : Accuracy is 0.266 +/-0.042\n",
      "Alternative : Accuracy is 0.274 +/-0.065\n",
      "Latino : Accuracy is 0.326 +/-0.017\n",
      "Techno, Trance : Accuracy is 0.334 +/-0.040\n",
      "Opera : Accuracy is 0.326 +/-0.062\n"
     ]
    }
   ],
   "source": [
    "predictForAll(data_select, data_music, RandomForestClassifier())"
   ]
  },
  {
   "cell_type": "markdown",
   "metadata": {},
   "source": [
    "On remarque à ce stade que la prédiction est difficile. On obtient rarement des résultats meilleurs que le hasard. En effet, le hasard correspond à une Accuracy de 0,2 puisqu'on a une chance sur 5 de prédire correctement la valeur donnée au style musical.\n",
    "\n",
    "Puisqu'il est difficile de prédire l'appréciation d'un genre particulier, on se demande s'il est pertinent de prédire si une personne aime la musique ou non de manière générale. Il y a effectivement une colonne 'Musique' pour laquelle l'individu renseigne s'il aime la musique ou non (la première colonne du jeu de données). \n",
    "Pour que l'apprentissage soit pertinent, il faudrait avoir une bonne répartition des valeurs pour avoir assez de représentants de chaque classe. On affiche donc la répartition des valeurs pour la variable 'Musique'."
   ]
  },
  {
   "cell_type": "code",
   "execution_count": 11,
   "metadata": {},
   "outputs": [
    {
     "data": {
      "text/plain": [
       "array([[<matplotlib.axes._subplots.AxesSubplot object at 0x7f98f8b72710>]],\n",
       "      dtype=object)"
      ]
     },
     "execution_count": 11,
     "metadata": {},
     "output_type": "execute_result"
    },
    {
     "data": {
      "image/png": "[encoded data removed]",
      "text/plain": [
       "<matplotlib.figure.Figure at 0x7f98f8b8d7b8>"
      ]
     },
     "metadata": {},
     "output_type": "display_data"
    }
   ],
   "source": [
    "#target.hist()\n",
    "target = data_pd_std.iloc[:,0:1]\n",
    "target.hist()"
   ]
  },
  {
   "cell_type": "markdown",
   "metadata": {},
   "source": [
    "On observe donc que la prédiction de cette variable ne sera pas pertinente puisque la grande majorité des individus ont donné une note de 5 (voire de 4). Ainsi, on n'a pas assez d'individus ayant donné des notes faibles pour pouvoir prédire les cas où la note serait basse.\n",
    "\n",
    "On sélectionne un nouveau sous-ensemble de variables explicatives pour tenter de prédire les appréciations musicales. "
   ]
  },
  {
   "cell_type": "code",
   "execution_count": 12,
   "metadata": {},
   "outputs": [
    {
     "name": "stdout",
     "output_type": "stream",
     "text": [
      "Index(['History', 'Psychology', 'Politics', 'Mathematics', 'Physics',\n",
      "       'Internet', 'PC', 'Economy Management', 'Biology', 'Chemistry',\n",
      "       'Reading', 'Geography', 'Foreign languages', 'Medicine', 'Law', 'Cars',\n",
      "       'Art exhibitions', 'Religion', 'Countryside, outdoors', 'Dancing',\n",
      "       'Musical instruments', 'Writing', 'Passive sport', 'Active sport',\n",
      "       'Gardening', 'Celebrities', 'Shopping', 'Science and technology',\n",
      "       'Theatre', 'Fun with friends', 'Adrenaline sports', 'Pets'],\n",
      "      dtype='object')\n"
     ]
    }
   ],
   "source": [
    "data_hobbies = data_pd_std.iloc[:,31:63]\n",
    "print(data_hobbies.columns)"
   ]
  },
  {
   "cell_type": "code",
   "execution_count": 13,
   "metadata": {},
   "outputs": [
    {
     "name": "stdout",
     "output_type": "stream",
     "text": [
      "Dance : Accuracy is 0.207 +/-0.028\n",
      "Folk : Accuracy is 0.341 +/-0.047\n",
      "Country : Accuracy is 0.430 +/-0.018\n",
      "Classical music : Accuracy is 0.251 +/-0.057\n",
      "Musical : Accuracy is 0.281 +/-0.072\n",
      "Pop : Accuracy is 0.282 +/-0.017\n",
      "Rock : Accuracy is 0.267 +/-0.046\n",
      "Metal or Hardrock : Accuracy is 0.326 +/-0.047\n",
      "Punk : Accuracy is 0.267 +/-0.017\n",
      "Hiphop, Rap : Accuracy is 0.274 +/-0.024\n",
      "Reggae, Ska : Accuracy is 0.222 +/-0.043\n",
      "Swing, Jazz : Accuracy is 0.230 +/-0.009\n",
      "Rock n roll : Accuracy is 0.348 +/-0.034\n",
      "Alternative : Accuracy is 0.208 +/-0.046\n",
      "Latino : Accuracy is 0.222 +/-0.013\n",
      "Techno, Trance : Accuracy is 0.274 +/-0.005\n",
      "Opera : Accuracy is 0.378 +/-0.055\n"
     ]
    }
   ],
   "source": [
    "predictForAll(data_hobbies, data_music, RandomForestClassifier())"
   ]
  },
  {
   "cell_type": "markdown",
   "metadata": {},
   "source": [
    "On n'observe une fois de plus que les résultats sont très peu concluants.\n",
    "\n",
    "On essaie avec un troisième jeu de variables explicatives, cette fois avec les goûts cinématographiques. "
   ]
  },
  {
   "cell_type": "code",
   "execution_count": 189,
   "metadata": {},
   "outputs": [
    {
     "name": "stdout",
     "output_type": "stream",
     "text": [
      "Index(['Movies', 'Horror', 'Thriller', 'Comedy', 'Romantic', 'Sci-fi', 'War',\n",
      "       'Fantasy/Fairy tales', 'Animated', 'Documentary', 'Western', 'Action',\n",
      "       'History'],\n",
      "      dtype='object')\n"
     ]
    }
   ],
   "source": [
    "data_film = data_pd_std.iloc[:,19:32]\n",
    "print(data_film.columns)"
   ]
  },
  {
   "cell_type": "code",
   "execution_count": 190,
   "metadata": {},
   "outputs": [
    {
     "name": "stdout",
     "output_type": "stream",
     "text": [
      "Dance : Accuracy is 0.341 +/-0.003\n",
      "Folk : Accuracy is 0.252 +/-0.043\n",
      "Country : Accuracy is 0.319 +/-0.010\n",
      "Classical music : Accuracy is 0.289 +/-0.024\n",
      "Musical : Accuracy is 0.318 +/-0.020\n",
      "Pop : Accuracy is 0.229 +/-0.050\n",
      "Rock : Accuracy is 0.266 +/-0.042\n",
      "Metal or Hardrock : Accuracy is 0.371 +/-0.047\n",
      "Punk : Accuracy is 0.259 +/-0.009\n",
      "Hiphop, Rap : Accuracy is 0.222 +/-0.002\n",
      "Reggae, Ska : Accuracy is 0.259 +/-0.009\n",
      "Swing, Jazz : Accuracy is 0.318 +/-0.005\n",
      "Rock n roll : Accuracy is 0.200 +/-0.050\n",
      "Alternative : Accuracy is 0.185 +/-0.021\n",
      "Latino : Accuracy is 0.289 +/-0.010\n",
      "Techno, Trance : Accuracy is 0.311 +/-0.013\n",
      "Opera : Accuracy is 0.282 +/-0.032\n"
     ]
    }
   ],
   "source": [
    "predictForAll(data_film, data_music, RandomForestClassifier())"
   ]
  },
  {
   "cell_type": "markdown",
   "metadata": {},
   "source": [
    "On conclut à ce stade qu'il n'est pas possible de prédire correctement la valeur d'une variable lorsqu'on a 5 possibilités.\n",
    "\n",
    "On se demande si l'étude des films pourraient être plus pertinente. On s'apperçoit que la répartition des valeurs est semblable à celle des musiques, l'étude n'est donc pas pertinente. "
   ]
  },
  {
   "cell_type": "code",
   "execution_count": 14,
   "metadata": {},
   "outputs": [
    {
     "name": "stdout",
     "output_type": "stream",
     "text": [
      "Index(['Movies'], dtype='object')\n"
     ]
    },
    {
     "data": {
      "text/plain": [
       "array([[<matplotlib.axes._subplots.AxesSubplot object at 0x7f98f8b28828>]],\n",
       "      dtype=object)"
      ]
     },
     "execution_count": 14,
     "metadata": {},
     "output_type": "execute_result"
    },
    {
     "data": {
      "image/png": "[encoded data removed]",
      "text/plain": [
       "<matplotlib.figure.Figure at 0x7f98fe0095c0>"
      ]
     },
     "metadata": {},
     "output_type": "display_data"
    }
   ],
   "source": [
    "target_film = data_pd_std.iloc[:,19:20]\n",
    "print(target_film.columns)\n",
    "target_film.hist()"
   ]
  },
  {
   "cell_type": "code",
   "execution_count": 192,
   "metadata": {},
   "outputs": [
    {
     "name": "stdout",
     "output_type": "stream",
     "text": [
      "Dance : Accuracy is 0.222 +/-0.028\n",
      "Folk : Accuracy is 0.392 +/-0.034\n",
      "Country : Accuracy is 0.267 +/-0.046\n",
      "Classical music : Accuracy is 0.230 +/-0.024\n",
      "Musical : Accuracy is 0.252 +/-0.043\n",
      "Pop : Accuracy is 0.252 +/-0.002\n",
      "Rock : Accuracy is 0.266 +/-0.028\n",
      "Metal or Hardrock : Accuracy is 0.356 +/-0.003\n",
      "Punk : Accuracy is 0.275 +/-0.069\n",
      "Hiphop, Rap : Accuracy is 0.252 +/-0.017\n",
      "Reggae, Ska : Accuracy is 0.148 +/-0.001\n",
      "Swing, Jazz : Accuracy is 0.274 +/-0.009\n",
      "Rock n roll : Accuracy is 0.334 +/-0.025\n",
      "Alternative : Accuracy is 0.177 +/-0.043\n",
      "Latino : Accuracy is 0.326 +/-0.027\n",
      "Techno, Trance : Accuracy is 0.393 +/-0.010\n",
      "Opera : Accuracy is 0.244 +/-0.035\n"
     ]
    }
   ],
   "source": [
    "predictForAll(data_select, data_music, DecisionTreeClassifier(max_depth=1))"
   ]
  },
  {
   "cell_type": "markdown",
   "metadata": {},
   "source": [
    "### Binarisation des classes à prédire\n",
    "\n",
    "Puisqu'il est trop compliqué de trouver la note exacte donnée par un individu, on décide de binariser ces valeurs. \n",
    "On décide donc que si un individu a donné une note de 4 ou de 5, il apprécie le style musicale, la classe vaut 1. Si la note est inférieure ou égale à 3, l'individu n'aime pas particulièrement cette musique, la classe vaut désormais 0. "
   ]
  },
  {
   "cell_type": "code",
   "execution_count": 15,
   "metadata": {},
   "outputs": [],
   "source": [
    "data_bin = data\n",
    "\n",
    "for column in data_bin.iloc[:,0:18] :\n",
    "    data_bin[column] = data_bin[column].replace(1, 0)\n",
    "    data_bin[column] = data_bin[column].replace(2, 0)\n",
    "    data_bin[column] = data_bin[column].replace(3, 0)\n",
    "    data_bin[column] = data_bin[column].replace(4, 1)\n",
    "    data_bin[column] = data_bin[column].replace(5, 1)   "
   ]
  },
  {
   "cell_type": "markdown",
   "metadata": {},
   "source": [
    "On sépare les variables explicatives des variables à prédire."
   ]
  },
  {
   "cell_type": "code",
   "execution_count": 18,
   "metadata": {},
   "outputs": [
    {
     "name": "stdout",
     "output_type": "stream",
     "text": [
      "(674, 57)\n",
      "(674, 17)\n",
      "(674, 74)\n"
     ]
    }
   ],
   "source": [
    "data_select_bin = data_bin.iloc[:,75:132]\n",
    "print(data_select_bin.shape)\n",
    "\n",
    "data_music_bin = data_bin.iloc[:,2:19]\n",
    "print(data_music_bin.shape)\n",
    "\n",
    "data_work_bin = pd.concat([data_music_bin, data_select_bin], axis = 1)\n",
    "print(data_work_bin.shape)"
   ]
  },
  {
   "cell_type": "markdown",
   "metadata": {},
   "source": [
    "On tente donc désormais de prédire la classe (0 ou 1) pour chaque style de musique, avec un classifieur distinct à chaque fois. "
   ]
  },
  {
   "cell_type": "code",
   "execution_count": 20,
   "metadata": {},
   "outputs": [
    {
     "name": "stdout",
     "output_type": "stream",
     "text": [
      "Dance : Accuracy is 0.867 +/-0.001\n",
      "Folk : Accuracy is 0.956 +/-0.014\n",
      "Country : Accuracy is 0.956 +/-0.000\n",
      "Classical music : Accuracy is 0.867 +/-0.014\n",
      "Musical : Accuracy is 0.874 +/-0.021\n",
      "Pop : Accuracy is 0.770 +/-0.009\n",
      "Rock : Accuracy is 0.600 +/-0.003\n",
      "Metal or Hardrock : Accuracy is 0.845 +/-0.036\n",
      "Punk : Accuracy is 0.904 +/-0.023\n",
      "Hiphop, Rap : Accuracy is 0.911 +/-0.001\n",
      "Reggae, Ska : Accuracy is 0.867 +/-0.016\n",
      "Swing, Jazz : Accuracy is 0.911 +/-0.014\n",
      "Rock n roll : Accuracy is 0.874 +/-0.008\n",
      "Alternative : Accuracy is 0.830 +/-0.021\n",
      "Latino : Accuracy is 0.889 +/-0.008\n",
      "Techno, Trance : Accuracy is 0.918 +/-0.008\n",
      "Opera : Accuracy is 0.371 +/-0.047\n"
     ]
    }
   ],
   "source": [
    "predictForAll(data_select_bin, data_music_bin, RandomForestClassifier())"
   ]
  },
  {
   "cell_type": "markdown",
   "metadata": {},
   "source": [
    "On observe que l'Accuracy est bien meilleure dans la plupart des cas. Cependant, les prédictions pour le Rock et l'Opéra sont mauvaises (proches du hasard). Mais ces valeurs peuvent s'expliquer du fait que la répartition des valeurs est mauvaise et ne permet pas un apprentissage optimal. En effet, on a pu voir dans la partie d'exploration des données que le Rock est très souvent bien noté, donc très apprécié. Il est donc difficile de trouver des cas où la classe vaudra 0. Le raisonnement est identique à l'inverse pour l'Opéra qui est peu apprécié. \n",
    "\n",
    "A ce stade, on va donc chercher à comparer différents algorithmes d'apprentissage et évaluer leur pertinence et leurs limites. "
   ]
  },
  {
   "cell_type": "code",
   "execution_count": null,
   "metadata": {},
   "outputs": [],
   "source": []
  },
  {
   "cell_type": "markdown",
   "metadata": {},
   "source": [
    "Puisque l'apprentissage est plus pertinent et plus satisfaisant sur des classes binaires, on s'intéresse désormais aux variables explicatives qui ont le plus d'importance dans la prédiction. \n",
    "On sélectionnera ensuite uniquement ces variables pour faire un nouveau modèle. "
   ]
  },
  {
   "cell_type": "code",
   "execution_count": 21,
   "metadata": {},
   "outputs": [],
   "source": [
    "X_train, X_test, y_train, y_test = train_test_split(data_select_bin, data_music_bin, test_size=0.25, random_state=42)"
   ]
  },
  {
   "cell_type": "code",
   "execution_count": 22,
   "metadata": {},
   "outputs": [
    {
     "name": "stdout",
     "output_type": "stream",
     "text": [
      "(505, 57)\n",
      "(169, 57)\n",
      "(505, 17)\n",
      "(169, 17)\n"
     ]
    }
   ],
   "source": [
    "print(X_train.shape)\n",
    "print(X_test.shape)\n",
    "print(y_train.shape)\n",
    "print(y_test.shape)"
   ]
  },
  {
   "cell_type": "code",
   "execution_count": 23,
   "metadata": {},
   "outputs": [
    {
     "name": "stdout",
     "output_type": "stream",
     "text": [
      "[ 4 27 31 30  1 43 25 38 50 48 44 40 53 11 54 13 19 20  0 23 24  9 12 45\n",
      " 10 35  7 52 56 14  6  5 39 46  3 42 16 41 47 36 37 28 22 21  2 34 55 49\n",
      " 17 26 15 51 29  8 18 32 33]\n"
     ]
    },
    {
     "data": {
      "image/png": "[encoded data removed]",
      "text/plain": [
       "<matplotlib.figure.Figure at 0x7f98f8aa8e80>"
      ]
     },
     "metadata": {},
     "output_type": "display_data"
    }
   ],
   "source": [
    "import matplotlib.pyplot as plt\n",
    "\n",
    "clf = RandomForestClassifier()\n",
    "\n",
    "clf.fit(data_select_bin, data_music_bin)\n",
    "importances=clf.feature_importances_\n",
    "\n",
    "sorted_idx = np.argsort(importances)[::-1]\n",
    "print(sorted_idx)\n",
    "\n",
    "# On en garde 8 (sqrt(57))\n",
    "\n",
    "features =np.arange(1, data_select_bin.shape[1]+1)\n",
    "padding = np.arange(data_select_bin.size/len(data_select_bin)) + 2\n",
    "plt.barh(padding, importances[sorted_idx], align='center')\n",
    "plt.yticks(padding, features[sorted_idx]-1)\n",
    "plt.xlabel(\"Relative Importance\")\n",
    "plt.title(\"Variable Importance\")\n",
    "plt.rcParams[\"figure.figsize\"]=[10,7]\n",
    "plt.show()"
   ]
  },
  {
   "cell_type": "markdown",
   "metadata": {},
   "source": [
    "Puisqu'on a ici 57 variables explicatives, on en garde 8 (en arrondissant la racine carrée de 57). On garde donc les variables explicatives d'index 30, 3, 4, 20, 43, 21, 42 et 38. On entraine à nouveau le modèle avec seulement ces 8 variables explicatives. "
   ]
  },
  {
   "cell_type": "code",
   "execution_count": 269,
   "metadata": {},
   "outputs": [
    {
     "name": "stdout",
     "output_type": "stream",
     "text": [
      "(674, 8)\n"
     ]
    }
   ],
   "source": [
    "data_kept = data_select_bin.iloc[:,[30,3,4,20,43,21,42,38]]\n",
    "print(data_kept.shape)"
   ]
  },
  {
   "cell_type": "code",
   "execution_count": 270,
   "metadata": {},
   "outputs": [
    {
     "name": "stdout",
     "output_type": "stream",
     "text": [
      "Dance : Accuracy is 1.000 +/-0.000\n",
      "Folk : Accuracy is 1.000 +/-0.000\n",
      "Country : Accuracy is 1.000 +/-0.000\n",
      "Classical music : Accuracy is 1.000 +/-0.000\n",
      "Musical : Accuracy is 1.000 +/-0.000\n",
      "Pop : Accuracy is 1.000 +/-0.000\n",
      "Rock : Accuracy is 1.000 +/-0.000\n",
      "Metal or Hardrock : Accuracy is 1.000 +/-0.000\n",
      "Punk : Accuracy is 1.000 +/-0.000\n",
      "Hiphop, Rap : Accuracy is 1.000 +/-0.000\n",
      "Reggae, Ska : Accuracy is 1.000 +/-0.000\n",
      "Swing, Jazz : Accuracy is 1.000 +/-0.000\n",
      "Rock n roll : Accuracy is 1.000 +/-0.000\n",
      "Alternative : Accuracy is 1.000 +/-0.000\n",
      "Latino : Accuracy is 1.000 +/-0.000\n",
      "Techno, Trance : Accuracy is 1.000 +/-0.000\n",
      "Opera : Accuracy is 0.296 +/-0.072\n"
     ]
    }
   ],
   "source": [
    "predictForAll(data_kept, data_music_bin, DecisionTreeClassifier())"
   ]
  },
  {
   "cell_type": "code",
   "execution_count": null,
   "metadata": {},
   "outputs": [],
   "source": []
  }
 ],
 "metadata": {
  "kernelspec": {
   "display_name": "Python 3",
   "language": "python",
   "name": "python3"
  },
  "language_info": {
   "codemirror_mode": {
    "name": "ipython",
    "version": 3
   },
   "file_extension": ".py",
   "mimetype": "text/x-python",
   "name": "python",
   "nbconvert_exporter": "python",
   "pygments_lexer": "ipython3",
   "version": "3.5.2"
  }
 },
 "nbformat": 4,
 "nbformat_minor": 2
}

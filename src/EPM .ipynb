{
 "cells": [
  {
   "cell_type": "markdown",
   "metadata": {},
   "source": [
    "# Etude des motifs de préférence musicale Lalala "
   ]
  },
  {
   "cell_type": "code",
   "execution_count": 29,
   "metadata": {},
   "outputs": [
    {
     "name": "stdout",
     "output_type": "stream",
     "text": [
      "(1010, 150)\n"
     ]
    }
   ],
   "source": [
    "import pandas as pd \n",
    "import numpy as np \n",
    "\n",
    "# import des données \n",
    "data = pd.read_csv('../Source/responses.csv')\n",
    "\n",
    "# on remplit les données manquantes avec NaN \n",
    "data = data.replace(r'\\s+', np.nan)\n",
    "\n",
    "# remplacer les variables catégorielles \n",
    "for column in data.columns : \n",
    "    data[column] = data[column].astype('category')\n",
    "    data[column] = data[column].cat.codes\n",
    "\n",
    "print(data.shape)"
   ]
  },
  {
   "cell_type": "markdown",
   "metadata": {},
   "source": [
    "A ce stade, on a des données propres à utiliser. En effet, on a remplacé les variables catégorielles par des variables numériques. On a également remplacé les champs non renseignés par -1, qui est une valeur jamais prise par les variables.\n",
    "\n",
    "On calcule la matrice de préférence pour l'ensemble du jeu de données. Pour cela, on sépare d'abord les données pour extraire d'une part les champs à comparer (les goûts musicaux) des caractéristiques (données démographiques).\n",
    "\n",
    "* Music preferences (19 items)\n",
    "* Movie preferences (12 items)\n",
    "* Hobbies & interests (32 items)\n",
    "* Phobias (10 items)\n",
    "* Health habits (3 items)\n",
    "* Personality traits, views on life, & opinions (57 items)\n",
    "* Spending habits (7 items)\n",
    "* Demographics (10 items)"
   ]
  },
  {
   "cell_type": "code",
   "execution_count": 30,
   "metadata": {},
   "outputs": [
    {
     "name": "stdout",
     "output_type": "stream",
     "text": [
      "(1010, 18)\n"
     ]
    }
   ],
   "source": [
    "# premiere colonne : aime la musique ou non\n",
    "music_ranking = data.iloc[:,0:1]\n",
    "\n",
    "# note pour chaque type de musique \n",
    "data_music = data.iloc[:,1:19]\n",
    "print(data_music.shape)"
   ]
  },
  {
   "cell_type": "markdown",
   "metadata": {},
   "source": [
    "On construit la matrice de préférence. Pour cela, on classe sur chaque ligne les styles musicaux du mieux noté au moins bon. Ensuite on calcule les coefficients w(l1,l2) selon si l1 est préféré à l2 ou l'inverse. \n",
    "On calcule un coefficient final en moyennant w(l1,l2) sur l'ensemble des observations. Cela donnera la matrice de préférence sur l'ensemble des données \n"
   ]
  },
  {
   "cell_type": "code",
   "execution_count": 31,
   "metadata": {},
   "outputs": [
    {
     "name": "stdout",
     "output_type": "stream",
     "text": [
      "                          Slow songs or fast songs  Dance  Folk  Country  \\\n",
      "Slow songs or fast songs                         0    113   545      611   \n",
      "Dance                                         -113      0   433      480   \n",
      "Folk                                          -545   -433     0       90   \n",
      "Country                                       -611   -480   -90        0   \n",
      "\n",
      "                          Classical music  Musical  Pop  Rock  \\\n",
      "Slow songs or fast songs              180      269 -132  -275   \n",
      "Dance                                 102      168 -232  -260   \n",
      "Folk                                 -371     -255 -530  -638   \n",
      "Country                              -416     -323 -602  -692   \n",
      "\n",
      "                          Metal or Hardrock  Punk  Hiphop, Rap  Reggae, Ska  \\\n",
      "Slow songs or fast songs                450   416          190          274   \n",
      "Dance                                   324   280          137          162   \n",
      "Folk                                     12   -56         -259         -261   \n",
      "Country                                 -36  -106         -331         -319   \n",
      "\n",
      "                          Swing, Jazz  Rock n roll  Alternative  Latino  \\\n",
      "Slow songs or fast songs          247           56          233     220   \n",
      "Dance                             143          -12          154     103   \n",
      "Folk                             -260         -415         -232    -262   \n",
      "Country                          -317         -523         -302    -328   \n",
      "\n",
      "                          Techno, Trance  Opera  \n",
      "Slow songs or fast songs             494    544  \n",
      "Dance                                445    462  \n",
      "Folk                                   3     93  \n",
      "Country                              -64     15  \n"
     ]
    }
   ],
   "source": [
    "# on crée la matrice pour stocker les scores de préférences, initialisée à 0 \n",
    "omega = pd.DataFrame(0,index=data_music.columns, columns=data_music.columns)\n",
    "\n",
    "# pour chaque ligne\n",
    "for i in range(len(data_music)): \n",
    "    # pour chaque couple de musique\n",
    "    for column_i in data_music.columns : \n",
    "        for column_j in data_music.columns:\n",
    "            if data_music[column_i][i] < data_music[column_j][i] :\n",
    "                omega[column_j][column_i] = omega[column_j][column_i]-1\n",
    "            if data_music[column_i][i] > data_music[column_j][i] : \n",
    "                omega[column_j][column_i] = omega[column_j][column_i]+1 \n",
    "            if data_music[column_i][i] == data_music[column_j][i] : \n",
    "                omega[column_j][column_i] = omega[column_j][column_i] \n",
    "                \n",
    "print(omega.head(4))"
   ]
  },
  {
   "cell_type": "code",
   "execution_count": 32,
   "metadata": {},
   "outputs": [
    {
     "name": "stdout",
     "output_type": "stream",
     "text": [
      "                          Slow songs or fast songs     Dance      Folk  \\\n",
      "Slow songs or fast songs                  0.000000  0.111881  0.539604   \n",
      "Dance                                    -0.111881  0.000000  0.428713   \n",
      "Folk                                     -0.539604 -0.428713  0.000000   \n",
      "Country                                  -0.604950 -0.475248 -0.089109   \n",
      "\n",
      "                           Country  Classical music   Musical       Pop  \\\n",
      "Slow songs or fast songs  0.604950         0.178218  0.266337 -0.130693   \n",
      "Dance                     0.475248         0.100990  0.166337 -0.229703   \n",
      "Folk                      0.089109        -0.367327 -0.252475 -0.524752   \n",
      "Country                   0.000000        -0.411881 -0.319802 -0.596040   \n",
      "\n",
      "                              Rock  Metal or Hardrock      Punk  Hiphop, Rap  \\\n",
      "Slow songs or fast songs -0.272277           0.445545  0.411881     0.188119   \n",
      "Dance                    -0.257426           0.320792  0.277228     0.135644   \n",
      "Folk                     -0.631683           0.011881 -0.055446    -0.256436   \n",
      "Country                  -0.685149          -0.035644 -0.104950    -0.327723   \n",
      "\n",
      "                          Reggae, Ska  Swing, Jazz  Rock n roll  Alternative  \\\n",
      "Slow songs or fast songs     0.271287     0.244554     0.055446     0.230693   \n",
      "Dance                        0.160396     0.141584    -0.011881     0.152475   \n",
      "Folk                        -0.258416    -0.257426    -0.410891    -0.229703   \n",
      "Country                     -0.315842    -0.313861    -0.517822    -0.299010   \n",
      "\n",
      "                            Latino  Techno, Trance     Opera  \n",
      "Slow songs or fast songs  0.217822        0.489109  0.538614  \n",
      "Dance                     0.101980        0.440594  0.457426  \n",
      "Folk                     -0.259406        0.002970  0.092079  \n",
      "Country                  -0.324752       -0.063366  0.014851  \n"
     ]
    }
   ],
   "source": [
    "def compute_avg(x):\n",
    "    return x/len(data_music)\n",
    "\n",
    "omega = omega.apply(compute_avg)\n",
    "print(omega.head(4))"
   ]
  },
  {
   "cell_type": "markdown",
   "metadata": {},
   "source": [
    "On a obtenu la matrice de préférence, sur l'ensemble du jeu de données. \n",
    "On sait donc quels genres sont généralement préférés à d'autres. Pour faciliter la visualisation des préférences, on utilise un graphique. L'intensité des couleurs définit la grandeur de la valeur."
   ]
  },
  {
   "cell_type": "code",
   "execution_count": 39,
   "metadata": {},
   "outputs": [
    {
     "data": {
      "text/plain": [
       "<matplotlib.image.AxesImage at 0x7ff22ec66240>"
      ]
     },
     "execution_count": 39,
     "metadata": {},
     "output_type": "execute_result"
    },
    {
     "data": {
      "image/png": "[encoded data removed]",
      "text/plain": [
       "<matplotlib.figure.Figure at 0x7ff22ecb21d0>"
      ]
     },
     "metadata": {},
     "output_type": "display_data"
    }
   ],
   "source": [
    "import matplotlib.pyplot as plt\n",
    "\n",
    "plt.matshow(omega, cmap='seismic')"
   ]
  },
  {
   "cell_type": "markdown",
   "metadata": {},
   "source": [
    "### interprétation générale \n",
    "\n",
    "On observe une diagonale blanche, puisqu'un style musical comparé à lui-même donne bien une préférence de zéro. Une case bleue signifie que le style en abscisse est moins apprécié que celui en ordonnée, et inversement pour une case rouge. \n",
    "\n",
    "On notera également une symétrie dans la matrice. Il suffit de prendre la matrice triangulaire inférieure ou supérieure à la diagonale blanche. En effet, soit m1 et m2 deux styles musicaux. On a dans la matrice omega deux cases comparant m1 et m2 : omega[m1][m2] et omega[m2][m1]. On a donc omega[m1][m2] = -omega[m2][m1], donc ces deux cases auront des couleurs opposées de même intensité. \n",
    "\n",
    "-> Valeurs notables ici ? "
   ]
  },
  {
   "cell_type": "code",
   "execution_count": null,
   "metadata": {},
   "outputs": [],
   "source": []
  }
 ],
 "metadata": {
  "kernelspec": {
   "display_name": "Python 3",
   "language": "python",
   "name": "python3"
  },
  "language_info": {
   "codemirror_mode": {
    "name": "ipython",
    "version": 3
   },
   "file_extension": ".py",
   "mimetype": "text/x-python",
   "name": "python",
   "nbconvert_exporter": "python",
   "pygments_lexer": "ipython3",
   "version": "3.5.2"
  }
 },
 "nbformat": 4,
 "nbformat_minor": 2
}

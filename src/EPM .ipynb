{
 "cells": [
  {
   "cell_type": "markdown",
   "metadata": {},
   "source": [
    "# Etude des motifs de préférence musicale Lalala "
   ]
  },
  {
   "cell_type": "code",
   "execution_count": 53,
   "metadata": {},
   "outputs": [
    {
     "name": "stdout",
     "output_type": "stream",
     "text": [
      "(1010, 150)\n",
      "Music                         int8\n",
      "Slow songs or fast songs      int8\n",
      "Dance                         int8\n",
      "Folk                          int8\n",
      "Country                       int8\n",
      "Classical music               int8\n",
      "Musical                       int8\n",
      "Pop                           int8\n",
      "Rock                          int8\n",
      "Metal or Hardrock             int8\n",
      "Punk                          int8\n",
      "Hiphop, Rap                   int8\n",
      "Reggae, Ska                   int8\n",
      "Swing, Jazz                   int8\n",
      "Rock n roll                   int8\n",
      "Alternative                   int8\n",
      "Latino                        int8\n",
      "Techno, Trance                int8\n",
      "Opera                         int8\n",
      "Movies                        int8\n",
      "Horror                        int8\n",
      "Thriller                      int8\n",
      "Comedy                        int8\n",
      "Romantic                      int8\n",
      "Sci-fi                        int8\n",
      "War                           int8\n",
      "Fantasy/Fairy tales           int8\n",
      "Animated                      int8\n",
      "Documentary                   int8\n",
      "Western                       int8\n",
      "                              ... \n",
      "Public speaking               int8\n",
      "Unpopularity                  int8\n",
      "Life struggles                int8\n",
      "Happiness in life             int8\n",
      "Energy levels                 int8\n",
      "Small - big dogs              int8\n",
      "Personality                   int8\n",
      "Finding lost valuables        int8\n",
      "Getting up                    int8\n",
      "Interests or hobbies          int8\n",
      "Parents' advice               int8\n",
      "Questionnaires or polls       int8\n",
      "Internet usage                int8\n",
      "Finances                      int8\n",
      "Shopping centres              int8\n",
      "Branded clothing              int8\n",
      "Entertainment spending        int8\n",
      "Spending on looks             int8\n",
      "Spending on gadgets           int8\n",
      "Spending on healthy eating    int8\n",
      "Age                           int8\n",
      "Height                        int8\n",
      "Weight                        int8\n",
      "Number of siblings            int8\n",
      "Gender                        int8\n",
      "Left - right handed           int8\n",
      "Education                     int8\n",
      "Only child                    int8\n",
      "Village - town                int8\n",
      "House - block of flats        int8\n",
      "Length: 150, dtype: object\n"
     ]
    }
   ],
   "source": [
    "import pandas as pd \n",
    "import numpy as np \n",
    "\n",
    "# import des données \n",
    "data = pd.read_csv('../Source/responses.csv')\n",
    "\n",
    "# on remplit les données manquantes avec NaN \n",
    "data = data.replace(r'\\s+', np.nan)\n",
    "\n",
    "# remplacer les variables catégorielles \n",
    "for column in data.columns : \n",
    "    data[column] = data[column].astype('category')\n",
    "    data[column] = data[column].cat.codes\n",
    "\n",
    "print(data.shape)"
   ]
  },
  {
   "cell_type": "markdown",
   "metadata": {},
   "source": [
    "A ce stade, on a des données propres à utiliser. En effet, on a remplacé les variables catégorielles par des variables numériques. On a également remplacé les champs non renseignés par -1, qui est une valeur jamais prise par les variables.\n",
    "\n",
    "On calcule la matrice de préférence pour l'ensemble du jeu de données. Pour cela, on sépare d'abord les données pour extraire d'une part les champs à comparer (les goûts musicaux) des caractéristiques (données démographiques).\n",
    "\n",
    "* Music preferences (19 items)\n",
    "* Movie preferences (12 items)\n",
    "* Hobbies & interests (32 items)\n",
    "* Phobias (10 items)\n",
    "* Health habits (3 items)\n",
    "* Personality traits, views on life, & opinions (57 items)\n",
    "* Spending habits (7 items)\n",
    "* Demographics (10 items)"
   ]
  },
  {
   "cell_type": "code",
   "execution_count": 70,
   "metadata": {},
   "outputs": [
    {
     "name": "stdout",
     "output_type": "stream",
     "text": [
      "(1010, 19)\n"
     ]
    }
   ],
   "source": [
    "# premiere colonne : aime la musique ou non\n",
    "music_ranking = data.ix[:,0:1]\n",
    "\n",
    "# note pour chaque type de musique \n",
    "data_music = data.ix[:,0:19]\n",
    "print(data_music.shape)"
   ]
  },
  {
   "cell_type": "markdown",
   "metadata": {},
   "source": [
    "On construit la matrice de préférence. Pour cela, on classe sur chaque ligne les styles musicaux du mieux noté au moins bon. Ensuite on calcule les coefficients w(l1,l2) selon si l1 est préféré à l2 ou l'inverse. \n",
    "On calcule un coefficient final en moyennant w(l1,l2) sur l'ensemble des observations. Cela donnera la matrice de préférence sur l'ensemble des données \n"
   ]
  },
  {
   "cell_type": "code",
   "execution_count": 77,
   "metadata": {},
   "outputs": [
    {
     "name": "stdout",
     "output_type": "stream",
     "text": [
      "0       4\n",
      "1       4\n",
      "2       4\n",
      "3       1\n",
      "4       2\n",
      "5       4\n",
      "6       2\n",
      "7       4\n",
      "8       4\n",
      "9       4\n",
      "10      2\n",
      "11      4\n",
      "12      4\n",
      "13      1\n",
      "14      4\n",
      "15      4\n",
      "16      3\n",
      "17      3\n",
      "18      3\n",
      "19      3\n",
      "20      4\n",
      "21      4\n",
      "22     -1\n",
      "23      4\n",
      "24      4\n",
      "25      0\n",
      "26      3\n",
      "27      3\n",
      "28      3\n",
      "29      3\n",
      "       ..\n",
      "980     3\n",
      "981     3\n",
      "982     3\n",
      "983     2\n",
      "984     3\n",
      "985     4\n",
      "986     3\n",
      "987     4\n",
      "988     4\n",
      "989     4\n",
      "990     3\n",
      "991     4\n",
      "992     3\n",
      "993     3\n",
      "994     4\n",
      "995     3\n",
      "996     3\n",
      "997     3\n",
      "998     4\n",
      "999     3\n",
      "1000    2\n",
      "1001    2\n",
      "1002    4\n",
      "1003    4\n",
      "1004    2\n",
      "1005    3\n",
      "1006    0\n",
      "1007    3\n",
      "1008    3\n",
      "1009    0\n",
      "Name: Rock, Length: 1010, dtype: int8\n"
     ]
    },
    {
     "ename": "ValueError",
     "evalue": "The truth value of a Series is ambiguous. Use a.empty, a.bool(), a.item(), a.any() or a.all().",
     "output_type": "error",
     "traceback": [
      "\u001b[0;31m---------------------------------------------------------------------------\u001b[0m",
      "\u001b[0;31mValueError\u001b[0m                                Traceback (most recent call last)",
      "\u001b[0;32m<ipython-input-77-c086dcaf8cf0>\u001b[0m in \u001b[0;36m<module>\u001b[0;34m()\u001b[0m\n\u001b[1;32m      3\u001b[0m     \u001b[0;32mfor\u001b[0m \u001b[0mcolumn1\u001b[0m \u001b[0;32min\u001b[0m \u001b[0mdata_music\u001b[0m\u001b[0;34m.\u001b[0m\u001b[0mcolumns\u001b[0m \u001b[0;34m:\u001b[0m\u001b[0;34m\u001b[0m\u001b[0m\n\u001b[1;32m      4\u001b[0m         \u001b[0;32mfor\u001b[0m \u001b[0mcolumn2\u001b[0m \u001b[0;32min\u001b[0m \u001b[0mdata_music\u001b[0m\u001b[0;34m.\u001b[0m\u001b[0mcolumns\u001b[0m \u001b[0;34m:\u001b[0m\u001b[0;34m\u001b[0m\u001b[0m\n\u001b[0;32m----> 5\u001b[0;31m             \u001b[0;32mif\u001b[0m \u001b[0mdata_music\u001b[0m\u001b[0;34m[\u001b[0m\u001b[0mcolumn1\u001b[0m\u001b[0;34m]\u001b[0m\u001b[0;34m>\u001b[0m\u001b[0mdata_music\u001b[0m\u001b[0;34m[\u001b[0m\u001b[0mcolumn2\u001b[0m\u001b[0;34m]\u001b[0m\u001b[0;34m:\u001b[0m\u001b[0;34m\u001b[0m\u001b[0m\n\u001b[0m\u001b[1;32m      6\u001b[0m                 \u001b[0mw\u001b[0m\u001b[0;34m[\u001b[0m\u001b[0mline\u001b[0m\u001b[0;34m]\u001b[0m\u001b[0;34m[\u001b[0m\u001b[0mcolumn1\u001b[0m\u001b[0;34m]\u001b[0m\u001b[0;34m[\u001b[0m\u001b[0mcolumn2\u001b[0m\u001b[0;34m]\u001b[0m \u001b[0;34m=\u001b[0m \u001b[0;36m1\u001b[0m\u001b[0;34m\u001b[0m\u001b[0m\n\u001b[1;32m      7\u001b[0m             \u001b[0;32mif\u001b[0m \u001b[0mdata_music\u001b[0m\u001b[0;34m[\u001b[0m\u001b[0mcolumn1\u001b[0m\u001b[0;34m]\u001b[0m\u001b[0;34m<\u001b[0m\u001b[0mdata_music\u001b[0m\u001b[0;34m[\u001b[0m\u001b[0mcolumn2\u001b[0m\u001b[0;34m]\u001b[0m\u001b[0;34m:\u001b[0m\u001b[0;34m\u001b[0m\u001b[0m\n",
      "\u001b[0;32m/usr/local/lib/python3.5/dist-packages/pandas/core/generic.py\u001b[0m in \u001b[0;36m__nonzero__\u001b[0;34m(self)\u001b[0m\n\u001b[1;32m   1119\u001b[0m         raise ValueError(\"The truth value of a {0} is ambiguous. \"\n\u001b[1;32m   1120\u001b[0m                          \u001b[0;34m\"Use a.empty, a.bool(), a.item(), a.any() or a.all().\"\u001b[0m\u001b[0;34m\u001b[0m\u001b[0m\n\u001b[0;32m-> 1121\u001b[0;31m                          .format(self.__class__.__name__))\n\u001b[0m\u001b[1;32m   1122\u001b[0m \u001b[0;34m\u001b[0m\u001b[0m\n\u001b[1;32m   1123\u001b[0m     \u001b[0m__bool__\u001b[0m \u001b[0;34m=\u001b[0m \u001b[0m__nonzero__\u001b[0m\u001b[0;34m\u001b[0m\u001b[0m\n",
      "\u001b[0;31mValueError\u001b[0m: The truth value of a Series is ambiguous. Use a.empty, a.bool(), a.item(), a.any() or a.all()."
     ]
    }
   ],
   "source": [
    "# pour chaque ligne \n",
    "# pour chaque paire de colonne\n",
    "# calculer omega(paire)\n",
    "\n",
    "# sommer les paires, moyenner \n",
    "# matrice finale "
   ]
  },
  {
   "cell_type": "code",
   "execution_count": null,
   "metadata": {},
   "outputs": [],
   "source": []
  }
 ],
 "metadata": {
  "kernelspec": {
   "display_name": "Python 3",
   "language": "python",
   "name": "python3"
  },
  "language_info": {
   "codemirror_mode": {
    "name": "ipython",
    "version": 3
   },
   "file_extension": ".py",
   "mimetype": "text/x-python",
   "name": "python",
   "nbconvert_exporter": "python",
   "pygments_lexer": "ipython3",
   "version": "3.5.2"
  }
 },
 "nbformat": 4,
 "nbformat_minor": 2
}

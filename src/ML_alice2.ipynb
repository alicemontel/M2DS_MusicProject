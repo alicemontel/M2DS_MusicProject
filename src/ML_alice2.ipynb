{
 "cells": [
  {
   "cell_type": "markdown",
   "metadata": {},
   "source": [
    "# Machine Learning - dis-moi qui tu es, je te dirai ce que tu écoutes ! \n",
    "\n",
    "> Groupe : Mathilde Boltenhagen, Isabelle Flores, Alice Montel \n",
    "\n",
    "> Date : Jan. 2018\n",
    "\n",
    "L'objectif ici est de prédire correctement l'évaluation des différents genres musicaux en fonction des caractéristiques de la personne. On prendra pour caractéristiques de la personne différentes catégories de variables parmi toutes celles disponibles. Pour cela, on rappelle la constitution du jeu de données : \n",
    "\n",
    "* Préférences musicales (19 items)\n",
    "* Préférences cinématographiques (12 items)\n",
    "* Hobbies & intérêts (32 items)\n",
    "* Phobies (10 items)\n",
    "* Santé (3 items)\n",
    "* Personnalité & opinions (57 items)\n",
    "* Dépenses (7 items)\n",
    "* Démographie (10 items)\n",
    "\n",
    "On commence par importer les données. Pour faciliter le traitement et l'apprentissage, on décide de simplement supprimer les lignes pour lesquelles il y a au moins une valeur manquante. On passe donc de 1010 à 674 lignes, pour 150 colonnes.\n",
    "\n",
    "On décide également de transformer les variables catégorielles en valeurs numériques. A chaque valeur textuelle on fait correspondre une valeur numérique. \n"
   ]
  },
  {
   "cell_type": "code",
   "execution_count": 8,
   "metadata": {},
   "outputs": [
    {
     "name": "stdout",
     "output_type": "stream",
     "text": [
      "(1010, 150)\n",
      "(674, 150)\n",
      "Index(['Music', 'Slow songs or fast songs', 'Dance', 'Folk', 'Country',\n",
      "       'Classical music', 'Musical', 'Pop', 'Rock', 'Metal or Hardrock',\n",
      "       ...\n",
      "       'Age', 'Height', 'Weight', 'Number of siblings', 'Gender',\n",
      "       'Left - right handed', 'Education', 'Only child', 'Village - town',\n",
      "       'House - block of flats'],\n",
      "      dtype='object', length=150)\n"
     ]
    }
   ],
   "source": [
    "import pandas as pd \n",
    "import numpy as np \n",
    "from sklearn.preprocessing import MinMaxScaler\n",
    "from sklearn.preprocessing import StandardScaler\n",
    "from sklearn.preprocessing import OneHotEncoder\n",
    "from sklearn.model_selection import train_test_split\n",
    "\n",
    "\n",
    "# import des données \n",
    "data = pd.read_csv('../Source/responses.csv')\n",
    "print(data.shape)\n",
    "\n",
    "data = data.dropna()\n",
    "\n",
    "# remplacer les variables catégorielles et normaliser les valeurs \n",
    "for column in data.columns : \n",
    "    data[column] = data[column].astype('category')\n",
    "    data[column] = data[column].cat.codes\n",
    "\n",
    "print(data.shape)\n",
    "print(data.columns)"
   ]
  },
  {
   "cell_type": "markdown",
   "metadata": {},
   "source": [
    "Ensuite, on normalise les données entre 0 et 1. Le retour est de type array, on le transforme donc en DataFrame pour simplifier les traitements ultérieurs."
   ]
  },
  {
   "cell_type": "code",
   "execution_count": 9,
   "metadata": {},
   "outputs": [],
   "source": [
    "scaler = MinMaxScaler()\n",
    "scaler.fit(data)\n",
    "\n",
    "data_std = scaler.transform(data)\n",
    "data_pd_std = pd.DataFrame(data_std, columns=data.columns)"
   ]
  },
  {
   "cell_type": "markdown",
   "metadata": {},
   "source": [
    "On sépare ensuite le jeu de données. On récupère séparément les variables explicatives, et les données qu'on va chercher à prédire, à savoir les genres musicaux. "
   ]
  },
  {
   "cell_type": "code",
   "execution_count": 10,
   "metadata": {},
   "outputs": [
    {
     "name": "stdout",
     "output_type": "stream",
     "text": [
      "(674, 57)\n",
      "(674, 17)\n",
      "(674, 74)\n"
     ]
    }
   ],
   "source": [
    "data_select = data_pd_std.iloc[:,75:132]\n",
    "print(data_select.shape)\n",
    "\n",
    "data_music = data_pd_std.iloc[:,2:19]\n",
    "print(data_music.shape)\n",
    "\n",
    "data_work = pd.concat([data_music, data_select], axis = 1)\n",
    "print(data_work.shape)\n"
   ]
  },
  {
   "cell_type": "markdown",
   "metadata": {},
   "source": [
    "On lance ensuite l'apprentissage. Pour cela, on fait une fonction __predictForAll__ qui permet de tester différents algorithmes, avec différentes données en tant que variables explicatives, qui sont passés en paramètres de la fonction. \n",
    "Cette fonction divise le jeu en base d'entrainement et de test, fit le modèle puis affiche l'accuracy. \n",
    "\n",
    "Cette fonction crée un classifieur pour chaque colonne qu'on cherche à prédire, l'une après l'autre. "
   ]
  },
  {
   "cell_type": "code",
   "execution_count": 11,
   "metadata": {},
   "outputs": [],
   "source": [
    "from sklearn.neighbors import KNeighborsClassifier\n",
    "from sklearn.tree import DecisionTreeClassifier\n",
    "from sklearn.ensemble import RandomForestClassifier\n",
    "from sklearn import preprocessing\n",
    "from sklearn.model_selection import cross_val_score, KFold\n",
    "\n",
    "kf = KFold(n_splits=5, shuffle=True, random_state=0)\n",
    "\n",
    "def predictForAll(data_expl, data_target, algo):\n",
    "    for column in data_target.columns :\n",
    "        target = data_target[column]\n",
    "        X_train, X_test, y_train, y_test = train_test_split(data_expl, target, test_size=0.20, random_state=42)\n",
    "        lab_enc_train = preprocessing.LabelEncoder()\n",
    "        encoded_train = lab_enc_train.fit_transform(y_train)\n",
    "\n",
    "        lab_enc_test = preprocessing.LabelEncoder()\n",
    "        encoded_test = lab_enc_test.fit_transform(y_test)\n",
    "\n",
    "        test1 = algo.fit(X_train, encoded_train)\n",
    "\n",
    "        cv_acc = cross_val_score(test1, X_test, encoded_test, cv=kf) #pour le calcul de l’accuracy\n",
    "        print(\"{0} : Accuracy is {1:.3f} +/-{2:.3f}\".format(str(column), np.mean(cv_acc), np.std(cv_acc)))"
   ]
  },
  {
   "cell_type": "code",
   "execution_count": 12,
   "metadata": {},
   "outputs": [
    {
     "name": "stdout",
     "output_type": "stream",
     "text": [
      "RandomForest ----------\n",
      "Dance : Accuracy is 0.259 +/-0.070\n",
      "Folk : Accuracy is 0.326 +/-0.103\n",
      "Country : Accuracy is 0.296 +/-0.105\n",
      "Classical music : Accuracy is 0.267 +/-0.015\n",
      "Musical : Accuracy is 0.185 +/-0.091\n",
      "Pop : Accuracy is 0.281 +/-0.055\n",
      "Rock : Accuracy is 0.304 +/-0.072\n",
      "Metal or Hardrock : Accuracy is 0.311 +/-0.050\n",
      "Punk : Accuracy is 0.185 +/-0.062\n",
      "Hiphop, Rap : Accuracy is 0.252 +/-0.079\n",
      "Reggae, Ska : Accuracy is 0.267 +/-0.076\n",
      "Swing, Jazz : Accuracy is 0.230 +/-0.072\n",
      "Rock n roll : Accuracy is 0.230 +/-0.028\n",
      "Alternative : Accuracy is 0.252 +/-0.043\n",
      "Latino : Accuracy is 0.222 +/-0.066\n",
      "Techno, Trance : Accuracy is 0.319 +/-0.101\n",
      "Opera : Accuracy is 0.230 +/-0.086\n",
      "\n",
      "DecisionTree ----------\n",
      "Dance : Accuracy is 0.200 +/-0.095\n",
      "Folk : Accuracy is 0.274 +/-0.055\n",
      "Country : Accuracy is 0.230 +/-0.043\n",
      "Classical music : Accuracy is 0.244 +/-0.090\n",
      "Musical : Accuracy is 0.193 +/-0.059\n",
      "Pop : Accuracy is 0.133 +/-0.050\n",
      "Rock : Accuracy is 0.296 +/-0.078\n",
      "Metal or Hardrock : Accuracy is 0.252 +/-0.089\n",
      "Punk : Accuracy is 0.185 +/-0.062\n",
      "Hiphop, Rap : Accuracy is 0.200 +/-0.093\n",
      "Reggae, Ska : Accuracy is 0.207 +/-0.073\n",
      "Swing, Jazz : Accuracy is 0.296 +/-0.052\n",
      "Rock n roll : Accuracy is 0.244 +/-0.038\n",
      "Alternative : Accuracy is 0.193 +/-0.028\n",
      "Latino : Accuracy is 0.222 +/-0.070\n",
      "Techno, Trance : Accuracy is 0.281 +/-0.106\n",
      "Opera : Accuracy is 0.267 +/-0.054\n",
      "\n",
      "STUMP Tree ----------\n",
      "Dance : Accuracy is 0.304 +/-0.036\n",
      "Folk : Accuracy is 0.400 +/-0.049\n",
      "Country : Accuracy is 0.267 +/-0.054\n",
      "Classical music : Accuracy is 0.215 +/-0.059\n",
      "Musical : Accuracy is 0.200 +/-0.090\n",
      "Pop : Accuracy is 0.230 +/-0.049\n",
      "Rock : Accuracy is 0.267 +/-0.076\n",
      "Metal or Hardrock : Accuracy is 0.341 +/-0.054\n",
      "Punk : Accuracy is 0.207 +/-0.083\n",
      "Hiphop, Rap : Accuracy is 0.230 +/-0.068\n",
      "Reggae, Ska : Accuracy is 0.207 +/-0.018\n",
      "Swing, Jazz : Accuracy is 0.230 +/-0.043\n",
      "Rock n roll : Accuracy is 0.259 +/-0.074\n",
      "Alternative : Accuracy is 0.281 +/-0.050\n",
      "Latino : Accuracy is 0.222 +/-0.102\n",
      "Techno, Trance : Accuracy is 0.378 +/-0.141\n",
      "Opera : Accuracy is 0.304 +/-0.072\n"
     ]
    }
   ],
   "source": [
    "print(\"RandomForest ----------\")\n",
    "predictForAll(data_select, data_music, RandomForestClassifier())\n",
    "print()\n",
    "print(\"DecisionTree ----------\")\n",
    "predictForAll(data_select, data_music, DecisionTreeClassifier())\n",
    "print()\n",
    "print(\"STUMP Tree ----------\")\n",
    "predictForAll(data_select, data_music, DecisionTreeClassifier(max_depth=1))"
   ]
  },
  {
   "cell_type": "markdown",
   "metadata": {},
   "source": [
    "On remarque à ce stade que la prédiction est difficile. On obtient rarement des résultats meilleurs que le hasard. En effet, le hasard correspond à une Accuracy de 0,2 puisqu'on a une chance sur 5 de prédire correctement la valeur donnée au style musical.\n",
    "\n",
    "Puisqu'il est difficile de prédire l'appréciation d'un genre particulier, on se demande s'il est pertinent de prédire si une personne aime la musique ou non de manière générale. Il y a effectivement une colonne 'Musique' pour laquelle l'individu renseigne s'il aime la musique ou non (la première colonne du jeu de données). \n",
    "Pour que l'apprentissage soit pertinent, il faudrait avoir une bonne répartition des valeurs pour avoir assez de représentants de chaque classe. On affiche donc la répartition des valeurs pour la variable 'Musique'."
   ]
  },
  {
   "cell_type": "code",
   "execution_count": 13,
   "metadata": {},
   "outputs": [
    {
     "data": {
      "text/plain": [
       "array([[<matplotlib.axes._subplots.AxesSubplot object at 0x7feb03e86668>]],\n",
       "      dtype=object)"
      ]
     },
     "execution_count": 13,
     "metadata": {},
     "output_type": "execute_result"
    },
    {
     "data": {
      "image/png": "[encoded data removed]",
      "text/plain": [
       "<matplotlib.figure.Figure at 0x7feb04df5128>"
      ]
     },
     "metadata": {},
     "output_type": "display_data"
    }
   ],
   "source": [
    "target = data_pd_std.iloc[:,0:1]\n",
    "target.hist()"
   ]
  },
  {
   "cell_type": "markdown",
   "metadata": {},
   "source": [
    "On observe donc que la prédiction de cette variable ne sera pas pertinente puisque la grande majorité des individus ont donné une note de 5 (voire de 4). Ainsi, on n'a pas assez d'individus ayant donné des notes faibles pour pouvoir prédire les cas où la note serait basse.\n",
    "\n",
    "On sélectionne un nouveau sous-ensemble de variables explicatives pour tenter de prédire les appréciations musicales. "
   ]
  },
  {
   "cell_type": "code",
   "execution_count": 14,
   "metadata": {},
   "outputs": [
    {
     "name": "stdout",
     "output_type": "stream",
     "text": [
      "Index(['History', 'Psychology', 'Politics', 'Mathematics', 'Physics',\n",
      "       'Internet', 'PC', 'Economy Management', 'Biology', 'Chemistry',\n",
      "       'Reading', 'Geography', 'Foreign languages', 'Medicine', 'Law', 'Cars',\n",
      "       'Art exhibitions', 'Religion', 'Countryside, outdoors', 'Dancing',\n",
      "       'Musical instruments', 'Writing', 'Passive sport', 'Active sport',\n",
      "       'Gardening', 'Celebrities', 'Shopping', 'Science and technology',\n",
      "       'Theatre', 'Fun with friends', 'Adrenaline sports', 'Pets'],\n",
      "      dtype='object')\n"
     ]
    }
   ],
   "source": [
    "data_hobbies = data_pd_std.iloc[:,31:63]\n",
    "print(data_hobbies.columns)"
   ]
  },
  {
   "cell_type": "code",
   "execution_count": 15,
   "metadata": {},
   "outputs": [
    {
     "name": "stdout",
     "output_type": "stream",
     "text": [
      "Dance : Accuracy is 0.252 +/-0.028\n",
      "Folk : Accuracy is 0.385 +/-0.142\n",
      "Country : Accuracy is 0.333 +/-0.097\n",
      "Classical music : Accuracy is 0.289 +/-0.108\n",
      "Musical : Accuracy is 0.274 +/-0.055\n",
      "Pop : Accuracy is 0.274 +/-0.106\n",
      "Rock : Accuracy is 0.289 +/-0.059\n",
      "Metal or Hardrock : Accuracy is 0.289 +/-0.043\n",
      "Punk : Accuracy is 0.207 +/-0.073\n",
      "Hiphop, Rap : Accuracy is 0.193 +/-0.095\n",
      "Reggae, Ska : Accuracy is 0.215 +/-0.064\n",
      "Swing, Jazz : Accuracy is 0.281 +/-0.050\n",
      "Rock n roll : Accuracy is 0.289 +/-0.059\n",
      "Alternative : Accuracy is 0.193 +/-0.100\n",
      "Latino : Accuracy is 0.281 +/-0.095\n",
      "Techno, Trance : Accuracy is 0.289 +/-0.116\n",
      "Opera : Accuracy is 0.319 +/-0.050\n"
     ]
    }
   ],
   "source": [
    "predictForAll(data_hobbies, data_music, RandomForestClassifier())"
   ]
  },
  {
   "cell_type": "markdown",
   "metadata": {},
   "source": [
    "On n'observe une fois de plus que les résultats sont très peu concluants.\n",
    "\n",
    "On essaie avec un troisième jeu de variables explicatives, cette fois avec les goûts cinématographiques. "
   ]
  },
  {
   "cell_type": "code",
   "execution_count": 16,
   "metadata": {},
   "outputs": [
    {
     "name": "stdout",
     "output_type": "stream",
     "text": [
      "Index(['Movies', 'Horror', 'Thriller', 'Comedy', 'Romantic', 'Sci-fi', 'War',\n",
      "       'Fantasy/Fairy tales', 'Animated', 'Documentary', 'Western', 'Action',\n",
      "       'History'],\n",
      "      dtype='object')\n"
     ]
    }
   ],
   "source": [
    "data_film = data_pd_std.iloc[:,19:32]\n",
    "print(data_film.columns)"
   ]
  },
  {
   "cell_type": "code",
   "execution_count": 17,
   "metadata": {},
   "outputs": [
    {
     "name": "stdout",
     "output_type": "stream",
     "text": [
      "Dance : Accuracy is 0.281 +/-0.038\n",
      "Folk : Accuracy is 0.296 +/-0.066\n",
      "Country : Accuracy is 0.311 +/-0.095\n",
      "Classical music : Accuracy is 0.296 +/-0.122\n",
      "Musical : Accuracy is 0.193 +/-0.036\n",
      "Pop : Accuracy is 0.252 +/-0.059\n",
      "Rock : Accuracy is 0.252 +/-0.086\n",
      "Metal or Hardrock : Accuracy is 0.281 +/-0.065\n",
      "Punk : Accuracy is 0.252 +/-0.049\n",
      "Hiphop, Rap : Accuracy is 0.185 +/-0.062\n",
      "Reggae, Ska : Accuracy is 0.237 +/-0.076\n",
      "Swing, Jazz : Accuracy is 0.281 +/-0.060\n",
      "Rock n roll : Accuracy is 0.267 +/-0.098\n",
      "Alternative : Accuracy is 0.252 +/-0.106\n",
      "Latino : Accuracy is 0.185 +/-0.084\n",
      "Techno, Trance : Accuracy is 0.259 +/-0.023\n",
      "Opera : Accuracy is 0.311 +/-0.060\n"
     ]
    }
   ],
   "source": [
    "predictForAll(data_film, data_music, RandomForestClassifier())"
   ]
  },
  {
   "cell_type": "markdown",
   "metadata": {},
   "source": [
    "On conclut à ce stade qu'il n'est pas possible de prédire correctement la valeur d'une variable lorsqu'on a 5 possibilités.\n",
    "\n",
    "On se demande si l'étude des films pourraient être plus pertinente. On s'apperçoit que la répartition des valeurs est semblable à celle des musiques, l'étude n'est donc pas pertinente. "
   ]
  },
  {
   "cell_type": "code",
   "execution_count": 18,
   "metadata": {},
   "outputs": [
    {
     "name": "stdout",
     "output_type": "stream",
     "text": [
      "Index(['Movies'], dtype='object')\n"
     ]
    },
    {
     "data": {
      "text/plain": [
       "array([[<matplotlib.axes._subplots.AxesSubplot object at 0x7feb07df1e80>]],\n",
       "      dtype=object)"
      ]
     },
     "execution_count": 18,
     "metadata": {},
     "output_type": "execute_result"
    },
    {
     "data": {
      "image/png": "[encoded data removed]",
      "text/plain": [
       "<matplotlib.figure.Figure at 0x7feb089ec3c8>"
      ]
     },
     "metadata": {},
     "output_type": "display_data"
    }
   ],
   "source": [
    "target_film = data_pd_std.iloc[:,19:20]\n",
    "print(target_film.columns)\n",
    "target_film.hist()"
   ]
  },
  {
   "cell_type": "markdown",
   "metadata": {},
   "source": [
    "### Binarisation des classes à prédire\n",
    "\n",
    "Puisqu'il est trop compliqué de trouver la note exacte donnée par un individu, on décide de binariser ces valeurs. \n",
    "On décide donc que si un individu a donné une note de 4 ou de 5, il apprécie le style musicale, la classe vaut 1. Si la note est inférieure ou égale à 3, l'individu n'aime pas particulièrement cette musique, la classe vaut désormais 0. "
   ]
  },
  {
   "cell_type": "code",
   "execution_count": 19,
   "metadata": {},
   "outputs": [],
   "source": [
    "data_bin = data\n",
    "# A NE FAIRE QU'UNE FOIS, SINON COMMENTER\n",
    "for column in data_bin.iloc[:,0:19] :\n",
    "    data_bin[column] = data_bin[column].replace(1, 0)\n",
    "    data_bin[column] = data_bin[column].replace(2, 0)\n",
    "    data_bin[column] = data_bin[column].replace(3, 0)\n",
    "    data_bin[column] = data_bin[column].replace(4, 1)\n",
    "    data_bin[column] = data_bin[column].replace(5, 1)   "
   ]
  },
  {
   "cell_type": "markdown",
   "metadata": {},
   "source": [
    "On sépare les variables explicatives des variables à prédire."
   ]
  },
  {
   "cell_type": "code",
   "execution_count": 20,
   "metadata": {},
   "outputs": [
    {
     "name": "stdout",
     "output_type": "stream",
     "text": [
      "(674, 57)\n",
      "(674, 17)\n",
      "(674, 74)\n"
     ]
    }
   ],
   "source": [
    "data_select_bin = data_bin.iloc[:,75:132]\n",
    "print(data_select_bin.shape)\n",
    "\n",
    "data_music_bin = data_bin.iloc[:,2:19]\n",
    "print(data_music_bin.shape)\n",
    "\n",
    "data_work_bin = pd.concat([data_music_bin, data_select_bin], axis = 1)\n",
    "print(data_work_bin.shape)"
   ]
  },
  {
   "cell_type": "markdown",
   "metadata": {},
   "source": [
    "On tente donc désormais de prédire la classe (0 ou 1) pour chaque style de musique, avec un classifieur distinct à chaque fois. "
   ]
  },
  {
   "cell_type": "code",
   "execution_count": 21,
   "metadata": {},
   "outputs": [
    {
     "name": "stdout",
     "output_type": "stream",
     "text": [
      "Dance : Accuracy is 0.859 +/-0.028\n",
      "Folk : Accuracy is 0.956 +/-0.015\n",
      "Country : Accuracy is 0.948 +/-0.038\n",
      "Classical music : Accuracy is 0.874 +/-0.050\n",
      "Musical : Accuracy is 0.881 +/-0.054\n",
      "Pop : Accuracy is 0.763 +/-0.086\n",
      "Rock : Accuracy is 0.593 +/-0.033\n",
      "Metal or Hardrock : Accuracy is 0.852 +/-0.062\n",
      "Punk : Accuracy is 0.889 +/-0.052\n",
      "Hiphop, Rap : Accuracy is 0.911 +/-0.055\n",
      "Reggae, Ska : Accuracy is 0.852 +/-0.023\n",
      "Swing, Jazz : Accuracy is 0.926 +/-0.023\n",
      "Rock n roll : Accuracy is 0.867 +/-0.038\n",
      "Alternative : Accuracy is 0.837 +/-0.055\n",
      "Latino : Accuracy is 0.874 +/-0.076\n",
      "Techno, Trance : Accuracy is 0.911 +/-0.030\n",
      "Opera : Accuracy is 0.948 +/-0.038\n"
     ]
    }
   ],
   "source": [
    "predictForAll(data_select_bin, data_music_bin, RandomForestClassifier())"
   ]
  },
  {
   "cell_type": "markdown",
   "metadata": {},
   "source": [
    "On observe que l'Accuracy est bien meilleure dans la plupart des cas. Cependant, les prédictions pour le Rock et l'Opéra sont mauvaises (proches du hasard). Mais ces valeurs peuvent s'expliquer du fait que la répartition des valeurs est mauvaise et ne permet pas un apprentissage optimal. En effet, on a pu voir dans la partie d'exploration des données que le Rock est très souvent bien noté, donc très apprécié. Il est donc difficile de trouver des cas où la classe vaudra 0. Le raisonnement est identique à l'inverse pour l'Opéra qui est peu apprécié. \n",
    "\n",
    "A ce stade, on va donc chercher à comparer différents algorithmes d'apprentissage et évaluer leur pertinence et leurs limites. Pour cela, on reprend la fonction __predictForAll__ en ajoutant des données d'évaluation comme le rappel et la précision. \n",
    "\n",
    "On ne se base pas sur le temps d'exécution comme critère de comparaison, puisqu'il est toujours très faible, ceci étant dû au nombre de lignes relativement faible de notre jeu. "
   ]
  },
  {
   "cell_type": "code",
   "execution_count": 85,
   "metadata": {},
   "outputs": [],
   "source": [
    "from sklearn.naive_bayes import GaussianNB\n",
    "from sklearn.ensemble import RandomForestClassifier, BaggingClassifier, AdaBoostClassifier\n",
    "from sklearn.neighbors import KNeighborsClassifier\n",
    "from sklearn.model_selection import KFold, cross_val_score, train_test_split\n",
    "from sklearn.tree import DecisionTreeClassifier\n",
    "from sklearn.neural_network import MLPClassifier\n",
    "from sklearn.metrics import recall_score, precision_score\n",
    "from sklearn.metrics import confusion_matrix\n",
    "import time\n",
    "\n",
    "clfs = {\n",
    "    'NBS': GaussianNB(),\n",
    "    #'CART' : DecisionTreeClassifier(), # pas de paramètre car CART par défaut\n",
    "    #'ID3' : DecisionTreeClassifier(criterion='entropy'),\n",
    "    #'STUMP' : DecisionTreeClassifier(max_depth=1),\n",
    "    #'MLP': MLPClassifier(hidden_layer_sizes=(20,10)),\n",
    "    #'KNN': KNeighborsClassifier(n_neighbors=10),\n",
    "    #'BAG': BaggingClassifier(n_estimators=50),\n",
    "    #'ADAB' : AdaBoostClassifier(n_estimators=50),\n",
    "    #'RF': RandomForestClassifier(n_estimators=50),\n",
    "}\n",
    "\n",
    "# Pour aller plus loin -> choisir le meilleur classifieur pour chaque colonne\n",
    "bestModel = {}\n",
    "\n",
    "def predictAllModels(data_expl, data_target, clfs):\n",
    "    for column in data_target.columns :\n",
    "        print(\"Pour \", column, \"----------\")\n",
    "        bestAlgo = clfs['NBS']\n",
    "        for i in clfs :\n",
    "            algo = clfs[i]\n",
    "            target = data_target.loc[:,[column]]\n",
    "            \n",
    "            X_train, X_test, y_train, y_test = train_test_split(data_expl, target.values, test_size=0.20, random_state=30)\n",
    "            \n",
    "            test1 = algo.fit(X_train, y_train.ravel())\n",
    "\n",
    "            y_test = pd.DataFrame(y_test.ravel())\n",
    "            y_pred = test1.predict(X_test)\n",
    "            \n",
    "            y_pred = pd.DataFrame(y_pred)\n",
    "            cnf_matrix = confusion_matrix(y_test.values.ravel(), y_pred).ravel()\n",
    "            \n",
    "            cv_acc = cross_val_score(test1, X_test, y_test.values.ravel(), cv=kf) #pour le calcul de l’accuracy\n",
    "            cv_r = cross_val_score(test1, X_test, y_test.values.ravel(), cv=kf, scoring='recall') #pour le calcul du rappel\n",
    "            cv_p = cross_val_score(test1, X_test, y_test.values.ravel(), cv=kf, scoring='precision') #pour le calcul de la precision\n",
    "\n",
    "            print(\"Accuracy for {0} is {1:.3f} +/-{2:.3f}\".format(i, np.mean(cv_acc), np.std(cv_acc)))\n",
    "            print(\"Recall for {0} is: {1:.3f} +/-{2:.3f}\".format(i,np.mean(cv_r), np.std(cv_r)))\n",
    "            print(\"Precision for {0} is: {1:.3f} +/-{2:.3f}\".format(i,np.mean(cv_p), np.std(cv_p)))\n",
    "            print(\"Confusion Matrix : [tn, fp, fn, tp] \")\n",
    "            print(cnf_matrix)\n",
    "            print()"
   ]
  },
  {
   "cell_type": "code",
   "execution_count": 86,
   "metadata": {},
   "outputs": [
    {
     "name": "stdout",
     "output_type": "stream",
     "text": [
      "Pour  Dance ----------\n",
      "Accuracy for NBS is 0.748 +/-0.072\n",
      "Recall for NBS is: 0.124 +/-0.152\n",
      "Precision for NBS is: 0.102 +/-0.155\n",
      "Confusion Matrix : [tn, fp, fn, tp] \n",
      "[101  12  15   7]\n",
      "\n",
      "Pour  Folk ----------\n",
      "Accuracy for NBS is 0.889 +/-0.052\n",
      "Recall for NBS is: 0.000 +/-0.000\n",
      "Precision for NBS is: 0.000 +/-0.000\n",
      "Confusion Matrix : [tn, fp, fn, tp] \n",
      "[120   8   6   1]\n",
      "\n",
      "Pour  Country ----------\n",
      "Accuracy for NBS is 0.933 +/-0.028\n",
      "Recall for NBS is: 0.000 +/-0.000\n",
      "Precision for NBS is: 0.000 +/-0.000\n",
      "Confusion Matrix : [tn, fp, fn, tp] \n",
      "[122   5   7   1]\n",
      "\n",
      "Pour  Classical music ----------\n"
     ]
    },
    {
     "name": "stderr",
     "output_type": "stream",
     "text": [
      "/usr/local/lib/python3.5/dist-packages/sklearn/metrics/classification.py:1135: UndefinedMetricWarning: Precision is ill-defined and being set to 0.0 due to no predicted samples.\n",
      "  'precision', 'predicted', average, warn_for)\n",
      "/usr/local/lib/python3.5/dist-packages/sklearn/metrics/classification.py:1135: UndefinedMetricWarning: Precision is ill-defined and being set to 0.0 due to no predicted samples.\n",
      "  'precision', 'predicted', average, warn_for)\n",
      "/usr/local/lib/python3.5/dist-packages/sklearn/metrics/classification.py:1135: UndefinedMetricWarning: Precision is ill-defined and being set to 0.0 due to no predicted samples.\n",
      "  'precision', 'predicted', average, warn_for)\n",
      "/usr/local/lib/python3.5/dist-packages/sklearn/metrics/classification.py:1135: UndefinedMetricWarning: Precision is ill-defined and being set to 0.0 due to no predicted samples.\n",
      "  'precision', 'predicted', average, warn_for)\n",
      "/usr/local/lib/python3.5/dist-packages/sklearn/metrics/classification.py:1135: UndefinedMetricWarning: Precision is ill-defined and being set to 0.0 due to no predicted samples.\n",
      "  'precision', 'predicted', average, warn_for)\n",
      "/usr/local/lib/python3.5/dist-packages/sklearn/metrics/classification.py:1135: UndefinedMetricWarning: Precision is ill-defined and being set to 0.0 due to no predicted samples.\n",
      "  'precision', 'predicted', average, warn_for)\n",
      "/usr/local/lib/python3.5/dist-packages/sklearn/metrics/classification.py:1135: UndefinedMetricWarning: Precision is ill-defined and being set to 0.0 due to no predicted samples.\n",
      "  'precision', 'predicted', average, warn_for)\n"
     ]
    },
    {
     "name": "stdout",
     "output_type": "stream",
     "text": [
      "Accuracy for NBS is 0.733 +/-0.072\n",
      "Recall for NBS is: 0.214 +/-0.115\n",
      "Precision for NBS is: 0.242 +/-0.148\n",
      "Confusion Matrix : [tn, fp, fn, tp] \n",
      "[92 17 19  7]\n",
      "\n",
      "Pour  Musical ----------\n",
      "Accuracy for NBS is 0.793 +/-0.086\n",
      "Recall for NBS is: 0.173 +/-0.259\n",
      "Precision for NBS is: 0.233 +/-0.291\n",
      "Confusion Matrix : [tn, fp, fn, tp] \n",
      "[95 19 14  7]\n",
      "\n",
      "Pour  Pop ----------\n",
      "Accuracy for NBS is 0.652 +/-0.156\n",
      "Recall for NBS is: 0.205 +/-0.046\n",
      "Precision for NBS is: 0.412 +/-0.321\n",
      "Confusion Matrix : [tn, fp, fn, tp] \n",
      "[79 21 25 10]\n",
      "\n",
      "Pour  Rock ----------\n",
      "Accuracy for NBS is 0.548 +/-0.054\n",
      "Recall for NBS is: 0.434 +/-0.245\n",
      "Precision for NBS is: 0.405 +/-0.182\n",
      "Confusion Matrix : [tn, fp, fn, tp] \n",
      "[68 13 42 12]\n",
      "\n",
      "Pour  Metal or Hardrock ----------\n"
     ]
    },
    {
     "name": "stderr",
     "output_type": "stream",
     "text": [
      "/usr/local/lib/python3.5/dist-packages/sklearn/metrics/classification.py:1135: UndefinedMetricWarning: Precision is ill-defined and being set to 0.0 due to no predicted samples.\n",
      "  'precision', 'predicted', average, warn_for)\n",
      "/usr/local/lib/python3.5/dist-packages/sklearn/metrics/classification.py:1135: UndefinedMetricWarning: Precision is ill-defined and being set to 0.0 due to no predicted samples.\n",
      "  'precision', 'predicted', average, warn_for)\n",
      "/usr/local/lib/python3.5/dist-packages/sklearn/metrics/classification.py:1135: UndefinedMetricWarning: Precision is ill-defined and being set to 0.0 due to no predicted samples.\n",
      "  'precision', 'predicted', average, warn_for)\n",
      "/usr/local/lib/python3.5/dist-packages/sklearn/metrics/classification.py:1135: UndefinedMetricWarning: Precision is ill-defined and being set to 0.0 due to no predicted samples.\n",
      "  'precision', 'predicted', average, warn_for)\n",
      "/usr/local/lib/python3.5/dist-packages/sklearn/metrics/classification.py:1135: UndefinedMetricWarning: Precision is ill-defined and being set to 0.0 due to no predicted samples.\n",
      "  'precision', 'predicted', average, warn_for)\n",
      "/usr/local/lib/python3.5/dist-packages/sklearn/metrics/classification.py:1135: UndefinedMetricWarning: Precision is ill-defined and being set to 0.0 due to no predicted samples.\n",
      "  'precision', 'predicted', average, warn_for)\n"
     ]
    },
    {
     "name": "stdout",
     "output_type": "stream",
     "text": [
      "Accuracy for NBS is 0.889 +/-0.041\n",
      "Recall for NBS is: 0.100 +/-0.200\n",
      "Precision for NBS is: 0.133 +/-0.267\n",
      "Confusion Matrix : [tn, fp, fn, tp] \n",
      "[112  10  11   2]\n",
      "\n",
      "Pour  Punk ----------\n",
      "Accuracy for NBS is 0.881 +/-0.068\n",
      "Recall for NBS is: 0.100 +/-0.200\n",
      "Precision for NBS is: 0.200 +/-0.400\n",
      "Confusion Matrix : [tn, fp, fn, tp] \n",
      "[108  13  14   0]\n",
      "\n",
      "Pour  Hiphop, Rap ----------\n",
      "Accuracy for NBS is 0.815 +/-0.052\n",
      "Recall for NBS is: 0.333 +/-0.220\n",
      "Precision for NBS is: 0.400 +/-0.235\n",
      "Confusion Matrix : [tn, fp, fn, tp] \n",
      "[104   8  17   6]\n",
      "\n",
      "Pour  Reggae, Ska ----------\n",
      "Accuracy for NBS is 0.867 +/-0.030\n",
      "Recall for NBS is: 0.240 +/-0.388\n",
      "Precision for NBS is: 0.233 +/-0.389\n",
      "Confusion Matrix : [tn, fp, fn, tp] \n",
      "[115   6  11   3]\n",
      "\n",
      "Pour  Swing, Jazz ----------\n",
      "Accuracy for NBS is 0.815 +/-0.062\n",
      "Recall for NBS is: 0.167 +/-0.211\n",
      "Precision for NBS is: 0.107 +/-0.137\n",
      "Confusion Matrix : [tn, fp, fn, tp] \n",
      "[102  17  14   2]\n",
      "\n",
      "Pour  Rock n roll ----------\n",
      "Accuracy for NBS is 0.711 +/-0.049\n",
      "Recall for NBS is: 0.065 +/-0.083\n",
      "Precision for NBS is: 0.229 +/-0.390\n",
      "Confusion Matrix : [tn, fp, fn, tp] \n",
      "[102   8  22   3]\n",
      "\n",
      "Pour  Alternative ----------\n",
      "Accuracy for NBS is 0.807 +/-0.049\n",
      "Recall for NBS is: 0.223 +/-0.162\n",
      "Precision for NBS is: 0.483 +/-0.343\n",
      "Confusion Matrix : [tn, fp, fn, tp] \n",
      "[100  13  15   7]\n",
      "\n",
      "Pour  Latino ----------\n",
      "Accuracy for NBS is 0.793 +/-0.030\n",
      "Recall for NBS is: 0.229 +/-0.228\n",
      "Precision for NBS is: 0.367 +/-0.371\n",
      "Confusion Matrix : [tn, fp, fn, tp] \n",
      "[91 20 17  7]\n",
      "\n",
      "Pour  Techno, Trance ----------\n",
      "Accuracy for NBS is 0.852 +/-0.112\n",
      "Recall for NBS is: 0.000 +/-0.000\n",
      "Precision for NBS is: 0.000 +/-0.000\n",
      "Confusion Matrix : [tn, fp, fn, tp] \n",
      "[116   8  10   1]\n",
      "\n",
      "Pour  Opera ----------\n",
      "Accuracy for NBS is 0.911 +/-0.055\n",
      "Recall for NBS is: 0.000 +/-0.000\n",
      "Precision for NBS is: 0.000 +/-0.000\n",
      "Confusion Matrix : [tn, fp, fn, tp] \n",
      "[119   7   5   4]\n",
      "\n"
     ]
    },
    {
     "name": "stderr",
     "output_type": "stream",
     "text": [
      "/usr/local/lib/python3.5/dist-packages/sklearn/metrics/classification.py:1135: UndefinedMetricWarning: Precision is ill-defined and being set to 0.0 due to no predicted samples.\n",
      "  'precision', 'predicted', average, warn_for)\n",
      "/usr/local/lib/python3.5/dist-packages/sklearn/metrics/classification.py:1135: UndefinedMetricWarning: Precision is ill-defined and being set to 0.0 due to no predicted samples.\n",
      "  'precision', 'predicted', average, warn_for)\n",
      "/usr/local/lib/python3.5/dist-packages/sklearn/metrics/classification.py:1135: UndefinedMetricWarning: Precision is ill-defined and being set to 0.0 due to no predicted samples.\n",
      "  'precision', 'predicted', average, warn_for)\n",
      "/usr/local/lib/python3.5/dist-packages/sklearn/metrics/classification.py:1137: UndefinedMetricWarning: Recall is ill-defined and being set to 0.0 due to no true samples.\n",
      "  'recall', 'true', average, warn_for)\n",
      "/usr/local/lib/python3.5/dist-packages/sklearn/metrics/classification.py:1135: UndefinedMetricWarning: Precision is ill-defined and being set to 0.0 due to no predicted samples.\n",
      "  'precision', 'predicted', average, warn_for)\n",
      "/usr/local/lib/python3.5/dist-packages/sklearn/metrics/classification.py:1135: UndefinedMetricWarning: Precision is ill-defined and being set to 0.0 due to no predicted samples.\n",
      "  'precision', 'predicted', average, warn_for)\n"
     ]
    }
   ],
   "source": [
    "predictAllModels(data_select_bin, data_music_bin, clfs)"
   ]
  },
  {
   "cell_type": "markdown",
   "metadata": {},
   "source": [
    "On remarque que le rappel et la précision sont souvent faibles, voire égaux à zéro. On affiche donc la matrice de confusion pour avoir une meilleure interprétation des résultats. \n",
    "\n",
    "#### REMARQUE : Les warnings ci-dessus sont dûs à l'absence de représentants de la classe 0 dans les jeux d'entraînement. On pourrait y remédier en utilisant une méthode différente pour le split, par exemple, prendre un certain nombre de représentants de la classe 0 et un certain nombre de représentants de la classe 1. Cela serait une piste pour approfondir. Cependant, on préfère s'intéresser d'abord à la suite, notamment la régression.\n",
    "\n",
    "#### Analyse critique des résultats \n",
    "\n",
    "On a pu remarquer en analysant les données que la classe 1 très souvent majoritaire par rapport à la classe 0. Ainsi, le modèle a assez peu de chance de prédire 0 puisqu'il a une moins bonne idée des cas qui donneraient cette classe. Cela explique les valeurs faibles pour les faux positifs et vrais positifs. Les vrais négatifs correspondent aux individus correctement placés dans la classe 1. \n",
    "\n",
    "### Plus loin avec les variables explicatives... \n",
    "\n",
    "Puisque l'apprentissage est plus pertinent et plus satisfaisant sur des classes binaires, on s'intéresse désormais aux variables explicatives qui ont le plus d'importance dans la prédiction. \n",
    "On sélectionnera ensuite uniquement ces variables pour faire un nouveau modèle. "
   ]
  },
  {
   "cell_type": "code",
   "execution_count": 87,
   "metadata": {},
   "outputs": [],
   "source": [
    "X_train, X_test, y_train, y_test = train_test_split(data_select_bin, data_music_bin, test_size=0.25, random_state=42)"
   ]
  },
  {
   "cell_type": "code",
   "execution_count": 88,
   "metadata": {},
   "outputs": [
    {
     "name": "stdout",
     "output_type": "stream",
     "text": [
      "(505, 57)\n",
      "(169, 57)\n",
      "(505, 17)\n",
      "(169, 17)\n"
     ]
    }
   ],
   "source": [
    "print(X_train.shape)\n",
    "print(X_test.shape)\n",
    "print(y_train.shape)\n",
    "print(y_test.shape)"
   ]
  },
  {
   "cell_type": "code",
   "execution_count": 93,
   "metadata": {},
   "outputs": [
    {
     "name": "stdout",
     "output_type": "stream",
     "text": [
      "[37  9 38 44 53 39  0 40 27 56 47 45 16  4 42 11 35 41 30 43 34 48 49 50\n",
      "  6 13  1  2 21 26 36 46 52 19 22 32 55 14  5 31  3  7 28 20 24 12 10 17\n",
      " 15 54 25 51 18 23  8 29 33]\n"
     ]
    },
    {
     "data": {
      "image/png": "[encoded data removed]",
      "text/plain": [
       "<matplotlib.figure.Figure at 0x7feb03bd2390>"
      ]
     },
     "metadata": {},
     "output_type": "display_data"
    }
   ],
   "source": [
    "import matplotlib.pyplot as plt\n",
    "\n",
    "clf = RandomForestClassifier()\n",
    "\n",
    "clf.fit(data_select_bin, data_music_bin)\n",
    "importances=clf.feature_importances_\n",
    "\n",
    "sorted_idx = np.argsort(importances)[::-1]\n",
    "print(sorted_idx)\n",
    "\n",
    "# On en garde 8 (sqrt(57))\n",
    "\n",
    "features =np.arange(1, data_select_bin.shape[1]+1)\n",
    "padding = np.arange(data_select_bin.size/len(data_select_bin)) + 2\n",
    "plt.barh(padding, importances[sorted_idx], align='center')\n",
    "plt.yticks(padding, features[sorted_idx]-1)\n",
    "plt.xlabel(\"Relative Importance\")\n",
    "plt.title(\"Variable Importance\")\n",
    "plt.rcParams[\"figure.figsize\"]=[10,7]\n",
    "plt.show()"
   ]
  },
  {
   "cell_type": "markdown",
   "metadata": {},
   "source": [
    "Puisqu'on a ici 57 variables explicatives, on en garde 8 (en arrondissant la racine carrée de 57). On garde donc les variables explicatives d'index correspondant aux huit premiers de la liste ci-dessus. On entraine à nouveau le modèle avec seulement ces 8 variables explicatives. "
   ]
  },
  {
   "cell_type": "code",
   "execution_count": 94,
   "metadata": {},
   "outputs": [
    {
     "name": "stdout",
     "output_type": "stream",
     "text": [
      "(674, 8)\n"
     ]
    }
   ],
   "source": [
    "data_kept = data_select_bin.iloc[:,[30,3,4,20,43,21,42,38]]\n",
    "print(data_kept.shape)"
   ]
  },
  {
   "cell_type": "code",
   "execution_count": 95,
   "metadata": {},
   "outputs": [
    {
     "name": "stdout",
     "output_type": "stream",
     "text": [
      "Dance : Accuracy is 0.733 +/-0.072\n",
      "Folk : Accuracy is 0.859 +/-0.043\n",
      "Country : Accuracy is 0.896 +/-0.036\n",
      "Classical music : Accuracy is 0.770 +/-0.043\n",
      "Musical : Accuracy is 0.726 +/-0.044\n",
      "Pop : Accuracy is 0.659 +/-0.072\n",
      "Rock : Accuracy is 0.526 +/-0.154\n",
      "Metal or Hardrock : Accuracy is 0.763 +/-0.083\n",
      "Punk : Accuracy is 0.830 +/-0.083\n",
      "Hiphop, Rap : Accuracy is 0.793 +/-0.065\n",
      "Reggae, Ska : Accuracy is 0.733 +/-0.089\n",
      "Swing, Jazz : Accuracy is 0.822 +/-0.068\n",
      "Rock n roll : Accuracy is 0.785 +/-0.072\n",
      "Alternative : Accuracy is 0.778 +/-0.139\n",
      "Latino : Accuracy is 0.778 +/-0.052\n",
      "Techno, Trance : Accuracy is 0.852 +/-0.047\n",
      "Opera : Accuracy is 0.859 +/-0.028\n"
     ]
    }
   ],
   "source": [
    "predictForAll(data_kept, data_music_bin, DecisionTreeClassifier())"
   ]
  },
  {
   "cell_type": "code",
   "execution_count": 96,
   "metadata": {},
   "outputs": [
    {
     "name": "stdout",
     "output_type": "stream",
     "text": [
      "[0.08068119 0.07500739 0.04721887 0.04026837 0.03231908 0.02940453\n",
      " 0.02828494 0.02738876 0.02474915 0.0228871  0.02252187 0.02140691\n",
      " 0.01992692 0.01885658 0.01840096]\n",
      "0.5093226170267429\n"
     ]
    }
   ],
   "source": [
    "from sklearn import decomposition\n",
    "\n",
    "# Standarisation des données \n",
    "scaler = StandardScaler()\n",
    "scaler.fit(data_select_bin)\n",
    "x=scaler.transform(data_select_bin)\n",
    "\n",
    "# lance l'analyse en composantes principales\n",
    "pca = decomposition.PCA(n_components=15)\n",
    "pca.fit(x)\n",
    "X_pca = pca.transform(x)\n",
    "print(pca.explained_variance_ratio_)\n",
    "print(pca.explained_variance_ratio_.sum())"
   ]
  },
  {
   "cell_type": "markdown",
   "metadata": {},
   "source": [
    "On pourrait garder 15 des combinaisons linéaires car elles permettent d'obtenir 50% de l'information. Cependant, cela représente un grand nombre de variables explicatives, dont aucune n'est réellement significatives (jamais au dessus de 0,1).\n",
    "\n",
    "Dans une dernière partie, on va tenter la méthode de regréssion plutôt que de classification. En effet plutôt que de considérer une note donnée à un style de musique comme une classe, on la considère comme un nombre entre 1 et 5. On cherche donc à retrouver cette note. On cherche donc un nombre décimal cette fois. Par exemple, pour une note de 4, le modèle pourra retourner 4,2. Cette valeur est plus proche de 4 que de 2, l'évaluation sera bonne. "
   ]
  },
  {
   "cell_type": "markdown",
   "metadata": {},
   "source": [
    "## Régression \n",
    "\n",
    "On repend dès l'import des données pour plus de clarté puisque cette partie est totalement indépendante. "
   ]
  },
  {
   "cell_type": "code",
   "execution_count": 97,
   "metadata": {},
   "outputs": [
    {
     "name": "stdout",
     "output_type": "stream",
     "text": [
      "(1010, 150)\n",
      "(674, 150)\n",
      "Index(['Music', 'Slow songs or fast songs', 'Dance', 'Folk', 'Country',\n",
      "       'Classical music', 'Musical', 'Pop', 'Rock', 'Metal or Hardrock',\n",
      "       ...\n",
      "       'Age', 'Height', 'Weight', 'Number of siblings', 'Gender',\n",
      "       'Left - right handed', 'Education', 'Only child', 'Village - town',\n",
      "       'House - block of flats'],\n",
      "      dtype='object', length=150)\n"
     ]
    }
   ],
   "source": [
    "# import des données \n",
    "data_reg = pd.read_csv('../Source/responses.csv')\n",
    "print(data_reg.shape)\n",
    "\n",
    "data_reg = data_reg.dropna()\n",
    "\n",
    "# remplacer les variables catégorielles et normaliser les valeurs \n",
    "for column in data_reg.columns : \n",
    "    data_reg[column] = data_reg[column].astype('category')\n",
    "    data_reg[column] = data_reg[column].cat.codes\n",
    "\n",
    "print(data_reg.shape)\n",
    "print(data_reg.columns)"
   ]
  },
  {
   "cell_type": "code",
   "execution_count": 100,
   "metadata": {},
   "outputs": [
    {
     "name": "stdout",
     "output_type": "stream",
     "text": [
      "(674, 57)\n",
      "(674, 17)\n",
      "(135, 57) <class 'pandas.core.frame.DataFrame'>\n",
      "(135, 17) <class 'pandas.core.frame.DataFrame'>\n"
     ]
    },
    {
     "ename": "ValueError",
     "evalue": "x and y must be the same size",
     "output_type": "error",
     "traceback": [
      "\u001b[0;31m---------------------------------------------------------------------------\u001b[0m",
      "\u001b[0;31mValueError\u001b[0m                                Traceback (most recent call last)",
      "\u001b[0;32m<ipython-input-100-c5c1c816665c>\u001b[0m in \u001b[0;36m<module>\u001b[0;34m()\u001b[0m\n\u001b[1;32m     16\u001b[0m \u001b[0mprint\u001b[0m\u001b[0;34m(\u001b[0m\u001b[0mX_test_reg\u001b[0m\u001b[0;34m.\u001b[0m\u001b[0mshape\u001b[0m\u001b[0;34m,\u001b[0m \u001b[0mtype\u001b[0m\u001b[0;34m(\u001b[0m\u001b[0mX_test_reg\u001b[0m\u001b[0;34m)\u001b[0m\u001b[0;34m)\u001b[0m\u001b[0;34m\u001b[0m\u001b[0m\n\u001b[1;32m     17\u001b[0m \u001b[0mprint\u001b[0m\u001b[0;34m(\u001b[0m\u001b[0my_test_reg\u001b[0m\u001b[0;34m.\u001b[0m\u001b[0mshape\u001b[0m\u001b[0;34m,\u001b[0m \u001b[0mtype\u001b[0m\u001b[0;34m(\u001b[0m\u001b[0my_test_reg\u001b[0m\u001b[0;34m)\u001b[0m\u001b[0;34m)\u001b[0m\u001b[0;34m\u001b[0m\u001b[0m\n\u001b[0;32m---> 18\u001b[0;31m \u001b[0mplt\u001b[0m\u001b[0;34m.\u001b[0m\u001b[0mscatter\u001b[0m\u001b[0;34m(\u001b[0m\u001b[0mX_test_reg\u001b[0m\u001b[0;34m.\u001b[0m\u001b[0mvalues\u001b[0m\u001b[0;34m,\u001b[0m \u001b[0my_test_reg\u001b[0m\u001b[0;34m.\u001b[0m\u001b[0mvalues\u001b[0m\u001b[0;34m,\u001b[0m \u001b[0mcolor\u001b[0m\u001b[0;34m=\u001b[0m\u001b[0;34m'black'\u001b[0m\u001b[0;34m)\u001b[0m\u001b[0;34m\u001b[0m\u001b[0m\n\u001b[0m\u001b[1;32m     19\u001b[0m \u001b[0mplt\u001b[0m\u001b[0;34m.\u001b[0m\u001b[0mplot\u001b[0m\u001b[0;34m(\u001b[0m\u001b[0mX_test_reg\u001b[0m\u001b[0;34m.\u001b[0m\u001b[0mvalues\u001b[0m\u001b[0;34m,\u001b[0m \u001b[0my_pred_reg\u001b[0m\u001b[0;34m.\u001b[0m\u001b[0mvalues\u001b[0m\u001b[0;34m,\u001b[0m \u001b[0mcolor\u001b[0m\u001b[0;34m=\u001b[0m\u001b[0;34m'blue'\u001b[0m\u001b[0;34m,\u001b[0m \u001b[0mlinewidth\u001b[0m\u001b[0;34m=\u001b[0m\u001b[0;36m3\u001b[0m\u001b[0;34m)\u001b[0m\u001b[0;34m\u001b[0m\u001b[0m\n",
      "\u001b[0;32m/usr/local/lib/python3.5/dist-packages/matplotlib/pyplot.py\u001b[0m in \u001b[0;36mscatter\u001b[0;34m(x, y, s, c, marker, cmap, norm, vmin, vmax, alpha, linewidths, verts, edgecolors, hold, data, **kwargs)\u001b[0m\n\u001b[1;32m   3376\u001b[0m                          \u001b[0mvmin\u001b[0m\u001b[0;34m=\u001b[0m\u001b[0mvmin\u001b[0m\u001b[0;34m,\u001b[0m \u001b[0mvmax\u001b[0m\u001b[0;34m=\u001b[0m\u001b[0mvmax\u001b[0m\u001b[0;34m,\u001b[0m \u001b[0malpha\u001b[0m\u001b[0;34m=\u001b[0m\u001b[0malpha\u001b[0m\u001b[0;34m,\u001b[0m\u001b[0;34m\u001b[0m\u001b[0m\n\u001b[1;32m   3377\u001b[0m                          \u001b[0mlinewidths\u001b[0m\u001b[0;34m=\u001b[0m\u001b[0mlinewidths\u001b[0m\u001b[0;34m,\u001b[0m \u001b[0mverts\u001b[0m\u001b[0;34m=\u001b[0m\u001b[0mverts\u001b[0m\u001b[0;34m,\u001b[0m\u001b[0;34m\u001b[0m\u001b[0m\n\u001b[0;32m-> 3378\u001b[0;31m                          edgecolors=edgecolors, data=data, **kwargs)\n\u001b[0m\u001b[1;32m   3379\u001b[0m     \u001b[0;32mfinally\u001b[0m\u001b[0;34m:\u001b[0m\u001b[0;34m\u001b[0m\u001b[0m\n\u001b[1;32m   3380\u001b[0m         \u001b[0max\u001b[0m\u001b[0;34m.\u001b[0m\u001b[0m_hold\u001b[0m \u001b[0;34m=\u001b[0m \u001b[0mwashold\u001b[0m\u001b[0;34m\u001b[0m\u001b[0m\n",
      "\u001b[0;32m/usr/local/lib/python3.5/dist-packages/matplotlib/__init__.py\u001b[0m in \u001b[0;36minner\u001b[0;34m(ax, *args, **kwargs)\u001b[0m\n\u001b[1;32m   1715\u001b[0m                     warnings.warn(msg % (label_namer, func.__name__),\n\u001b[1;32m   1716\u001b[0m                                   RuntimeWarning, stacklevel=2)\n\u001b[0;32m-> 1717\u001b[0;31m             \u001b[0;32mreturn\u001b[0m \u001b[0mfunc\u001b[0m\u001b[0;34m(\u001b[0m\u001b[0max\u001b[0m\u001b[0;34m,\u001b[0m \u001b[0;34m*\u001b[0m\u001b[0margs\u001b[0m\u001b[0;34m,\u001b[0m \u001b[0;34m**\u001b[0m\u001b[0mkwargs\u001b[0m\u001b[0;34m)\u001b[0m\u001b[0;34m\u001b[0m\u001b[0m\n\u001b[0m\u001b[1;32m   1718\u001b[0m         \u001b[0mpre_doc\u001b[0m \u001b[0;34m=\u001b[0m \u001b[0minner\u001b[0m\u001b[0;34m.\u001b[0m\u001b[0m__doc__\u001b[0m\u001b[0;34m\u001b[0m\u001b[0m\n\u001b[1;32m   1719\u001b[0m         \u001b[0;32mif\u001b[0m \u001b[0mpre_doc\u001b[0m \u001b[0;32mis\u001b[0m \u001b[0;32mNone\u001b[0m\u001b[0;34m:\u001b[0m\u001b[0;34m\u001b[0m\u001b[0m\n",
      "\u001b[0;32m/usr/local/lib/python3.5/dist-packages/matplotlib/axes/_axes.py\u001b[0m in \u001b[0;36mscatter\u001b[0;34m(self, x, y, s, c, marker, cmap, norm, vmin, vmax, alpha, linewidths, verts, edgecolors, **kwargs)\u001b[0m\n\u001b[1;32m   3950\u001b[0m         \u001b[0my\u001b[0m \u001b[0;34m=\u001b[0m \u001b[0mnp\u001b[0m\u001b[0;34m.\u001b[0m\u001b[0mma\u001b[0m\u001b[0;34m.\u001b[0m\u001b[0mravel\u001b[0m\u001b[0;34m(\u001b[0m\u001b[0my\u001b[0m\u001b[0;34m)\u001b[0m\u001b[0;34m\u001b[0m\u001b[0m\n\u001b[1;32m   3951\u001b[0m         \u001b[0;32mif\u001b[0m \u001b[0mx\u001b[0m\u001b[0;34m.\u001b[0m\u001b[0msize\u001b[0m \u001b[0;34m!=\u001b[0m \u001b[0my\u001b[0m\u001b[0;34m.\u001b[0m\u001b[0msize\u001b[0m\u001b[0;34m:\u001b[0m\u001b[0;34m\u001b[0m\u001b[0m\n\u001b[0;32m-> 3952\u001b[0;31m             \u001b[0;32mraise\u001b[0m \u001b[0mValueError\u001b[0m\u001b[0;34m(\u001b[0m\u001b[0;34m\"x and y must be the same size\"\u001b[0m\u001b[0;34m)\u001b[0m\u001b[0;34m\u001b[0m\u001b[0m\n\u001b[0m\u001b[1;32m   3953\u001b[0m \u001b[0;34m\u001b[0m\u001b[0m\n\u001b[1;32m   3954\u001b[0m         \u001b[0;32mif\u001b[0m \u001b[0ms\u001b[0m \u001b[0;32mis\u001b[0m \u001b[0;32mNone\u001b[0m\u001b[0;34m:\u001b[0m\u001b[0;34m\u001b[0m\u001b[0m\n",
      "\u001b[0;31mValueError\u001b[0m: x and y must be the same size"
     ]
    },
    {
     "data": {
      "image/png": "[encoded data removed]",
      "text/plain": [
       "<matplotlib.figure.Figure at 0x7feb0385d860>"
      ]
     },
     "metadata": {},
     "output_type": "display_data"
    }
   ],
   "source": [
    "from sklearn.linear_model import LinearRegression\n",
    "\n",
    "data_expl_reg = data_reg.iloc[:,75:132]\n",
    "print(data_expl_reg.shape)\n",
    "target_reg = data_reg.iloc[:,2:19]\n",
    "print(target_reg.shape)\n",
    "\n",
    "lr = LinearRegression()\n",
    "X_train_reg, X_test_reg, y_train_reg, y_test_reg = train_test_split(data_expl_reg, target_reg, test_size=0.20, random_state=42)\n",
    "\n",
    "lr = lr.fit(X_train_reg,y_train_reg)\n",
    "\n",
    "y_pred_reg = lr.predict(X_test_reg)\n",
    "#print(\"Coeffs :\", lr.coef_)\n",
    "\n",
    "print(X_test_reg.shape, type(X_test_reg))\n",
    "print(y_test_reg.shape, type(y_test_reg))\n",
    "plt.scatter(X_test_reg.values, y_test_reg.values, color='black')\n",
    "plt.plot(X_test_reg.values, y_pred_reg.values, color='blue', linewidth=3)"
   ]
  },
  {
   "cell_type": "code",
   "execution_count": null,
   "metadata": {},
   "outputs": [],
   "source": []
  },
  {
   "cell_type": "code",
   "execution_count": null,
   "metadata": {},
   "outputs": [],
   "source": []
  }
 ],
 "metadata": {
  "kernelspec": {
   "display_name": "Python 3",
   "language": "python",
   "name": "python3"
  },
  "language_info": {
   "codemirror_mode": {
    "name": "ipython",
    "version": 3
   },
   "file_extension": ".py",
   "mimetype": "text/x-python",
   "name": "python",
   "nbconvert_exporter": "python",
   "pygments_lexer": "ipython3",
   "version": "3.5.2"
  }
 },
 "nbformat": 4,
 "nbformat_minor": 2
}
